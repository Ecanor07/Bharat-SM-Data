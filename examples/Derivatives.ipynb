{
 "cells": [
  {
   "cell_type": "code",
   "execution_count": 1,
   "id": "initial_id",
   "metadata": {
    "collapsed": true,
    "ExecuteTime": {
     "end_time": "2023-09-17T12:04:20.651292700Z",
     "start_time": "2023-09-17T12:04:18.450515500Z"
    }
   },
   "outputs": [
    {
     "name": "stdout",
     "output_type": "stream",
     "text": [
      "{'symbol': 'AARTIIND', 'companyName': 'Aarti Industries Limited', 'industry': 'CHEMICALS - SPECIALITY', 'activeSeries': ['EQ'], 'debtSeries': [], 'tempSuspendedSeries': [], 'isFNOSec': True, 'isCASec': False, 'isSLBSec': True, 'isDebtSec': False, 'isSuspended': False, 'isETFSec': False, 'isDelisted': False, 'isin': 'INE769A01020'}\n",
      "            t     o     h     l     c  v\n",
      "0  1694774400  10.9  10.9  10.9  10.9  0\n"
     ]
    }
   ],
   "source": [
    "import time\n",
    "\n",
    "import numpy as np\n",
    "from requests import Session\n",
    "import json\n",
    "from pydash import find\n",
    "import pandas as pd\n",
    "import numpy as np\n",
    "\n",
    "from Technical.NSE import NSE\n",
    "from Fundementals.TickerTape import Tickertape\n",
    "from Fundementals.MoneyControl import MoneyControl\n",
    "import time\n"
   ]
  },
  {
   "cell_type": "code",
   "execution_count": 2,
   "outputs": [],
   "source": [
    "session = Session()\n",
    "mc = MoneyControl()\n",
    "nse = NSE()\n",
    "ttp = Tickertape()"
   ],
   "metadata": {
    "collapsed": false,
    "ExecuteTime": {
     "end_time": "2023-09-17T12:04:21.591828300Z",
     "start_time": "2023-09-17T12:04:20.656000100Z"
    }
   },
   "id": "5cd75809f945516d"
  },
  {
   "cell_type": "code",
   "execution_count": 3,
   "outputs": [],
   "source": [
    "df = pd.read_excel('MCAP31032023_0.xlsx')"
   ],
   "metadata": {
    "collapsed": false,
    "ExecuteTime": {
     "end_time": "2023-09-17T12:04:23.401529100Z",
     "start_time": "2023-09-17T12:04:22.553931600Z"
    }
   },
   "id": "4bd6c841a6b00eca"
  },
  {
   "cell_type": "code",
   "execution_count": null,
   "outputs": [],
   "source": [
    "df"
   ],
   "metadata": {
    "collapsed": false
   },
   "id": "8596f4e08849382e"
  },
  {
   "cell_type": "code",
   "execution_count": 4,
   "outputs": [],
   "source": [
    "def get_nse_unique_code(ticker):\n",
    "    time.sleep(1)\n",
    "    data = nse.get_nse_equity_meta_info(ticker)\n",
    "    return data.get('isin', np.nan)"
   ],
   "metadata": {
    "collapsed": false,
    "ExecuteTime": {
     "end_time": "2023-09-17T12:04:27.222073300Z",
     "start_time": "2023-09-17T12:04:27.210933100Z"
    }
   },
   "id": "1c0f3defbbef9e71"
  },
  {
   "cell_type": "code",
   "execution_count": null,
   "outputs": [],
   "source": [
    "# get_nse_unique_code('JSWENERGY')\n",
    "get_nse_unique_code('RELIANCE')"
   ],
   "metadata": {
    "collapsed": false
   },
   "id": "bc3a8041892f85e2"
  },
  {
   "cell_type": "code",
   "execution_count": null,
   "outputs": [],
   "source": [
    "df['nse_code'] = df['Symbol'].apply(get_nse_unique_code)"
   ],
   "metadata": {
    "collapsed": false
   },
   "id": "93a0fbb97a128b87"
  },
  {
   "cell_type": "code",
   "execution_count": 5,
   "outputs": [],
   "source": [
    "def ttp_tickers(company_name, nse_ticker):\n",
    "    count = 0\n",
    "    res = np.nan\n",
    "    while count < 3:\n",
    "        try:\n",
    "            time.sleep(10)\n",
    "            _, data = ttp.get_ticker(company_name, search_place='stock')\n",
    "            for x in data:\n",
    "                if x.get('ticker', '') == nse_ticker:\n",
    "                    res = x.get('sid')\n",
    "                    break\n",
    "        except:\n",
    "            pass\n",
    "        count += 1\n",
    "    print(f'Done for {nse_ticker} and res = {res}')\n",
    "    return res\n",
    "    "
   ],
   "metadata": {
    "collapsed": false,
    "ExecuteTime": {
     "end_time": "2023-09-17T12:04:29.498732200Z",
     "start_time": "2023-09-17T12:04:29.438673100Z"
    }
   },
   "id": "430ba655f67ba04b"
  },
  {
   "cell_type": "code",
   "execution_count": 7,
   "outputs": [
    {
     "name": "stdout",
     "output_type": "stream",
     "text": [
      "Error in connecting to url : https://api.tickertape.in/search Error : HTTPSConnectionPool(host='api.tickertape.in', port=443): Max retries exceeded with url: /search?text=RELIANCE&types=stock&pageNumber=0 (Caused by ResponseError('too many 403 error responses'))\n",
      "Error in connecting to url : https://api.tickertape.in/search Error : HTTPSConnectionPool(host='api.tickertape.in', port=443): Max retries exceeded with url: /search?text=RELIANCE&types=stock&pageNumber=0 (Caused by ResponseError('too many 403 error responses'))\n",
      "Error in connecting to url : https://api.tickertape.in/search Error : HTTPSConnectionPool(host='api.tickertape.in', port=443): Max retries exceeded with url: /search?text=RELIANCE&types=stock&pageNumber=0 (Caused by ResponseError('too many 403 error responses'))\n",
      "Done for RELIANCE and res = nan\n"
     ]
    },
    {
     "data": {
      "text/plain": "nan"
     },
     "execution_count": 7,
     "metadata": {},
     "output_type": "execute_result"
    }
   ],
   "source": [
    "ttp_tickers('RELIANCE', 'RELIANCE')"
   ],
   "metadata": {
    "collapsed": false,
    "ExecuteTime": {
     "end_time": "2023-09-17T13:39:07.245788500Z",
     "start_time": "2023-09-17T13:38:34.727139500Z"
    }
   },
   "id": "b2cfaedbb02227e6"
  },
  {
   "cell_type": "code",
   "execution_count": null,
   "outputs": [],
   "source": [
    "df['nse_ticker'] = df.apply(lambda x : ttp_tickers(x['Company Name'], x['Symbol']), axis=1)"
   ],
   "metadata": {
    "collapsed": false
   },
   "id": "13ab45b2a7b44fe6"
  },
  {
   "cell_type": "code",
   "execution_count": null,
   "outputs": [],
   "source": [
    "df.to_csv('nse_ttp_ticker_mappings.csv', index=False)"
   ],
   "metadata": {
    "collapsed": false
   },
   "id": "d71660b6796d4ba5"
  },
  {
   "cell_type": "code",
   "execution_count": null,
   "outputs": [],
   "source": [
    "/home/ubuntu/projects/envs/sm-data/bin/python /home/ubuntu/projects/ind-sm-data/examples/ticker_mapper.py "
   ],
   "metadata": {
    "collapsed": false
   },
   "id": "b4d024723fdf2bc1"
  },
  {
   "cell_type": "code",
   "execution_count": null,
   "outputs": [],
   "source": [
    "[Unit]\n",
    "Description=ticker_mapper\n",
    "After=network.target\n",
    "\n",
    "[Service]\n",
    "User=ubuntu\n",
    "WorkingDirectory=/home/ubuntu/projects/ind-sm-data/examples\n",
    "ExecStartPre=/home/ubuntu/projects/envs/server_misc_env/bin/python3 notification.py ticker_mapper UP\n",
    "ExecStart=/home/ubuntu/projects/envs/sm-data/bin/python /home/ubuntu/projects/ind-sm-data/examples/ticker_mapper.py \n",
    "ExecStopPost=/home/ubuntu/projects/envs/server_misc_env/bin/python3 notification.py ticker_mapper DOWN\n",
    "Restart=always\n",
    "\n",
    "[Install]\n",
    "WantedBy=multi-user.target"
   ],
   "metadata": {
    "collapsed": false
   },
   "id": "7ff3ff4a17dcee99"
  },
  {
   "cell_type": "code",
   "execution_count": 1,
   "outputs": [
    {
     "ename": "ModuleNotFoundError",
     "evalue": "No module named 'ind_sm_data'",
     "output_type": "error",
     "traceback": [
      "\u001B[1;31m---------------------------------------------------------------------------\u001B[0m",
      "\u001B[1;31mModuleNotFoundError\u001B[0m                       Traceback (most recent call last)",
      "Cell \u001B[1;32mIn[1], line 1\u001B[0m\n\u001B[1;32m----> 1\u001B[0m \u001B[38;5;28;01mfrom\u001B[39;00m \u001B[38;5;21;01mind_sm_data\u001B[39;00m \u001B[38;5;28;01mimport\u001B[39;00m  Base\n",
      "\u001B[1;31mModuleNotFoundError\u001B[0m: No module named 'ind_sm_data'"
     ]
    }
   ],
   "source": [
    "from ind_sm_data import  Base"
   ],
   "metadata": {
    "collapsed": false,
    "ExecuteTime": {
     "end_time": "2023-09-18T09:54:41.960444800Z",
     "start_time": "2023-09-18T09:54:41.534683900Z"
    }
   },
   "id": "66bf369689077c3a"
  },
  {
   "cell_type": "code",
   "execution_count": 1,
   "outputs": [
    {
     "ename": "ModuleNotFoundError",
     "evalue": "No module named 'CustomRequest'",
     "output_type": "error",
     "traceback": [
      "\u001B[1;31m---------------------------------------------------------------------------\u001B[0m",
      "\u001B[1;31mModuleNotFoundError\u001B[0m                       Traceback (most recent call last)",
      "Cell \u001B[1;32mIn[1], line 1\u001B[0m\n\u001B[1;32m----> 1\u001B[0m \u001B[38;5;28;01mfrom\u001B[39;00m \u001B[38;5;21;01mBharat_sm_data\u001B[39;00m\u001B[38;5;21;01m.\u001B[39;00m\u001B[38;5;21;01mBase\u001B[39;00m \u001B[38;5;28;01mimport\u001B[39;00m NSEBase\n",
      "File \u001B[1;32mD:\\Projects\\Ind-sm-data\\Bharat_sm_data\\Base\\__init__.py:1\u001B[0m\n\u001B[1;32m----> 1\u001B[0m \u001B[38;5;28;01mfrom\u001B[39;00m \u001B[38;5;21;01mCustomRequest\u001B[39;00m \u001B[38;5;28;01mimport\u001B[39;00m CustomSession\n\u001B[0;32m      2\u001B[0m \u001B[38;5;28;01mfrom\u001B[39;00m \u001B[38;5;21;01mNSEBase\u001B[39;00m \u001B[38;5;28;01mimport\u001B[39;00m NSEBase\n",
      "\u001B[1;31mModuleNotFoundError\u001B[0m: No module named 'CustomRequest'"
     ]
    }
   ],
   "source": [
    "from Bharat_sm_data.Base import NSEBase"
   ],
   "metadata": {
    "collapsed": false,
    "ExecuteTime": {
     "end_time": "2023-09-18T11:30:37.969737500Z",
     "start_time": "2023-09-18T11:30:37.531345500Z"
    }
   },
   "id": "dbd169969d6fefd3"
  },
  {
   "cell_type": "code",
   "execution_count": null,
   "outputs": [],
   "source": [],
   "metadata": {
    "collapsed": false
   },
   "id": "fa96d0fb6ebe8dfb"
  }
 ],
 "metadata": {
  "kernelspec": {
   "display_name": "Python 3",
   "language": "python",
   "name": "python3"
  },
  "language_info": {
   "codemirror_mode": {
    "name": "ipython",
    "version": 2
   },
   "file_extension": ".py",
   "mimetype": "text/x-python",
   "name": "python",
   "nbconvert_exporter": "python",
   "pygments_lexer": "ipython2",
   "version": "2.7.6"
  }
 },
 "nbformat": 4,
 "nbformat_minor": 5
}
