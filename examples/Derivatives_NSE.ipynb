{
 "cells": [
  {
   "cell_type": "code",
   "execution_count": 1,
   "id": "792179ce-aca2-4689-8f31-2be97e9bd678",
   "metadata": {
    "ExecuteTime": {
     "end_time": "2023-09-20T14:17:12.765879900Z",
     "start_time": "2023-09-20T14:17:11.643145700Z"
    }
   },
   "outputs": [],
   "source": [
    "from Derivatives import NSE\n",
    "from datetime import datetime"
   ]
  },
  {
   "cell_type": "code",
   "execution_count": 2,
   "id": "9aba62e3-6142-46e0-ae54-c1a97e760332",
   "metadata": {
    "ExecuteTime": {
     "end_time": "2023-09-20T14:17:13.110924300Z",
     "start_time": "2023-09-20T14:17:12.767881300Z"
    }
   },
   "outputs": [],
   "source": [
    "nse = NSE()"
   ]
  },
  {
   "cell_type": "markdown",
   "source": [
    "## Importnant Note\n",
    "- pass `is_index` = True\n",
    "    - always for any `future` and `options` only for `OHLC` data and also for all index ohlc data"
   ],
   "metadata": {
    "collapsed": false
   },
   "id": "457c781e9a0ea00"
  },
  {
   "cell_type": "markdown",
   "source": [
    "# Options \n",
    "## Indices Options\n",
    "\n",
    "### Allowed : NIFTY | FINNIFTY | BANKNIFTY | NIFTYMID50 | MIDCPNIFTY"
   ],
   "metadata": {
    "collapsed": false
   },
   "id": "332e6b40353ea90b"
  },
  {
   "cell_type": "code",
   "execution_count": 3,
   "outputs": [
    {
     "name": "stdout",
     "output_type": "stream",
     "text": [
      "SYRMA\n",
      "2023-09-20\n",
      "('Closed', 19901.4)\n",
      "{'symbol': 'SYRMA', 'companyName': 'Syrma SGS Technology Limited', 'activeSeries': ['EQ'], 'debtSeries': [], 'tempSuspendedSeries': [], 'isFNOSec': False, 'isCASec': False, 'isSLBSec': True, 'isDebtSec': False, 'isSuspended': False, 'isETFSec': False, 'isDelisted': False, 'isin': 'INE0DYJ01015'}\n"
     ]
    },
    {
     "data": {
      "text/plain": "            name  yesterday_volume  yesterday_value  yesterday_openInterest  \\\n0       Equities        6525172593     7.868674e+11                    0.00   \n1  Index Futures            220510     1.770392e+11               379572.00   \n2  Index Options         383485830     4.298573e+11             18244605.32   \n3  Stock Futures            800617     6.797073e+11              3292432.00   \n4  Stock Options           4392077     4.979391e+10              3149205.00   \n\n   today_volume   today_value  today_oivalue            today_date  \n0  4.716759e+09  9.018434e+11            NaN  20-Sep-2023 16:00:00  \n1  4.077010e+05  3.295063e+11       361836.0  20-Sep-2023 15:30:00  \n2  6.490212e+08  5.618137e+11     19788805.0  20-Sep-2023 15:30:00  \n3  1.042164e+06  8.553633e+11      3345648.0  20-Sep-2023 15:30:00  \n4  4.952001e+06  4.663399e+10      3271682.0  20-Sep-2023 15:30:00  ",
      "text/html": "<div>\n<style scoped>\n    .dataframe tbody tr th:only-of-type {\n        vertical-align: middle;\n    }\n\n    .dataframe tbody tr th {\n        vertical-align: top;\n    }\n\n    .dataframe thead th {\n        text-align: right;\n    }\n</style>\n<table border=\"1\" class=\"dataframe\">\n  <thead>\n    <tr style=\"text-align: right;\">\n      <th></th>\n      <th>name</th>\n      <th>yesterday_volume</th>\n      <th>yesterday_value</th>\n      <th>yesterday_openInterest</th>\n      <th>today_volume</th>\n      <th>today_value</th>\n      <th>today_oivalue</th>\n      <th>today_date</th>\n    </tr>\n  </thead>\n  <tbody>\n    <tr>\n      <th>0</th>\n      <td>Equities</td>\n      <td>6525172593</td>\n      <td>7.868674e+11</td>\n      <td>0.00</td>\n      <td>4.716759e+09</td>\n      <td>9.018434e+11</td>\n      <td>NaN</td>\n      <td>20-Sep-2023 16:00:00</td>\n    </tr>\n    <tr>\n      <th>1</th>\n      <td>Index Futures</td>\n      <td>220510</td>\n      <td>1.770392e+11</td>\n      <td>379572.00</td>\n      <td>4.077010e+05</td>\n      <td>3.295063e+11</td>\n      <td>361836.0</td>\n      <td>20-Sep-2023 15:30:00</td>\n    </tr>\n    <tr>\n      <th>2</th>\n      <td>Index Options</td>\n      <td>383485830</td>\n      <td>4.298573e+11</td>\n      <td>18244605.32</td>\n      <td>6.490212e+08</td>\n      <td>5.618137e+11</td>\n      <td>19788805.0</td>\n      <td>20-Sep-2023 15:30:00</td>\n    </tr>\n    <tr>\n      <th>3</th>\n      <td>Stock Futures</td>\n      <td>800617</td>\n      <td>6.797073e+11</td>\n      <td>3292432.00</td>\n      <td>1.042164e+06</td>\n      <td>8.553633e+11</td>\n      <td>3345648.0</td>\n      <td>20-Sep-2023 15:30:00</td>\n    </tr>\n    <tr>\n      <th>4</th>\n      <td>Stock Options</td>\n      <td>4392077</td>\n      <td>4.979391e+10</td>\n      <td>3149205.00</td>\n      <td>4.952001e+06</td>\n      <td>4.663399e+10</td>\n      <td>3271682.0</td>\n      <td>20-Sep-2023 15:30:00</td>\n    </tr>\n  </tbody>\n</table>\n</div>"
     },
     "execution_count": 3,
     "metadata": {},
     "output_type": "execute_result"
    }
   ],
   "source": [
    "# Some NSE basic functions this is available any NSE Object (Technical OR Derivatives)\n",
    "# searching\n",
    "search_res = nse.search('Syrma SGS')\n",
    "print(search_res.get('symbols')[0].get('symbol'))\n",
    "\n",
    "# Last Traded date\n",
    "print(nse.get_last_traded_date())\n",
    "\n",
    "# Last traded Status and Nifty val\n",
    "print(nse.get_market_status_and_current_val())\n",
    "\n",
    "# NSE Equity Meta info\n",
    "print(nse.get_nse_equity_meta_info('SYRMA'))\n",
    "\n",
    "# NSE turnover data\n",
    "trade_df = nse.get_nse_turnover()\n",
    "trade_df.head()"
   ],
   "metadata": {
    "collapsed": false,
    "ExecuteTime": {
     "end_time": "2023-09-20T14:17:15.296823100Z",
     "start_time": "2023-09-20T14:17:14.561195200Z"
    }
   },
   "id": "a95ec6721b245e1e"
  },
  {
   "cell_type": "code",
   "execution_count": 4,
   "outputs": [
    {
     "data": {
      "text/plain": "[datetime.datetime(2023, 9, 21, 0, 0),\n datetime.datetime(2023, 9, 28, 0, 0),\n datetime.datetime(2023, 10, 5, 0, 0),\n datetime.datetime(2023, 10, 12, 0, 0),\n datetime.datetime(2023, 10, 19, 0, 0),\n datetime.datetime(2023, 10, 26, 0, 0),\n datetime.datetime(2023, 11, 30, 0, 0),\n datetime.datetime(2023, 12, 28, 0, 0),\n datetime.datetime(2024, 3, 28, 0, 0),\n datetime.datetime(2024, 6, 27, 0, 0),\n datetime.datetime(2024, 12, 26, 0, 0),\n datetime.datetime(2025, 6, 26, 0, 0),\n datetime.datetime(2025, 12, 24, 0, 0),\n datetime.datetime(2026, 6, 25, 0, 0),\n datetime.datetime(2026, 12, 31, 0, 0),\n datetime.datetime(2027, 6, 24, 0, 0),\n datetime.datetime(2027, 12, 30, 0, 0),\n datetime.datetime(2028, 6, 29, 0, 0)]"
     },
     "execution_count": 4,
     "metadata": {},
     "output_type": "execute_result"
    }
   ],
   "source": [
    "nse.get_options_expiry('NIFTY', is_index=True) # List of Expires"
   ],
   "metadata": {
    "collapsed": false,
    "ExecuteTime": {
     "end_time": "2023-09-20T14:17:15.512882700Z",
     "start_time": "2023-09-20T14:17:15.242645600Z"
    }
   },
   "id": "e8c21e5b20b1fd7e"
  },
  {
   "cell_type": "code",
   "execution_count": 5,
   "outputs": [
    {
     "data": {
      "text/plain": "              expiryDate  PE_strikePrice PE_expiryDate PE_underlying  \\\nstrikePrice                                                            \n17750        21-Sep-2023           17750   21-Sep-2023         NIFTY   \n17800        21-Sep-2023           17800   21-Sep-2023         NIFTY   \n17850        21-Sep-2023           17850   21-Sep-2023         NIFTY   \n17900        21-Sep-2023           17900   21-Sep-2023         NIFTY   \n17950        21-Sep-2023           17950   21-Sep-2023         NIFTY   \n\n                               PE_identifier  PE_openInterest  \\\nstrikePrice                                                     \n17750        OPTIDXNIFTY21-09-2023PE17750.00            51811   \n17800        OPTIDXNIFTY21-09-2023PE17800.00            15100   \n17850        OPTIDXNIFTY21-09-2023PE17850.00             1171   \n17900        OPTIDXNIFTY21-09-2023PE17900.00             8054   \n17950        OPTIDXNIFTY21-09-2023PE17950.00             1523   \n\n             PE_changeinOpenInterest  PE_pchangeinOpenInterest  \\\nstrikePrice                                                      \n17750                          34779                204.197980   \n17800                          -3071                -16.900556   \n17850                            715                156.798246   \n17900                          -7916                -49.567940   \n17950                           1031                209.552846   \n\n             PE_totalTradedVolume  PE_impliedVolatility  ...  CE_lastPrice  \\\nstrikePrice                                              ...                 \n17750                      307486                 71.11  ...           0.0   \n17800                       81400                 70.82  ...           0.0   \n17850                       12021                 67.89  ...           0.0   \n17900                       60228                 66.29  ...           0.0   \n17950                       13029                 65.92  ...        1700.0   \n\n             CE_change  CE_pChange  CE_totalBuyQuantity  CE_totalSellQuantity  \\\nstrikePrice                                                                     \n17750              0.0         0.0                 8600                  8600   \n17800              0.0         0.0                 8600                  8600   \n17850              0.0         0.0                 8600                  8600   \n17900              0.0         0.0                 8600                  8600   \n17950              0.0         0.0                 9100                  8600   \n\n             CE_bidQty  CE_bidprice  CE_askQty  CE_askPrice  \\\nstrikePrice                                                   \n17750              500      2139.60        500       2199.3   \n17800              500      2089.65        500       2149.0   \n17850              500      2010.35        500       2118.5   \n17900              500      1989.65        500       2049.0   \n17950              500      1936.80        500       2018.4   \n\n             CE_underlyingValue  \nstrikePrice                      \n17750                   19901.4  \n17800                   19901.4  \n17850                   19901.4  \n17900                   19901.4  \n17950                   19901.4  \n\n[5 rows x 39 columns]",
      "text/html": "<div>\n<style scoped>\n    .dataframe tbody tr th:only-of-type {\n        vertical-align: middle;\n    }\n\n    .dataframe tbody tr th {\n        vertical-align: top;\n    }\n\n    .dataframe thead th {\n        text-align: right;\n    }\n</style>\n<table border=\"1\" class=\"dataframe\">\n  <thead>\n    <tr style=\"text-align: right;\">\n      <th></th>\n      <th>expiryDate</th>\n      <th>PE_strikePrice</th>\n      <th>PE_expiryDate</th>\n      <th>PE_underlying</th>\n      <th>PE_identifier</th>\n      <th>PE_openInterest</th>\n      <th>PE_changeinOpenInterest</th>\n      <th>PE_pchangeinOpenInterest</th>\n      <th>PE_totalTradedVolume</th>\n      <th>PE_impliedVolatility</th>\n      <th>...</th>\n      <th>CE_lastPrice</th>\n      <th>CE_change</th>\n      <th>CE_pChange</th>\n      <th>CE_totalBuyQuantity</th>\n      <th>CE_totalSellQuantity</th>\n      <th>CE_bidQty</th>\n      <th>CE_bidprice</th>\n      <th>CE_askQty</th>\n      <th>CE_askPrice</th>\n      <th>CE_underlyingValue</th>\n    </tr>\n    <tr>\n      <th>strikePrice</th>\n      <th></th>\n      <th></th>\n      <th></th>\n      <th></th>\n      <th></th>\n      <th></th>\n      <th></th>\n      <th></th>\n      <th></th>\n      <th></th>\n      <th></th>\n      <th></th>\n      <th></th>\n      <th></th>\n      <th></th>\n      <th></th>\n      <th></th>\n      <th></th>\n      <th></th>\n      <th></th>\n      <th></th>\n    </tr>\n  </thead>\n  <tbody>\n    <tr>\n      <th>17750</th>\n      <td>21-Sep-2023</td>\n      <td>17750</td>\n      <td>21-Sep-2023</td>\n      <td>NIFTY</td>\n      <td>OPTIDXNIFTY21-09-2023PE17750.00</td>\n      <td>51811</td>\n      <td>34779</td>\n      <td>204.197980</td>\n      <td>307486</td>\n      <td>71.11</td>\n      <td>...</td>\n      <td>0.0</td>\n      <td>0.0</td>\n      <td>0.0</td>\n      <td>8600</td>\n      <td>8600</td>\n      <td>500</td>\n      <td>2139.60</td>\n      <td>500</td>\n      <td>2199.3</td>\n      <td>19901.4</td>\n    </tr>\n    <tr>\n      <th>17800</th>\n      <td>21-Sep-2023</td>\n      <td>17800</td>\n      <td>21-Sep-2023</td>\n      <td>NIFTY</td>\n      <td>OPTIDXNIFTY21-09-2023PE17800.00</td>\n      <td>15100</td>\n      <td>-3071</td>\n      <td>-16.900556</td>\n      <td>81400</td>\n      <td>70.82</td>\n      <td>...</td>\n      <td>0.0</td>\n      <td>0.0</td>\n      <td>0.0</td>\n      <td>8600</td>\n      <td>8600</td>\n      <td>500</td>\n      <td>2089.65</td>\n      <td>500</td>\n      <td>2149.0</td>\n      <td>19901.4</td>\n    </tr>\n    <tr>\n      <th>17850</th>\n      <td>21-Sep-2023</td>\n      <td>17850</td>\n      <td>21-Sep-2023</td>\n      <td>NIFTY</td>\n      <td>OPTIDXNIFTY21-09-2023PE17850.00</td>\n      <td>1171</td>\n      <td>715</td>\n      <td>156.798246</td>\n      <td>12021</td>\n      <td>67.89</td>\n      <td>...</td>\n      <td>0.0</td>\n      <td>0.0</td>\n      <td>0.0</td>\n      <td>8600</td>\n      <td>8600</td>\n      <td>500</td>\n      <td>2010.35</td>\n      <td>500</td>\n      <td>2118.5</td>\n      <td>19901.4</td>\n    </tr>\n    <tr>\n      <th>17900</th>\n      <td>21-Sep-2023</td>\n      <td>17900</td>\n      <td>21-Sep-2023</td>\n      <td>NIFTY</td>\n      <td>OPTIDXNIFTY21-09-2023PE17900.00</td>\n      <td>8054</td>\n      <td>-7916</td>\n      <td>-49.567940</td>\n      <td>60228</td>\n      <td>66.29</td>\n      <td>...</td>\n      <td>0.0</td>\n      <td>0.0</td>\n      <td>0.0</td>\n      <td>8600</td>\n      <td>8600</td>\n      <td>500</td>\n      <td>1989.65</td>\n      <td>500</td>\n      <td>2049.0</td>\n      <td>19901.4</td>\n    </tr>\n    <tr>\n      <th>17950</th>\n      <td>21-Sep-2023</td>\n      <td>17950</td>\n      <td>21-Sep-2023</td>\n      <td>NIFTY</td>\n      <td>OPTIDXNIFTY21-09-2023PE17950.00</td>\n      <td>1523</td>\n      <td>1031</td>\n      <td>209.552846</td>\n      <td>13029</td>\n      <td>65.92</td>\n      <td>...</td>\n      <td>1700.0</td>\n      <td>0.0</td>\n      <td>0.0</td>\n      <td>9100</td>\n      <td>8600</td>\n      <td>500</td>\n      <td>1936.80</td>\n      <td>500</td>\n      <td>2018.4</td>\n      <td>19901.4</td>\n    </tr>\n  </tbody>\n</table>\n<p>5 rows × 39 columns</p>\n</div>"
     },
     "execution_count": 5,
     "metadata": {},
     "output_type": "execute_result"
    }
   ],
   "source": [
    "# Index Options - NIFTY\n",
    "nifty_50_option_chain = nse.get_option_chain(\n",
    "    ticker='NIFTY',\n",
    "    is_index=True\n",
    ")\n",
    "nifty_50_option_chain.head()"
   ],
   "metadata": {
    "collapsed": false,
    "ExecuteTime": {
     "end_time": "2023-09-20T14:17:15.565004Z",
     "start_time": "2023-09-20T14:17:15.410896900Z"
    }
   },
   "id": "cf753187a5a59614"
  },
  {
   "cell_type": "code",
   "execution_count": 6,
   "outputs": [
    {
     "name": "stdout",
     "output_type": "stream",
     "text": [
      "Call Symbol = OPTIDXNIFTY21-09-2023CE20100.00 and Put Symbol = OPTIDXNIFTY21-09-2023PE20100.00\n",
      "                      open   high   low  close\n",
      "timestamp                                     \n",
      "2023-09-20 09:15:00  34.20  47.55  32.9  41.15\n",
      "2023-09-20 09:20:00  40.80  46.85  40.1  43.05\n",
      "2023-09-20 09:25:00  43.15  43.15  36.7  38.75\n",
      "2023-09-20 09:30:00  39.00  39.95  33.4  34.00\n",
      "2023-09-20 09:35:00  33.90  34.95  32.1  34.20\n",
      "                       open    high    low  close\n",
      "timestamp                                        \n",
      "2023-09-20 09:15:00  104.15  104.60  84.75  91.70\n",
      "2023-09-20 09:20:00   91.85   96.15  89.60  92.50\n",
      "2023-09-20 09:25:00   92.20   99.70  91.60  92.95\n",
      "2023-09-20 09:30:00   92.70   99.90  91.50  97.75\n",
      "2023-09-20 09:35:00   98.00  102.80  96.00  97.80\n"
     ]
    }
   ],
   "source": [
    "# Fetching OHLC data of an option contract\n",
    "strike = 20100 # atm contract\n",
    "call_ticker_symbol = nifty_50_option_chain[nifty_50_option_chain['CE_strikePrice'] == strike]['CE_identifier'].values[0]\n",
    "put_ticker_symbol = nifty_50_option_chain[nifty_50_option_chain['PE_strikePrice'] == strike]['PE_identifier'].values[0]\n",
    "print(f'Call Symbol = {call_ticker_symbol} and Put Symbol = {put_ticker_symbol}')\n",
    "call_ohlc = nse.get_ohlc_data(call_ticker_symbol, timeframe='5Min', is_index=True)\n",
    "put_ohlc = nse.get_ohlc_data(put_ticker_symbol, timeframe='5Min', is_index=True)\n",
    "print(call_ohlc.head())\n",
    "print(put_ohlc.head())"
   ],
   "metadata": {
    "collapsed": false,
    "ExecuteTime": {
     "end_time": "2023-09-20T14:17:32.447326200Z",
     "start_time": "2023-09-20T14:17:15.593936200Z"
    }
   },
   "id": "550eb129e7ec71d3"
  },
  {
   "cell_type": "code",
   "execution_count": 7,
   "outputs": [
    {
     "name": "stdout",
     "output_type": "stream",
     "text": [
      "PCR (OI) = 0.5907527741677496 \n",
      "PCR (Vol) = 0.9289555178624705\n"
     ]
    }
   ],
   "source": [
    "# PCR (Put Call Ratios)\n",
    "# By default it will consider upcoming expiry contracts for it and ratios will be calculated based OI (Open Interest)\n",
    "oi_pcr = nse.get_pcr('FINNIFTY', is_index=True) \n",
    "vol_pcr = nse.get_pcr('FINNIFTY', is_index=True, on_field='volume')\n",
    "print(f'PCR (OI) = {oi_pcr} \\nPCR (Vol) = {vol_pcr}')"
   ],
   "metadata": {
    "collapsed": false,
    "ExecuteTime": {
     "end_time": "2023-09-20T14:17:32.676194600Z",
     "start_time": "2023-09-20T14:17:32.490934700Z"
    }
   },
   "id": "62ea2c4022549af0"
  },
  {
   "cell_type": "code",
   "execution_count": 8,
   "outputs": [
    {
     "name": "stdout",
     "output_type": "stream",
     "text": [
      "PCR (OI) = 0.17341040462427745 \n",
      "PCR (Vol) = 0.2494661921708185\n"
     ]
    }
   ],
   "source": [
    "# PCR (Put Call Ratios) for custom expiry date\n",
    "expiry = datetime(2023, 10, 3)\n",
    "oi_pcr = nse.get_pcr('FINNIFTY', is_index=True, expiry=expiry)\n",
    "vol_pcr = nse.get_pcr('FINNIFTY', is_index=True, on_field='volume', expiry=expiry)\n",
    "print(f'PCR (OI) = {oi_pcr} \\nPCR (Vol) = {vol_pcr}')"
   ],
   "metadata": {
    "collapsed": false,
    "ExecuteTime": {
     "end_time": "2023-09-20T14:17:32.830486500Z",
     "start_time": "2023-09-20T14:17:32.683393100Z"
    }
   },
   "id": "afab478c93eba4fd"
  },
  {
   "cell_type": "code",
   "execution_count": 9,
   "outputs": [
    {
     "data": {
      "text/plain": "              expiryDate  CE_strikePrice CE_expiryDate CE_underlying  \\\nstrikePrice                                                            \n38000        20-Sep-2023           38000   20-Sep-2023     BANKNIFTY   \n38500        20-Sep-2023           38500   20-Sep-2023     BANKNIFTY   \n39000        20-Sep-2023           39000   20-Sep-2023     BANKNIFTY   \n39500        20-Sep-2023           39500   20-Sep-2023     BANKNIFTY   \n40000        20-Sep-2023           40000   20-Sep-2023     BANKNIFTY   \n\n                                   CE_identifier  CE_openInterest  \\\nstrikePrice                                                         \n38000        OPTIDXBANKNIFTY20-09-2023CE38000.00                0   \n38500        OPTIDXBANKNIFTY20-09-2023CE38500.00                0   \n39000        OPTIDXBANKNIFTY20-09-2023CE39000.00                1   \n39500        OPTIDXBANKNIFTY20-09-2023CE39500.00                0   \n40000        OPTIDXBANKNIFTY20-09-2023CE40000.00               23   \n\n             CE_changeinOpenInterest  CE_pchangeinOpenInterest  \\\nstrikePrice                                                      \n38000                              0                  0.000000   \n38500                              0                  0.000000   \n39000                              0                  0.000000   \n39500                              0                  0.000000   \n40000                             -7                -23.333333   \n\n             CE_totalTradedVolume  CE_impliedVolatility  ...  PE_lastPrice  \\\nstrikePrice                                              ...                 \n38000                           0                   0.0  ...          0.05   \n38500                           0                   0.0  ...          0.10   \n39000                           0                   0.0  ...          0.10   \n39500                           0                   0.0  ...          0.05   \n40000                          22                   0.0  ...          0.05   \n\n             PE_change  PE_pChange  PE_totalBuyQuantity  PE_totalSellQuantity  \\\nstrikePrice                                                                     \n38000            -0.80  -94.117647                    0                180420   \n38500            -0.85  -89.473684                 7230                 50550   \n39000            -0.90  -90.000000                    0                 27195   \n39500            -1.05  -95.454545                 1680                 34170   \n40000            -0.90  -94.736842                    0                 36540   \n\n             PE_bidQty  PE_bidprice  PE_askQty  PE_askPrice  \\\nstrikePrice                                                   \n38000                0         0.00     106995         0.05   \n38500             7230         0.05       1650         0.10   \n39000                0         0.00         15         0.05   \n39500             1680         0.05        450         0.10   \n40000                0         0.00       4335         0.05   \n\n             PE_underlyingValue  \nstrikePrice                      \n38000                   45384.6  \n38500                   45384.6  \n39000                   45384.6  \n39500                   45384.6  \n40000                   45384.6  \n\n[5 rows x 39 columns]",
      "text/html": "<div>\n<style scoped>\n    .dataframe tbody tr th:only-of-type {\n        vertical-align: middle;\n    }\n\n    .dataframe tbody tr th {\n        vertical-align: top;\n    }\n\n    .dataframe thead th {\n        text-align: right;\n    }\n</style>\n<table border=\"1\" class=\"dataframe\">\n  <thead>\n    <tr style=\"text-align: right;\">\n      <th></th>\n      <th>expiryDate</th>\n      <th>CE_strikePrice</th>\n      <th>CE_expiryDate</th>\n      <th>CE_underlying</th>\n      <th>CE_identifier</th>\n      <th>CE_openInterest</th>\n      <th>CE_changeinOpenInterest</th>\n      <th>CE_pchangeinOpenInterest</th>\n      <th>CE_totalTradedVolume</th>\n      <th>CE_impliedVolatility</th>\n      <th>...</th>\n      <th>PE_lastPrice</th>\n      <th>PE_change</th>\n      <th>PE_pChange</th>\n      <th>PE_totalBuyQuantity</th>\n      <th>PE_totalSellQuantity</th>\n      <th>PE_bidQty</th>\n      <th>PE_bidprice</th>\n      <th>PE_askQty</th>\n      <th>PE_askPrice</th>\n      <th>PE_underlyingValue</th>\n    </tr>\n    <tr>\n      <th>strikePrice</th>\n      <th></th>\n      <th></th>\n      <th></th>\n      <th></th>\n      <th></th>\n      <th></th>\n      <th></th>\n      <th></th>\n      <th></th>\n      <th></th>\n      <th></th>\n      <th></th>\n      <th></th>\n      <th></th>\n      <th></th>\n      <th></th>\n      <th></th>\n      <th></th>\n      <th></th>\n      <th></th>\n      <th></th>\n    </tr>\n  </thead>\n  <tbody>\n    <tr>\n      <th>38000</th>\n      <td>20-Sep-2023</td>\n      <td>38000</td>\n      <td>20-Sep-2023</td>\n      <td>BANKNIFTY</td>\n      <td>OPTIDXBANKNIFTY20-09-2023CE38000.00</td>\n      <td>0</td>\n      <td>0</td>\n      <td>0.000000</td>\n      <td>0</td>\n      <td>0.0</td>\n      <td>...</td>\n      <td>0.05</td>\n      <td>-0.80</td>\n      <td>-94.117647</td>\n      <td>0</td>\n      <td>180420</td>\n      <td>0</td>\n      <td>0.00</td>\n      <td>106995</td>\n      <td>0.05</td>\n      <td>45384.6</td>\n    </tr>\n    <tr>\n      <th>38500</th>\n      <td>20-Sep-2023</td>\n      <td>38500</td>\n      <td>20-Sep-2023</td>\n      <td>BANKNIFTY</td>\n      <td>OPTIDXBANKNIFTY20-09-2023CE38500.00</td>\n      <td>0</td>\n      <td>0</td>\n      <td>0.000000</td>\n      <td>0</td>\n      <td>0.0</td>\n      <td>...</td>\n      <td>0.10</td>\n      <td>-0.85</td>\n      <td>-89.473684</td>\n      <td>7230</td>\n      <td>50550</td>\n      <td>7230</td>\n      <td>0.05</td>\n      <td>1650</td>\n      <td>0.10</td>\n      <td>45384.6</td>\n    </tr>\n    <tr>\n      <th>39000</th>\n      <td>20-Sep-2023</td>\n      <td>39000</td>\n      <td>20-Sep-2023</td>\n      <td>BANKNIFTY</td>\n      <td>OPTIDXBANKNIFTY20-09-2023CE39000.00</td>\n      <td>1</td>\n      <td>0</td>\n      <td>0.000000</td>\n      <td>0</td>\n      <td>0.0</td>\n      <td>...</td>\n      <td>0.10</td>\n      <td>-0.90</td>\n      <td>-90.000000</td>\n      <td>0</td>\n      <td>27195</td>\n      <td>0</td>\n      <td>0.00</td>\n      <td>15</td>\n      <td>0.05</td>\n      <td>45384.6</td>\n    </tr>\n    <tr>\n      <th>39500</th>\n      <td>20-Sep-2023</td>\n      <td>39500</td>\n      <td>20-Sep-2023</td>\n      <td>BANKNIFTY</td>\n      <td>OPTIDXBANKNIFTY20-09-2023CE39500.00</td>\n      <td>0</td>\n      <td>0</td>\n      <td>0.000000</td>\n      <td>0</td>\n      <td>0.0</td>\n      <td>...</td>\n      <td>0.05</td>\n      <td>-1.05</td>\n      <td>-95.454545</td>\n      <td>1680</td>\n      <td>34170</td>\n      <td>1680</td>\n      <td>0.05</td>\n      <td>450</td>\n      <td>0.10</td>\n      <td>45384.6</td>\n    </tr>\n    <tr>\n      <th>40000</th>\n      <td>20-Sep-2023</td>\n      <td>40000</td>\n      <td>20-Sep-2023</td>\n      <td>BANKNIFTY</td>\n      <td>OPTIDXBANKNIFTY20-09-2023CE40000.00</td>\n      <td>23</td>\n      <td>-7</td>\n      <td>-23.333333</td>\n      <td>22</td>\n      <td>0.0</td>\n      <td>...</td>\n      <td>0.05</td>\n      <td>-0.90</td>\n      <td>-94.736842</td>\n      <td>0</td>\n      <td>36540</td>\n      <td>0</td>\n      <td>0.00</td>\n      <td>4335</td>\n      <td>0.05</td>\n      <td>45384.6</td>\n    </tr>\n  </tbody>\n</table>\n<p>5 rows × 39 columns</p>\n</div>"
     },
     "execution_count": 9,
     "metadata": {},
     "output_type": "execute_result"
    }
   ],
   "source": [
    "# Index Options - BANK-NIFTY\n",
    "bank_nifty_option_chain = nse.get_option_chain(\n",
    "    ticker='BANKNIFTY',\n",
    "    is_index=True\n",
    ")\n",
    "bank_nifty_option_chain.head()"
   ],
   "metadata": {
    "collapsed": false,
    "ExecuteTime": {
     "end_time": "2023-09-20T14:17:33.012351900Z",
     "start_time": "2023-09-20T14:17:32.834482200Z"
    }
   },
   "id": "5992bf39c015838f"
  },
  {
   "cell_type": "code",
   "execution_count": 10,
   "outputs": [
    {
     "name": "stdout",
     "output_type": "stream",
     "text": [
      "Call Symbol = OPTIDXBANKNIFTY20-09-2023CE46000.00 and Put Symbol = OPTIDXBANKNIFTY20-09-2023PE46000.00\n",
      "                      open   high    low  close\n",
      "timestamp                                      \n",
      "2023-09-20 09:15:00  38.00  47.90  18.60  25.30\n",
      "2023-09-20 09:20:00  25.20  27.40  22.25  24.85\n",
      "2023-09-20 09:25:00  25.00  26.90  23.05  23.50\n",
      "2023-09-20 09:30:00  22.95  25.80  22.80  22.80\n",
      "2023-09-20 09:35:00  22.40  24.75  22.15  24.75\n",
      "                       open    high     low   close\n",
      "timestamp                                          \n",
      "2023-09-20 09:15:00  349.45  391.30  260.10  367.20\n",
      "2023-09-20 09:20:00  363.60  395.75  354.15  371.65\n",
      "2023-09-20 09:25:00  371.40  382.35  353.60  373.60\n",
      "2023-09-20 09:30:00  371.95  374.85  345.45  370.85\n",
      "2023-09-20 09:35:00  373.35  376.00  348.75  349.05\n"
     ]
    }
   ],
   "source": [
    "# Fetching OHLC data of an option contract\n",
    "strike = 46000  # atm contract\n",
    "call_ticker_symbol = bank_nifty_option_chain[bank_nifty_option_chain['CE_strikePrice'] == strike]['CE_identifier'].values[0]\n",
    "put_ticker_symbol = bank_nifty_option_chain[bank_nifty_option_chain['PE_strikePrice'] == strike]['PE_identifier'].values[0]\n",
    "print(f'Call Symbol = {call_ticker_symbol} and Put Symbol = {put_ticker_symbol}')\n",
    "call_ohlc = nse.get_ohlc_data(call_ticker_symbol, timeframe='5Min', is_index=True)\n",
    "put_ohlc = nse.get_ohlc_data(put_ticker_symbol, timeframe='5Min', is_index=True)\n",
    "print(call_ohlc.head())\n",
    "print(put_ohlc.head())"
   ],
   "metadata": {
    "collapsed": false,
    "ExecuteTime": {
     "end_time": "2023-09-20T14:17:52.763329400Z",
     "start_time": "2023-09-20T14:17:33.005806700Z"
    }
   },
   "id": "ba1a729efbea927e"
  },
  {
   "cell_type": "markdown",
   "source": [
    "## Equity Options"
   ],
   "metadata": {
    "collapsed": false
   },
   "id": "c5d3168722f1c0c0"
  },
  {
   "cell_type": "code",
   "execution_count": 11,
   "outputs": [
    {
     "data": {
      "text/plain": "['AARTIIND',\n 'ABB',\n 'ABBOTINDIA',\n 'ABCAPITAL',\n 'ABFRL',\n 'ACC',\n 'ADANIENT',\n 'ADANIPORTS',\n 'ALKEM',\n 'AMBUJACEM',\n 'APOLLOHOSP',\n 'APOLLOTYRE',\n 'ASHOKLEY',\n 'ASIANPAINT',\n 'ASTRAL',\n 'ATUL',\n 'AUBANK',\n 'AUROPHARMA',\n 'AXISBANK',\n 'BAJAJ-AUTO',\n 'BAJAJFINSV',\n 'BAJFINANCE',\n 'BALKRISIND',\n 'BALRAMCHIN',\n 'BANDHANBNK',\n 'BANKBARODA',\n 'BATAINDIA',\n 'BEL',\n 'BERGEPAINT',\n 'BHARATFORG',\n 'BHARTIARTL',\n 'BHEL',\n 'BIOCON',\n 'BOSCHLTD',\n 'BPCL',\n 'BRITANNIA',\n 'BSOFT',\n 'CANBK',\n 'CANFINHOME',\n 'CHAMBLFERT',\n 'CHOLAFIN',\n 'CIPLA',\n 'COALINDIA',\n 'COFORGE',\n 'COLPAL',\n 'CONCOR',\n 'COROMANDEL',\n 'CROMPTON',\n 'CUB',\n 'CUMMINSIND',\n 'DABUR',\n 'DALBHARAT',\n 'DEEPAKNTR',\n 'DELTACORP',\n 'DIVISLAB',\n 'DIXON',\n 'DLF',\n 'DRREDDY',\n 'EICHERMOT',\n 'ESCORTS',\n 'EXIDEIND',\n 'FEDERALBNK',\n 'GAIL',\n 'GLENMARK',\n 'GMRINFRA',\n 'GNFC',\n 'GODREJCP',\n 'GODREJPROP',\n 'GRANULES',\n 'GRASIM',\n 'GUJGASLTD',\n 'HAL',\n 'HAVELLS',\n 'HCLTECH',\n 'HDFCAMC',\n 'HDFCBANK',\n 'HDFCLIFE',\n 'HEROMOTOCO',\n 'HINDALCO',\n 'HINDCOPPER',\n 'HINDPETRO',\n 'HINDUNILVR',\n 'IBULHSGFIN',\n 'ICICIBANK',\n 'ICICIGI',\n 'ICICIPRULI',\n 'IDEA',\n 'IDFC',\n 'IDFCFIRSTB',\n 'IEX',\n 'IGL',\n 'INDHOTEL',\n 'INDIACEM',\n 'INDIAMART',\n 'INDIGO',\n 'INDUSINDBK',\n 'INDUSTOWER',\n 'INFY',\n 'IOC',\n 'IPCALAB',\n 'IRCTC',\n 'ITC',\n 'JINDALSTEL',\n 'JKCEMENT',\n 'JSWSTEEL',\n 'JUBLFOOD',\n 'KOTAKBANK',\n 'L&TFH',\n 'LALPATHLAB',\n 'LAURUSLABS',\n 'LICHSGFIN',\n 'LT',\n 'LTIM',\n 'LTTS',\n 'LUPIN',\n 'M&M',\n 'M&MFIN',\n 'MANAPPURAM',\n 'MARICO',\n 'MARUTI',\n 'MCDOWELL-N',\n 'MCX',\n 'METROPOLIS',\n 'MFSL',\n 'MGL',\n 'MOTHERSON',\n 'MPHASIS',\n 'MRF',\n 'MUTHOOTFIN',\n 'NATIONALUM',\n 'NAUKRI',\n 'NAVINFLUOR',\n 'NESTLEIND',\n 'NMDC',\n 'NTPC',\n 'OBEROIRLTY',\n 'OFSS',\n 'ONGC',\n 'PAGEIND',\n 'PEL',\n 'PERSISTENT',\n 'PETRONET',\n 'PFC',\n 'PIDILITIND',\n 'PIIND',\n 'PNB',\n 'POLYCAB',\n 'POWERGRID',\n 'PVRINOX',\n 'RAMCOCEM',\n 'RBLBANK',\n 'RECLTD',\n 'RELIANCE',\n 'SAIL',\n 'SBICARD',\n 'SBILIFE',\n 'SBIN',\n 'SHREECEM',\n 'SHRIRAMFIN',\n 'SIEMENS',\n 'SRF',\n 'SUNPHARMA',\n 'SUNTV',\n 'SYNGENE',\n 'TATACHEM',\n 'TATACOMM',\n 'TATACONSUM',\n 'TATAMOTORS',\n 'TATAPOWER',\n 'TATASTEEL',\n 'TCS',\n 'TECHM',\n 'TITAN',\n 'TORNTPHARM',\n 'TRENT',\n 'TVSMOTOR',\n 'UBL',\n 'ULTRACEMCO',\n 'UPL',\n 'VEDL',\n 'VOLTAS',\n 'WIPRO',\n 'ZEEL',\n 'ZYDUSLIFE']"
     },
     "execution_count": 11,
     "metadata": {},
     "output_type": "execute_result"
    }
   ],
   "source": [
    "# List all Equities for which Derivatives is enabled\n",
    "nse.get_all_derivatives_enabled_stocks()"
   ],
   "metadata": {
    "collapsed": false,
    "ExecuteTime": {
     "end_time": "2023-09-20T14:17:52.846054400Z",
     "start_time": "2023-09-20T14:17:52.754906100Z"
    }
   },
   "id": "e280e930f591b946"
  },
  {
   "cell_type": "code",
   "execution_count": 12,
   "outputs": [
    {
     "data": {
      "text/plain": "[datetime.datetime(2023, 9, 28, 0, 0),\n datetime.datetime(2023, 10, 26, 0, 0),\n datetime.datetime(2023, 11, 30, 0, 0)]"
     },
     "execution_count": 12,
     "metadata": {},
     "output_type": "execute_result"
    }
   ],
   "source": [
    "nse.get_options_expiry('RBLBANK') # List of Expires"
   ],
   "metadata": {
    "collapsed": false,
    "ExecuteTime": {
     "end_time": "2023-09-20T14:17:53.040202900Z",
     "start_time": "2023-09-20T14:17:52.849034700Z"
    }
   },
   "id": "e05b8d6ef11045c0"
  },
  {
   "cell_type": "code",
   "execution_count": 13,
   "outputs": [],
   "source": [
    "# let`s select one random company for show-casing data\n",
    "symbol = 'ADANIPORTS'"
   ],
   "metadata": {
    "collapsed": false,
    "ExecuteTime": {
     "end_time": "2023-09-20T14:17:53.105979400Z",
     "start_time": "2023-09-20T14:17:53.034196900Z"
    }
   },
   "id": "1476ab672eefdf6b"
  },
  {
   "cell_type": "code",
   "execution_count": 14,
   "outputs": [
    {
     "data": {
      "text/plain": "   underlyingValue  volumeFreezeQuantity metadata_instrumentType  \\\n0            820.7                 32001           Stock Options   \n1            820.7                 32001           Stock Options   \n2            820.7                 32001           Stock Options   \n3            820.7                 32001           Stock Options   \n4            820.7                 32001           Stock Options   \n\n  metadata_expiryDate metadata_optionType  metadata_strikePrice  \\\n0         28-Sep-2023                Call                   850   \n1         28-Sep-2023                Call                   840   \n2         28-Sep-2023                Call                   900   \n3         28-Sep-2023                Call                   860   \n4         28-Sep-2023                 Put                   800   \n\n                  metadata_identifier  metadata_openPrice  metadata_highPrice  \\\n0  OPTSTKADANIPORTS28-09-2023CE850.00               11.00               12.85   \n1  OPTSTKADANIPORTS28-09-2023CE840.00               14.45               16.80   \n2  OPTSTKADANIPORTS28-09-2023CE900.00                3.90                4.00   \n3  OPTSTKADANIPORTS28-09-2023CE860.00                8.00                9.50   \n4  OPTSTKADANIPORTS28-09-2023PE800.00                7.50                8.80   \n\n   metadata_lowPrice  ...  marketDeptOrderBook_otherInfo_settlementPrice  \\\n0               6.00  ...                                              0   \n1               7.85  ...                                              0   \n2               2.35  ...                                              0   \n3               4.55  ...                                              0   \n4               5.00  ...                                              0   \n\n   marketDeptOrderBook_otherInfo_dailyvolatility  \\\n0                                           2.62   \n1                                           2.62   \n2                                           2.62   \n3                                           2.62   \n4                                           2.62   \n\n   marketDeptOrderBook_otherInfo_annualisedVolatility  \\\n0                                               50.1    \n1                                               50.1    \n2                                               50.1    \n3                                               50.1    \n4                                               50.1    \n\n   marketDeptOrderBook_otherInfo_impliedVolatility  \\\n0                                            35.03   \n1                                            33.53   \n2                                            45.34   \n3                                            36.18   \n4                                            31.07   \n\n   marketDeptOrderBook_otherInfo_clientWisePositionLimits  \\\n0                                                  0        \n1                                                  0        \n2                                                  0        \n3                                                  0        \n4                                                  0        \n\n   marketDeptOrderBook_otherInfo_marketWidePositionLimits      ticker  \\\n0                                          160323375       ADANIPORTS   \n1                                          160323375       ADANIPORTS   \n2                                          160323375       ADANIPORTS   \n3                                          160323375       ADANIPORTS   \n4                                          160323375       ADANIPORTS   \n\n                                     companyName  industry  \\\n0  Adani Ports and Special Economic Zone Limited  SHIPPING   \n1  Adani Ports and Special Economic Zone Limited  SHIPPING   \n2  Adani Ports and Special Economic Zone Limited  SHIPPING   \n3  Adani Ports and Special Economic Zone Limited  SHIPPING   \n4  Adani Ports and Special Economic Zone Limited  SHIPPING   \n\n          opt_timestamp  \n0  20-Sep-2023 15:30:09  \n1  20-Sep-2023 15:30:09  \n2  20-Sep-2023 15:30:09  \n3  20-Sep-2023 15:30:09  \n4  20-Sep-2023 15:30:09  \n\n[5 rows x 45 columns]",
      "text/html": "<div>\n<style scoped>\n    .dataframe tbody tr th:only-of-type {\n        vertical-align: middle;\n    }\n\n    .dataframe tbody tr th {\n        vertical-align: top;\n    }\n\n    .dataframe thead th {\n        text-align: right;\n    }\n</style>\n<table border=\"1\" class=\"dataframe\">\n  <thead>\n    <tr style=\"text-align: right;\">\n      <th></th>\n      <th>underlyingValue</th>\n      <th>volumeFreezeQuantity</th>\n      <th>metadata_instrumentType</th>\n      <th>metadata_expiryDate</th>\n      <th>metadata_optionType</th>\n      <th>metadata_strikePrice</th>\n      <th>metadata_identifier</th>\n      <th>metadata_openPrice</th>\n      <th>metadata_highPrice</th>\n      <th>metadata_lowPrice</th>\n      <th>...</th>\n      <th>marketDeptOrderBook_otherInfo_settlementPrice</th>\n      <th>marketDeptOrderBook_otherInfo_dailyvolatility</th>\n      <th>marketDeptOrderBook_otherInfo_annualisedVolatility</th>\n      <th>marketDeptOrderBook_otherInfo_impliedVolatility</th>\n      <th>marketDeptOrderBook_otherInfo_clientWisePositionLimits</th>\n      <th>marketDeptOrderBook_otherInfo_marketWidePositionLimits</th>\n      <th>ticker</th>\n      <th>companyName</th>\n      <th>industry</th>\n      <th>opt_timestamp</th>\n    </tr>\n  </thead>\n  <tbody>\n    <tr>\n      <th>0</th>\n      <td>820.7</td>\n      <td>32001</td>\n      <td>Stock Options</td>\n      <td>28-Sep-2023</td>\n      <td>Call</td>\n      <td>850</td>\n      <td>OPTSTKADANIPORTS28-09-2023CE850.00</td>\n      <td>11.00</td>\n      <td>12.85</td>\n      <td>6.00</td>\n      <td>...</td>\n      <td>0</td>\n      <td>2.62</td>\n      <td>50.1</td>\n      <td>35.03</td>\n      <td>0</td>\n      <td>160323375</td>\n      <td>ADANIPORTS</td>\n      <td>Adani Ports and Special Economic Zone Limited</td>\n      <td>SHIPPING</td>\n      <td>20-Sep-2023 15:30:09</td>\n    </tr>\n    <tr>\n      <th>1</th>\n      <td>820.7</td>\n      <td>32001</td>\n      <td>Stock Options</td>\n      <td>28-Sep-2023</td>\n      <td>Call</td>\n      <td>840</td>\n      <td>OPTSTKADANIPORTS28-09-2023CE840.00</td>\n      <td>14.45</td>\n      <td>16.80</td>\n      <td>7.85</td>\n      <td>...</td>\n      <td>0</td>\n      <td>2.62</td>\n      <td>50.1</td>\n      <td>33.53</td>\n      <td>0</td>\n      <td>160323375</td>\n      <td>ADANIPORTS</td>\n      <td>Adani Ports and Special Economic Zone Limited</td>\n      <td>SHIPPING</td>\n      <td>20-Sep-2023 15:30:09</td>\n    </tr>\n    <tr>\n      <th>2</th>\n      <td>820.7</td>\n      <td>32001</td>\n      <td>Stock Options</td>\n      <td>28-Sep-2023</td>\n      <td>Call</td>\n      <td>900</td>\n      <td>OPTSTKADANIPORTS28-09-2023CE900.00</td>\n      <td>3.90</td>\n      <td>4.00</td>\n      <td>2.35</td>\n      <td>...</td>\n      <td>0</td>\n      <td>2.62</td>\n      <td>50.1</td>\n      <td>45.34</td>\n      <td>0</td>\n      <td>160323375</td>\n      <td>ADANIPORTS</td>\n      <td>Adani Ports and Special Economic Zone Limited</td>\n      <td>SHIPPING</td>\n      <td>20-Sep-2023 15:30:09</td>\n    </tr>\n    <tr>\n      <th>3</th>\n      <td>820.7</td>\n      <td>32001</td>\n      <td>Stock Options</td>\n      <td>28-Sep-2023</td>\n      <td>Call</td>\n      <td>860</td>\n      <td>OPTSTKADANIPORTS28-09-2023CE860.00</td>\n      <td>8.00</td>\n      <td>9.50</td>\n      <td>4.55</td>\n      <td>...</td>\n      <td>0</td>\n      <td>2.62</td>\n      <td>50.1</td>\n      <td>36.18</td>\n      <td>0</td>\n      <td>160323375</td>\n      <td>ADANIPORTS</td>\n      <td>Adani Ports and Special Economic Zone Limited</td>\n      <td>SHIPPING</td>\n      <td>20-Sep-2023 15:30:09</td>\n    </tr>\n    <tr>\n      <th>4</th>\n      <td>820.7</td>\n      <td>32001</td>\n      <td>Stock Options</td>\n      <td>28-Sep-2023</td>\n      <td>Put</td>\n      <td>800</td>\n      <td>OPTSTKADANIPORTS28-09-2023PE800.00</td>\n      <td>7.50</td>\n      <td>8.80</td>\n      <td>5.00</td>\n      <td>...</td>\n      <td>0</td>\n      <td>2.62</td>\n      <td>50.1</td>\n      <td>31.07</td>\n      <td>0</td>\n      <td>160323375</td>\n      <td>ADANIPORTS</td>\n      <td>Adani Ports and Special Economic Zone Limited</td>\n      <td>SHIPPING</td>\n      <td>20-Sep-2023 15:30:09</td>\n    </tr>\n  </tbody>\n</table>\n<p>5 rows × 45 columns</p>\n</div>"
     },
     "execution_count": 14,
     "metadata": {},
     "output_type": "execute_result"
    }
   ],
   "source": [
    "# Getting options trade information.\n",
    "trade_info = nse.get_equity_options_trade_info(symbol)\n",
    "trade_info.head()"
   ],
   "metadata": {
    "collapsed": false,
    "ExecuteTime": {
     "end_time": "2023-09-20T14:17:53.268504700Z",
     "start_time": "2023-09-20T14:17:53.055805Z"
    }
   },
   "id": "7ef58467717c5c48"
  },
  {
   "cell_type": "code",
   "execution_count": 15,
   "outputs": [
    {
     "data": {
      "text/plain": "              expiryDate  CE_strikePrice CE_expiryDate CE_underlying  \\\nstrikePrice                                                            \n600          28-Sep-2023             600   28-Sep-2023    ADANIPORTS   \n610          28-Sep-2023             610   28-Sep-2023    ADANIPORTS   \n620          28-Sep-2023             620   28-Sep-2023    ADANIPORTS   \n630          28-Sep-2023             630   28-Sep-2023    ADANIPORTS   \n640          28-Sep-2023             640   28-Sep-2023    ADANIPORTS   \n\n                                  CE_identifier  CE_openInterest  \\\nstrikePrice                                                        \n600          OPTSTKADANIPORTS28-09-2023CE600.00               15   \n610          OPTSTKADANIPORTS28-09-2023CE610.00                0   \n620          OPTSTKADANIPORTS28-09-2023CE620.00               17   \n630          OPTSTKADANIPORTS28-09-2023CE630.00                0   \n640          OPTSTKADANIPORTS28-09-2023CE640.00                0   \n\n             CE_changeinOpenInterest  CE_pchangeinOpenInterest  \\\nstrikePrice                                                      \n600                                2                 15.384615   \n610                                0                  0.000000   \n620                                0                  0.000000   \n630                                0                  0.000000   \n640                                0                  0.000000   \n\n             CE_totalTradedVolume  CE_impliedVolatility  ...  PE_lastPrice  \\\nstrikePrice                                              ...                 \n600                             2                138.84  ...          0.45   \n610                             0                  0.00  ...          0.35   \n620                             0                  0.00  ...          0.30   \n630                             0                  0.00  ...          0.55   \n640                             0                  0.00  ...          0.55   \n\n             PE_change  PE_pChange  PE_totalBuyQuantity  PE_totalSellQuantity  \\\nstrikePrice                                                                     \n600               0.00    0.000000               132800                148800   \n610               0.00    0.000000                52800                 52000   \n620              -0.05  -14.285714                79200                 69600   \n630              -0.55  -50.000000                26400                 95200   \n640               0.00    0.000000                92000                 99200   \n\n             PE_bidQty  PE_bidprice  PE_askQty  PE_askPrice  \\\nstrikePrice                                                   \n600               3200         0.45       4000         0.50   \n610              52000         0.10        800         0.50   \n620               1600         0.35        800         0.50   \n630               1600         0.30        800         0.75   \n640                800         0.40        800         0.65   \n\n             PE_underlyingValue  \nstrikePrice                      \n600                       820.7  \n610                       820.7  \n620                       820.7  \n630                       820.7  \n640                       820.7  \n\n[5 rows x 39 columns]",
      "text/html": "<div>\n<style scoped>\n    .dataframe tbody tr th:only-of-type {\n        vertical-align: middle;\n    }\n\n    .dataframe tbody tr th {\n        vertical-align: top;\n    }\n\n    .dataframe thead th {\n        text-align: right;\n    }\n</style>\n<table border=\"1\" class=\"dataframe\">\n  <thead>\n    <tr style=\"text-align: right;\">\n      <th></th>\n      <th>expiryDate</th>\n      <th>CE_strikePrice</th>\n      <th>CE_expiryDate</th>\n      <th>CE_underlying</th>\n      <th>CE_identifier</th>\n      <th>CE_openInterest</th>\n      <th>CE_changeinOpenInterest</th>\n      <th>CE_pchangeinOpenInterest</th>\n      <th>CE_totalTradedVolume</th>\n      <th>CE_impliedVolatility</th>\n      <th>...</th>\n      <th>PE_lastPrice</th>\n      <th>PE_change</th>\n      <th>PE_pChange</th>\n      <th>PE_totalBuyQuantity</th>\n      <th>PE_totalSellQuantity</th>\n      <th>PE_bidQty</th>\n      <th>PE_bidprice</th>\n      <th>PE_askQty</th>\n      <th>PE_askPrice</th>\n      <th>PE_underlyingValue</th>\n    </tr>\n    <tr>\n      <th>strikePrice</th>\n      <th></th>\n      <th></th>\n      <th></th>\n      <th></th>\n      <th></th>\n      <th></th>\n      <th></th>\n      <th></th>\n      <th></th>\n      <th></th>\n      <th></th>\n      <th></th>\n      <th></th>\n      <th></th>\n      <th></th>\n      <th></th>\n      <th></th>\n      <th></th>\n      <th></th>\n      <th></th>\n      <th></th>\n    </tr>\n  </thead>\n  <tbody>\n    <tr>\n      <th>600</th>\n      <td>28-Sep-2023</td>\n      <td>600</td>\n      <td>28-Sep-2023</td>\n      <td>ADANIPORTS</td>\n      <td>OPTSTKADANIPORTS28-09-2023CE600.00</td>\n      <td>15</td>\n      <td>2</td>\n      <td>15.384615</td>\n      <td>2</td>\n      <td>138.84</td>\n      <td>...</td>\n      <td>0.45</td>\n      <td>0.00</td>\n      <td>0.000000</td>\n      <td>132800</td>\n      <td>148800</td>\n      <td>3200</td>\n      <td>0.45</td>\n      <td>4000</td>\n      <td>0.50</td>\n      <td>820.7</td>\n    </tr>\n    <tr>\n      <th>610</th>\n      <td>28-Sep-2023</td>\n      <td>610</td>\n      <td>28-Sep-2023</td>\n      <td>ADANIPORTS</td>\n      <td>OPTSTKADANIPORTS28-09-2023CE610.00</td>\n      <td>0</td>\n      <td>0</td>\n      <td>0.000000</td>\n      <td>0</td>\n      <td>0.00</td>\n      <td>...</td>\n      <td>0.35</td>\n      <td>0.00</td>\n      <td>0.000000</td>\n      <td>52800</td>\n      <td>52000</td>\n      <td>52000</td>\n      <td>0.10</td>\n      <td>800</td>\n      <td>0.50</td>\n      <td>820.7</td>\n    </tr>\n    <tr>\n      <th>620</th>\n      <td>28-Sep-2023</td>\n      <td>620</td>\n      <td>28-Sep-2023</td>\n      <td>ADANIPORTS</td>\n      <td>OPTSTKADANIPORTS28-09-2023CE620.00</td>\n      <td>17</td>\n      <td>0</td>\n      <td>0.000000</td>\n      <td>0</td>\n      <td>0.00</td>\n      <td>...</td>\n      <td>0.30</td>\n      <td>-0.05</td>\n      <td>-14.285714</td>\n      <td>79200</td>\n      <td>69600</td>\n      <td>1600</td>\n      <td>0.35</td>\n      <td>800</td>\n      <td>0.50</td>\n      <td>820.7</td>\n    </tr>\n    <tr>\n      <th>630</th>\n      <td>28-Sep-2023</td>\n      <td>630</td>\n      <td>28-Sep-2023</td>\n      <td>ADANIPORTS</td>\n      <td>OPTSTKADANIPORTS28-09-2023CE630.00</td>\n      <td>0</td>\n      <td>0</td>\n      <td>0.000000</td>\n      <td>0</td>\n      <td>0.00</td>\n      <td>...</td>\n      <td>0.55</td>\n      <td>-0.55</td>\n      <td>-50.000000</td>\n      <td>26400</td>\n      <td>95200</td>\n      <td>1600</td>\n      <td>0.30</td>\n      <td>800</td>\n      <td>0.75</td>\n      <td>820.7</td>\n    </tr>\n    <tr>\n      <th>640</th>\n      <td>28-Sep-2023</td>\n      <td>640</td>\n      <td>28-Sep-2023</td>\n      <td>ADANIPORTS</td>\n      <td>OPTSTKADANIPORTS28-09-2023CE640.00</td>\n      <td>0</td>\n      <td>0</td>\n      <td>0.000000</td>\n      <td>0</td>\n      <td>0.00</td>\n      <td>...</td>\n      <td>0.55</td>\n      <td>0.00</td>\n      <td>0.000000</td>\n      <td>92000</td>\n      <td>99200</td>\n      <td>800</td>\n      <td>0.40</td>\n      <td>800</td>\n      <td>0.65</td>\n      <td>820.7</td>\n    </tr>\n  </tbody>\n</table>\n<p>5 rows × 39 columns</p>\n</div>"
     },
     "execution_count": 15,
     "metadata": {},
     "output_type": "execute_result"
    }
   ],
   "source": [
    "adani_ports_oc = nse.get_option_chain(symbol, is_index=False)\n",
    "adani_ports_oc.head()"
   ],
   "metadata": {
    "collapsed": false,
    "ExecuteTime": {
     "end_time": "2023-09-20T14:17:53.614472600Z",
     "start_time": "2023-09-20T14:17:53.268504700Z"
    }
   },
   "id": "4cc30007b5573cb0"
  },
  {
   "cell_type": "code",
   "execution_count": 16,
   "outputs": [
    {
     "name": "stdout",
     "output_type": "stream",
     "text": [
      "OPTSTKADANIPORTS28-09-2023CE850.00\n"
     ]
    },
    {
     "data": {
      "text/plain": "                     open  high   low  close\ntimestamp                                   \n2023-09-20 15:26:00  7.00  7.00  7.00   7.00\n2023-09-20 15:27:00  7.05  7.05  7.05   7.05\n2023-09-20 15:28:00  7.15  7.15  7.15   7.15\n2023-09-20 15:29:00  6.15  6.15  6.15   6.15\n2023-09-20 15:30:00  6.90  6.90  6.90   6.90",
      "text/html": "<div>\n<style scoped>\n    .dataframe tbody tr th:only-of-type {\n        vertical-align: middle;\n    }\n\n    .dataframe tbody tr th {\n        vertical-align: top;\n    }\n\n    .dataframe thead th {\n        text-align: right;\n    }\n</style>\n<table border=\"1\" class=\"dataframe\">\n  <thead>\n    <tr style=\"text-align: right;\">\n      <th></th>\n      <th>open</th>\n      <th>high</th>\n      <th>low</th>\n      <th>close</th>\n    </tr>\n    <tr>\n      <th>timestamp</th>\n      <th></th>\n      <th></th>\n      <th></th>\n      <th></th>\n    </tr>\n  </thead>\n  <tbody>\n    <tr>\n      <th>2023-09-20 15:26:00</th>\n      <td>7.00</td>\n      <td>7.00</td>\n      <td>7.00</td>\n      <td>7.00</td>\n    </tr>\n    <tr>\n      <th>2023-09-20 15:27:00</th>\n      <td>7.05</td>\n      <td>7.05</td>\n      <td>7.05</td>\n      <td>7.05</td>\n    </tr>\n    <tr>\n      <th>2023-09-20 15:28:00</th>\n      <td>7.15</td>\n      <td>7.15</td>\n      <td>7.15</td>\n      <td>7.15</td>\n    </tr>\n    <tr>\n      <th>2023-09-20 15:29:00</th>\n      <td>6.15</td>\n      <td>6.15</td>\n      <td>6.15</td>\n      <td>6.15</td>\n    </tr>\n    <tr>\n      <th>2023-09-20 15:30:00</th>\n      <td>6.90</td>\n      <td>6.90</td>\n      <td>6.90</td>\n      <td>6.90</td>\n    </tr>\n  </tbody>\n</table>\n</div>"
     },
     "execution_count": 16,
     "metadata": {},
     "output_type": "execute_result"
    }
   ],
   "source": [
    "some_options_contract_id = trade_info[trade_info['metadata_instrumentType'] == 'Stock Options']['metadata_identifier'].values[0]\n",
    "print(some_options_contract_id)\n",
    "some_ohlc = nse.get_ohlc_data(some_options_contract_id, timeframe='1Min')\n",
    "some_ohlc.tail()"
   ],
   "metadata": {
    "collapsed": false,
    "ExecuteTime": {
     "end_time": "2023-09-20T14:17:59.962014Z",
     "start_time": "2023-09-20T14:17:53.610041200Z"
    }
   },
   "id": "1b10fe5c0eba821c"
  },
  {
   "cell_type": "code",
   "execution_count": 17,
   "outputs": [
    {
     "name": "stdout",
     "output_type": "stream",
     "text": [
      "PCR (OI) = 0.5424428872557397 \n",
      "PCR (Vol) = 0.51369262723158\n"
     ]
    }
   ],
   "source": [
    "# PCR (Put Call Ratios) for Equity options\n",
    "# By default it will consider upcoming expiry contracts for it and ratios will be calculated based OI (Open Interest)\n",
    "symbol = 'ICICIBANK'\n",
    "expiry = datetime(2023, 9, 28)\n",
    "\n",
    "oi_pcr = nse.get_pcr(symbol, is_index=False, expiry=expiry)\n",
    "vol_pcr = nse.get_pcr(symbol, is_index=False, on_field='volume', expiry=expiry)\n",
    "print(f'PCR (OI) = {oi_pcr} \\nPCR (Vol) = {vol_pcr}')"
   ],
   "metadata": {
    "collapsed": false,
    "ExecuteTime": {
     "end_time": "2023-09-20T14:18:00.217712Z",
     "start_time": "2023-09-20T14:17:59.965023300Z"
    }
   },
   "id": "503aeab46dd54803"
  },
  {
   "cell_type": "markdown",
   "source": [
    "# Futures\n",
    "## Indices Futures"
   ],
   "metadata": {
    "collapsed": false
   },
   "id": "52f0bb1a8a6761df"
  },
  {
   "cell_type": "code",
   "execution_count": 18,
   "outputs": [
    {
     "data": {
      "text/plain": "   underlying                        identifier instrumentType     instrument  \\\n0  MIDCPNIFTY  FUTIDXMIDCPNIFTY25-09-2023XX0.00         FUTIDX  Index Futures   \n1  MIDCPNIFTY  FUTIDXMIDCPNIFTY30-10-2023XX0.00         FUTIDX  Index Futures   \n2  MIDCPNIFTY  FUTIDXMIDCPNIFTY24-11-2023XX0.00         FUTIDX  Index Futures   \n\n                 contract   expiryDate optionType  strikePrice  lastPrice  \\\n0  MIDCPNIFTY 25-Sep-2023  25-Sep-2023          -            0    9157.70   \n1  MIDCPNIFTY 30-Oct-2023  30-Oct-2023          -            0    9164.85   \n2  MIDCPNIFTY 24-Nov-2023  24-Nov-2023          -            0    9168.95   \n\n   change  ...  lowPrice  closePrice  volume  totalTurnover         value  \\\n0   32.65  ...   9030.00     9147.35  304425   2.783148e+09  2.783148e+09   \n1   38.65  ...   9074.95     9150.90   15900   1.454992e+08  1.454992e+08   \n2  -40.20  ...   9051.00     9168.95     750   6.847890e+06  6.847890e+06   \n\n   premiumTurnOver  underlyingValue  openInterest  noOfTrades  \\\n0     2.783148e+09           9155.1          4113        4059   \n1     1.454992e+08           9155.1           224         212   \n2     6.847890e+06           9155.1            13          10   \n\n                                   meta  \n0  {'data': [], 'msg': 'No Data Found'}  \n1  {'data': [], 'msg': 'No Data Found'}  \n2  {'data': [], 'msg': 'No Data Found'}  \n\n[3 rows x 23 columns]",
      "text/html": "<div>\n<style scoped>\n    .dataframe tbody tr th:only-of-type {\n        vertical-align: middle;\n    }\n\n    .dataframe tbody tr th {\n        vertical-align: top;\n    }\n\n    .dataframe thead th {\n        text-align: right;\n    }\n</style>\n<table border=\"1\" class=\"dataframe\">\n  <thead>\n    <tr style=\"text-align: right;\">\n      <th></th>\n      <th>underlying</th>\n      <th>identifier</th>\n      <th>instrumentType</th>\n      <th>instrument</th>\n      <th>contract</th>\n      <th>expiryDate</th>\n      <th>optionType</th>\n      <th>strikePrice</th>\n      <th>lastPrice</th>\n      <th>change</th>\n      <th>...</th>\n      <th>lowPrice</th>\n      <th>closePrice</th>\n      <th>volume</th>\n      <th>totalTurnover</th>\n      <th>value</th>\n      <th>premiumTurnOver</th>\n      <th>underlyingValue</th>\n      <th>openInterest</th>\n      <th>noOfTrades</th>\n      <th>meta</th>\n    </tr>\n  </thead>\n  <tbody>\n    <tr>\n      <th>0</th>\n      <td>MIDCPNIFTY</td>\n      <td>FUTIDXMIDCPNIFTY25-09-2023XX0.00</td>\n      <td>FUTIDX</td>\n      <td>Index Futures</td>\n      <td>MIDCPNIFTY 25-Sep-2023</td>\n      <td>25-Sep-2023</td>\n      <td>-</td>\n      <td>0</td>\n      <td>9157.70</td>\n      <td>32.65</td>\n      <td>...</td>\n      <td>9030.00</td>\n      <td>9147.35</td>\n      <td>304425</td>\n      <td>2.783148e+09</td>\n      <td>2.783148e+09</td>\n      <td>2.783148e+09</td>\n      <td>9155.1</td>\n      <td>4113</td>\n      <td>4059</td>\n      <td>{'data': [], 'msg': 'No Data Found'}</td>\n    </tr>\n    <tr>\n      <th>1</th>\n      <td>MIDCPNIFTY</td>\n      <td>FUTIDXMIDCPNIFTY30-10-2023XX0.00</td>\n      <td>FUTIDX</td>\n      <td>Index Futures</td>\n      <td>MIDCPNIFTY 30-Oct-2023</td>\n      <td>30-Oct-2023</td>\n      <td>-</td>\n      <td>0</td>\n      <td>9164.85</td>\n      <td>38.65</td>\n      <td>...</td>\n      <td>9074.95</td>\n      <td>9150.90</td>\n      <td>15900</td>\n      <td>1.454992e+08</td>\n      <td>1.454992e+08</td>\n      <td>1.454992e+08</td>\n      <td>9155.1</td>\n      <td>224</td>\n      <td>212</td>\n      <td>{'data': [], 'msg': 'No Data Found'}</td>\n    </tr>\n    <tr>\n      <th>2</th>\n      <td>MIDCPNIFTY</td>\n      <td>FUTIDXMIDCPNIFTY24-11-2023XX0.00</td>\n      <td>FUTIDX</td>\n      <td>Index Futures</td>\n      <td>MIDCPNIFTY 24-Nov-2023</td>\n      <td>24-Nov-2023</td>\n      <td>-</td>\n      <td>0</td>\n      <td>9168.95</td>\n      <td>-40.20</td>\n      <td>...</td>\n      <td>9051.00</td>\n      <td>9168.95</td>\n      <td>750</td>\n      <td>6.847890e+06</td>\n      <td>6.847890e+06</td>\n      <td>6.847890e+06</td>\n      <td>9155.1</td>\n      <td>13</td>\n      <td>10</td>\n      <td>{'data': [], 'msg': 'No Data Found'}</td>\n    </tr>\n  </tbody>\n</table>\n<p>3 rows × 23 columns</p>\n</div>"
     },
     "execution_count": 18,
     "metadata": {},
     "output_type": "execute_result"
    }
   ],
   "source": [
    "# allowed = {'Nifty 50 Futures' : 'nse50_fut', 'Nifty Bank Futures' : 'nifty_bank_fut', \n",
    "# 'Nifty Financial Futures' : 'finnifty_fut' , 'Nifty Midcap Select Futures' : 'niftymidcap_fut'}\n",
    "mid_cap_fut = nse.get_index_futures_data('niftymidcap_fut')\n",
    "mid_cap_fut.head()"
   ],
   "metadata": {
    "collapsed": false,
    "ExecuteTime": {
     "end_time": "2023-09-20T14:18:01.723456600Z",
     "start_time": "2023-09-20T14:18:00.211191900Z"
    }
   },
   "id": "31098d17a421e008"
  },
  {
   "cell_type": "code",
   "execution_count": 19,
   "outputs": [
    {
     "name": "stdout",
     "output_type": "stream",
     "text": [
      "FUTIDXMIDCPNIFTY25-09-2023XX0.00\n"
     ]
    },
    {
     "data": {
      "text/plain": "                        open     high      low   close\ntimestamp                                             \n2023-09-20 15:10:00  9145.00  9152.20  9143.85  9152.2\n2023-09-20 15:15:00  9148.15  9150.00  9145.00  9150.0\n2023-09-20 15:20:00  9150.00  9150.45  9147.10  9149.8\n2023-09-20 15:25:00  9149.90  9158.10  9149.90  9157.7\n2023-09-20 15:30:00  9157.70  9157.70  9157.70  9157.7",
      "text/html": "<div>\n<style scoped>\n    .dataframe tbody tr th:only-of-type {\n        vertical-align: middle;\n    }\n\n    .dataframe tbody tr th {\n        vertical-align: top;\n    }\n\n    .dataframe thead th {\n        text-align: right;\n    }\n</style>\n<table border=\"1\" class=\"dataframe\">\n  <thead>\n    <tr style=\"text-align: right;\">\n      <th></th>\n      <th>open</th>\n      <th>high</th>\n      <th>low</th>\n      <th>close</th>\n    </tr>\n    <tr>\n      <th>timestamp</th>\n      <th></th>\n      <th></th>\n      <th></th>\n      <th></th>\n    </tr>\n  </thead>\n  <tbody>\n    <tr>\n      <th>2023-09-20 15:10:00</th>\n      <td>9145.00</td>\n      <td>9152.20</td>\n      <td>9143.85</td>\n      <td>9152.2</td>\n    </tr>\n    <tr>\n      <th>2023-09-20 15:15:00</th>\n      <td>9148.15</td>\n      <td>9150.00</td>\n      <td>9145.00</td>\n      <td>9150.0</td>\n    </tr>\n    <tr>\n      <th>2023-09-20 15:20:00</th>\n      <td>9150.00</td>\n      <td>9150.45</td>\n      <td>9147.10</td>\n      <td>9149.8</td>\n    </tr>\n    <tr>\n      <th>2023-09-20 15:25:00</th>\n      <td>9149.90</td>\n      <td>9158.10</td>\n      <td>9149.90</td>\n      <td>9157.7</td>\n    </tr>\n    <tr>\n      <th>2023-09-20 15:30:00</th>\n      <td>9157.70</td>\n      <td>9157.70</td>\n      <td>9157.70</td>\n      <td>9157.7</td>\n    </tr>\n  </tbody>\n</table>\n</div>"
     },
     "execution_count": 19,
     "metadata": {},
     "output_type": "execute_result"
    }
   ],
   "source": [
    "# OHLC data of future contracts\n",
    "symbol = mid_cap_fut.iloc[0]['identifier']\n",
    "print(symbol)\n",
    "mid_cap_fut_ohlc = nse.get_ohlc_data(symbol, is_index=True)\n",
    "mid_cap_fut_ohlc.tail()"
   ],
   "metadata": {
    "collapsed": false,
    "ExecuteTime": {
     "end_time": "2023-09-20T14:18:07.903619600Z",
     "start_time": "2023-09-20T14:18:01.721038700Z"
    }
   },
   "id": "c6c9aef305e1020d"
  },
  {
   "cell_type": "markdown",
   "source": [
    "## Equity Futures"
   ],
   "metadata": {
    "collapsed": false
   },
   "id": "1a18f87aaa5ade9c"
  },
  {
   "cell_type": "code",
   "execution_count": 20,
   "outputs": [
    {
     "data": {
      "text/plain": "   underlyingValue  volumeFreezeQuantity metadata_instrumentType  \\\n0          1976.05                     0           Stock Futures   \n1          1976.05                     0           Stock Futures   \n2          1976.05                     0           Stock Futures   \n\n  metadata_expiryDate metadata_optionType  metadata_strikePrice  \\\n0         28-Sep-2023                   -                     0   \n1         26-Oct-2023                   -                     0   \n2         30-Nov-2023                   -                     0   \n\n         metadata_identifier  metadata_openPrice  metadata_highPrice  \\\n0  FUTSTKACC28-09-2023XX0.00              2003.4             2011.95   \n1  FUTSTKACC26-10-2023XX0.00              2015.9             2024.30   \n2  FUTSTKACC30-11-2023XX0.00              2030.0             2030.00   \n\n   metadata_lowPrice  ...  marketDeptOrderBook_otherInfo_settlementPrice  \\\n0             1969.0  ...                                        1982.75   \n1             1982.8  ...                                        1996.65   \n2             2000.0  ...                                        2010.30   \n\n   marketDeptOrderBook_otherInfo_dailyvolatility  \\\n0                                           1.86   \n1                                           1.86   \n2                                           1.86   \n\n   marketDeptOrderBook_otherInfo_annualisedVolatility  \\\n0                                               35.6    \n1                                               35.6    \n2                                               35.6    \n\n   marketDeptOrderBook_otherInfo_impliedVolatility  \\\n0                                                0   \n1                                                0   \n2                                                0   \n\n   marketDeptOrderBook_otherInfo_clientWisePositionLimits  \\\n0                                                  0        \n1                                                  0        \n2                                                  0        \n\n   marketDeptOrderBook_otherInfo_marketWidePositionLimits  ticker  \\\n0                                           16266067          ACC   \n1                                           16266067          ACC   \n2                                           16266067          ACC   \n\n   companyName                    industry         fut_timestamp  \n0  ACC Limited  CEMENT AND CEMENT PRODUCTS  20-Sep-2023 15:30:05  \n1  ACC Limited  CEMENT AND CEMENT PRODUCTS  20-Sep-2023 15:30:05  \n2  ACC Limited  CEMENT AND CEMENT PRODUCTS  20-Sep-2023 15:30:05  \n\n[3 rows x 45 columns]",
      "text/html": "<div>\n<style scoped>\n    .dataframe tbody tr th:only-of-type {\n        vertical-align: middle;\n    }\n\n    .dataframe tbody tr th {\n        vertical-align: top;\n    }\n\n    .dataframe thead th {\n        text-align: right;\n    }\n</style>\n<table border=\"1\" class=\"dataframe\">\n  <thead>\n    <tr style=\"text-align: right;\">\n      <th></th>\n      <th>underlyingValue</th>\n      <th>volumeFreezeQuantity</th>\n      <th>metadata_instrumentType</th>\n      <th>metadata_expiryDate</th>\n      <th>metadata_optionType</th>\n      <th>metadata_strikePrice</th>\n      <th>metadata_identifier</th>\n      <th>metadata_openPrice</th>\n      <th>metadata_highPrice</th>\n      <th>metadata_lowPrice</th>\n      <th>...</th>\n      <th>marketDeptOrderBook_otherInfo_settlementPrice</th>\n      <th>marketDeptOrderBook_otherInfo_dailyvolatility</th>\n      <th>marketDeptOrderBook_otherInfo_annualisedVolatility</th>\n      <th>marketDeptOrderBook_otherInfo_impliedVolatility</th>\n      <th>marketDeptOrderBook_otherInfo_clientWisePositionLimits</th>\n      <th>marketDeptOrderBook_otherInfo_marketWidePositionLimits</th>\n      <th>ticker</th>\n      <th>companyName</th>\n      <th>industry</th>\n      <th>fut_timestamp</th>\n    </tr>\n  </thead>\n  <tbody>\n    <tr>\n      <th>0</th>\n      <td>1976.05</td>\n      <td>0</td>\n      <td>Stock Futures</td>\n      <td>28-Sep-2023</td>\n      <td>-</td>\n      <td>0</td>\n      <td>FUTSTKACC28-09-2023XX0.00</td>\n      <td>2003.4</td>\n      <td>2011.95</td>\n      <td>1969.0</td>\n      <td>...</td>\n      <td>1982.75</td>\n      <td>1.86</td>\n      <td>35.6</td>\n      <td>0</td>\n      <td>0</td>\n      <td>16266067</td>\n      <td>ACC</td>\n      <td>ACC Limited</td>\n      <td>CEMENT AND CEMENT PRODUCTS</td>\n      <td>20-Sep-2023 15:30:05</td>\n    </tr>\n    <tr>\n      <th>1</th>\n      <td>1976.05</td>\n      <td>0</td>\n      <td>Stock Futures</td>\n      <td>26-Oct-2023</td>\n      <td>-</td>\n      <td>0</td>\n      <td>FUTSTKACC26-10-2023XX0.00</td>\n      <td>2015.9</td>\n      <td>2024.30</td>\n      <td>1982.8</td>\n      <td>...</td>\n      <td>1996.65</td>\n      <td>1.86</td>\n      <td>35.6</td>\n      <td>0</td>\n      <td>0</td>\n      <td>16266067</td>\n      <td>ACC</td>\n      <td>ACC Limited</td>\n      <td>CEMENT AND CEMENT PRODUCTS</td>\n      <td>20-Sep-2023 15:30:05</td>\n    </tr>\n    <tr>\n      <th>2</th>\n      <td>1976.05</td>\n      <td>0</td>\n      <td>Stock Futures</td>\n      <td>30-Nov-2023</td>\n      <td>-</td>\n      <td>0</td>\n      <td>FUTSTKACC30-11-2023XX0.00</td>\n      <td>2030.0</td>\n      <td>2030.00</td>\n      <td>2000.0</td>\n      <td>...</td>\n      <td>2010.30</td>\n      <td>1.86</td>\n      <td>35.6</td>\n      <td>0</td>\n      <td>0</td>\n      <td>16266067</td>\n      <td>ACC</td>\n      <td>ACC Limited</td>\n      <td>CEMENT AND CEMENT PRODUCTS</td>\n      <td>20-Sep-2023 15:30:05</td>\n    </tr>\n  </tbody>\n</table>\n<p>3 rows × 45 columns</p>\n</div>"
     },
     "execution_count": 20,
     "metadata": {},
     "output_type": "execute_result"
    }
   ],
   "source": [
    "# Futures Trade info\n",
    "symbol = 'ACC' # some derivative enabled symbol\n",
    "acc_futures = nse.get_equity_future_trade_info(symbol)\n",
    "acc_futures.head()"
   ],
   "metadata": {
    "collapsed": false,
    "ExecuteTime": {
     "end_time": "2023-09-20T14:18:08.144937600Z",
     "start_time": "2023-09-20T14:18:07.900047200Z"
    }
   },
   "id": "d3455be8ef07d5f5"
  },
  {
   "cell_type": "code",
   "execution_count": 21,
   "outputs": [
    {
     "name": "stdout",
     "output_type": "stream",
     "text": [
      "FUTSTKACC28-09-2023XX0.00\n"
     ]
    },
    {
     "data": {
      "text/plain": "                        open     high      low    close\ntimestamp                                              \n2023-09-20 15:18:00  1982.95  1983.40  1982.45  1982.90\n2023-09-20 15:21:00  1983.75  1984.45  1982.90  1982.90\n2023-09-20 15:24:00  1983.05  1985.30  1983.05  1984.75\n2023-09-20 15:27:00  1983.30  1985.80  1982.25  1985.80\n2023-09-20 15:30:00  1985.80  1985.80  1985.80  1985.80",
      "text/html": "<div>\n<style scoped>\n    .dataframe tbody tr th:only-of-type {\n        vertical-align: middle;\n    }\n\n    .dataframe tbody tr th {\n        vertical-align: top;\n    }\n\n    .dataframe thead th {\n        text-align: right;\n    }\n</style>\n<table border=\"1\" class=\"dataframe\">\n  <thead>\n    <tr style=\"text-align: right;\">\n      <th></th>\n      <th>open</th>\n      <th>high</th>\n      <th>low</th>\n      <th>close</th>\n    </tr>\n    <tr>\n      <th>timestamp</th>\n      <th></th>\n      <th></th>\n      <th></th>\n      <th></th>\n    </tr>\n  </thead>\n  <tbody>\n    <tr>\n      <th>2023-09-20 15:18:00</th>\n      <td>1982.95</td>\n      <td>1983.40</td>\n      <td>1982.45</td>\n      <td>1982.90</td>\n    </tr>\n    <tr>\n      <th>2023-09-20 15:21:00</th>\n      <td>1983.75</td>\n      <td>1984.45</td>\n      <td>1982.90</td>\n      <td>1982.90</td>\n    </tr>\n    <tr>\n      <th>2023-09-20 15:24:00</th>\n      <td>1983.05</td>\n      <td>1985.30</td>\n      <td>1983.05</td>\n      <td>1984.75</td>\n    </tr>\n    <tr>\n      <th>2023-09-20 15:27:00</th>\n      <td>1983.30</td>\n      <td>1985.80</td>\n      <td>1982.25</td>\n      <td>1985.80</td>\n    </tr>\n    <tr>\n      <th>2023-09-20 15:30:00</th>\n      <td>1985.80</td>\n      <td>1985.80</td>\n      <td>1985.80</td>\n      <td>1985.80</td>\n    </tr>\n  </tbody>\n</table>\n</div>"
     },
     "execution_count": 21,
     "metadata": {},
     "output_type": "execute_result"
    }
   ],
   "source": [
    "# OHLC data of Equity Futures\n",
    "symbol = acc_futures.iloc[0]['metadata_identifier']\n",
    "print(symbol)\n",
    "acc_fut_ohlc = nse.get_ohlc_data(symbol, timeframe='3Min', is_index=True)\n",
    "acc_fut_ohlc.tail()"
   ],
   "metadata": {
    "collapsed": false,
    "ExecuteTime": {
     "end_time": "2023-09-20T14:18:14.740635500Z",
     "start_time": "2023-09-20T14:18:08.116440300Z"
    }
   },
   "id": "f7bca05c31ef43ab"
  },
  {
   "cell_type": "markdown",
   "source": [
    "# Currency and Commodities"
   ],
   "metadata": {
    "collapsed": false
   },
   "id": "6d35cb96375fab75"
  },
  {
   "cell_type": "code",
   "execution_count": 22,
   "outputs": [
    {
     "data": {
      "text/plain": "  contractType                      identifier instrumentType  \\\n0       USDINR  FUTCURUSDINR26-09-2023XX0.0000         FUTCUR   \n1       USDINR  FUTCURUSDINR27-10-2023XX0.0000         FUTCUR   \n2       USDINR  FUTCURUSDINR22-09-2023XX0.0000         FUTCUR   \n3       GBPINR  FUTCURGBPINR26-09-2023XX0.0000         FUTCUR   \n4       EURINR  FUTCUREURINR26-09-2023XX0.0000         FUTCUR   \n\n         instrument            contract   expiryDate optionType  strikePrice  \\\n0  Currency Futures  USDINR 26-Sep-2023  26-Sep-2023          -            0   \n1  Currency Futures  USDINR 27-Oct-2023  27-Oct-2023          -            0   \n2  Currency Futures  USDINR 22-Sep-2023  22-Sep-2023          -            0   \n3  Currency Futures  GBPINR 26-Sep-2023  26-Sep-2023          -            0   \n4  Currency Futures  EURINR 26-Sep-2023  26-Sep-2023          -            0   \n\n   lastPrice  change  ...   volume  notionalTurnover         value  \\\n0    83.1200 -0.2325  ...  3053490      2.543687e+11  2.543687e+11   \n1    83.2400 -0.2250  ...  1636127      1.363630e+11  1.363630e+11   \n2    83.1100 -0.2375  ...   361908      3.011543e+10  3.011543e+10   \n3   102.8375 -0.5100  ...   276516      2.853621e+10  2.853621e+10   \n4    89.0000  0.0250  ...   107546      9.570567e+09  9.570567e+09   \n\n   openInterest  bestBidPrice  bestBidQty  bestAskPrice  bestAskQty  \\\n0       3639588       83.1225           1       83.1325           7   \n1       1417619       83.2275         294       83.2400         929   \n2         98752       83.1025           5       83.1250           1   \n3        201596      102.8300           1      102.8375          32   \n4        114771       88.9800           9       89.0000         136   \n\n   totTradeVol  spread  \n0        59191  0.0100  \n1        29528  0.0125  \n2         9398  0.0225  \n3        27240  0.0075  \n4         8852  0.0200  \n\n[5 rows x 24 columns]",
      "text/html": "<div>\n<style scoped>\n    .dataframe tbody tr th:only-of-type {\n        vertical-align: middle;\n    }\n\n    .dataframe tbody tr th {\n        vertical-align: top;\n    }\n\n    .dataframe thead th {\n        text-align: right;\n    }\n</style>\n<table border=\"1\" class=\"dataframe\">\n  <thead>\n    <tr style=\"text-align: right;\">\n      <th></th>\n      <th>contractType</th>\n      <th>identifier</th>\n      <th>instrumentType</th>\n      <th>instrument</th>\n      <th>contract</th>\n      <th>expiryDate</th>\n      <th>optionType</th>\n      <th>strikePrice</th>\n      <th>lastPrice</th>\n      <th>change</th>\n      <th>...</th>\n      <th>volume</th>\n      <th>notionalTurnover</th>\n      <th>value</th>\n      <th>openInterest</th>\n      <th>bestBidPrice</th>\n      <th>bestBidQty</th>\n      <th>bestAskPrice</th>\n      <th>bestAskQty</th>\n      <th>totTradeVol</th>\n      <th>spread</th>\n    </tr>\n  </thead>\n  <tbody>\n    <tr>\n      <th>0</th>\n      <td>USDINR</td>\n      <td>FUTCURUSDINR26-09-2023XX0.0000</td>\n      <td>FUTCUR</td>\n      <td>Currency Futures</td>\n      <td>USDINR 26-Sep-2023</td>\n      <td>26-Sep-2023</td>\n      <td>-</td>\n      <td>0</td>\n      <td>83.1200</td>\n      <td>-0.2325</td>\n      <td>...</td>\n      <td>3053490</td>\n      <td>2.543687e+11</td>\n      <td>2.543687e+11</td>\n      <td>3639588</td>\n      <td>83.1225</td>\n      <td>1</td>\n      <td>83.1325</td>\n      <td>7</td>\n      <td>59191</td>\n      <td>0.0100</td>\n    </tr>\n    <tr>\n      <th>1</th>\n      <td>USDINR</td>\n      <td>FUTCURUSDINR27-10-2023XX0.0000</td>\n      <td>FUTCUR</td>\n      <td>Currency Futures</td>\n      <td>USDINR 27-Oct-2023</td>\n      <td>27-Oct-2023</td>\n      <td>-</td>\n      <td>0</td>\n      <td>83.2400</td>\n      <td>-0.2250</td>\n      <td>...</td>\n      <td>1636127</td>\n      <td>1.363630e+11</td>\n      <td>1.363630e+11</td>\n      <td>1417619</td>\n      <td>83.2275</td>\n      <td>294</td>\n      <td>83.2400</td>\n      <td>929</td>\n      <td>29528</td>\n      <td>0.0125</td>\n    </tr>\n    <tr>\n      <th>2</th>\n      <td>USDINR</td>\n      <td>FUTCURUSDINR22-09-2023XX0.0000</td>\n      <td>FUTCUR</td>\n      <td>Currency Futures</td>\n      <td>USDINR 22-Sep-2023</td>\n      <td>22-Sep-2023</td>\n      <td>-</td>\n      <td>0</td>\n      <td>83.1100</td>\n      <td>-0.2375</td>\n      <td>...</td>\n      <td>361908</td>\n      <td>3.011543e+10</td>\n      <td>3.011543e+10</td>\n      <td>98752</td>\n      <td>83.1025</td>\n      <td>5</td>\n      <td>83.1250</td>\n      <td>1</td>\n      <td>9398</td>\n      <td>0.0225</td>\n    </tr>\n    <tr>\n      <th>3</th>\n      <td>GBPINR</td>\n      <td>FUTCURGBPINR26-09-2023XX0.0000</td>\n      <td>FUTCUR</td>\n      <td>Currency Futures</td>\n      <td>GBPINR 26-Sep-2023</td>\n      <td>26-Sep-2023</td>\n      <td>-</td>\n      <td>0</td>\n      <td>102.8375</td>\n      <td>-0.5100</td>\n      <td>...</td>\n      <td>276516</td>\n      <td>2.853621e+10</td>\n      <td>2.853621e+10</td>\n      <td>201596</td>\n      <td>102.8300</td>\n      <td>1</td>\n      <td>102.8375</td>\n      <td>32</td>\n      <td>27240</td>\n      <td>0.0075</td>\n    </tr>\n    <tr>\n      <th>4</th>\n      <td>EURINR</td>\n      <td>FUTCUREURINR26-09-2023XX0.0000</td>\n      <td>FUTCUR</td>\n      <td>Currency Futures</td>\n      <td>EURINR 26-Sep-2023</td>\n      <td>26-Sep-2023</td>\n      <td>-</td>\n      <td>0</td>\n      <td>89.0000</td>\n      <td>0.0250</td>\n      <td>...</td>\n      <td>107546</td>\n      <td>9.570567e+09</td>\n      <td>9.570567e+09</td>\n      <td>114771</td>\n      <td>88.9800</td>\n      <td>9</td>\n      <td>89.0000</td>\n      <td>136</td>\n      <td>8852</td>\n      <td>0.0200</td>\n    </tr>\n  </tbody>\n</table>\n<p>5 rows × 24 columns</p>\n</div>"
     },
     "execution_count": 22,
     "metadata": {},
     "output_type": "execute_result"
    }
   ],
   "source": [
    "# Futures\n",
    "cur_fut = nse.get_currency_futures()\n",
    "cur_fut.head()"
   ],
   "metadata": {
    "collapsed": false,
    "ExecuteTime": {
     "end_time": "2023-09-20T14:18:14.921291500Z",
     "start_time": "2023-09-20T14:18:14.744170400Z"
    }
   },
   "id": "6e397c9f4d33c7a1"
  },
  {
   "cell_type": "code",
   "execution_count": 23,
   "outputs": [
    {
     "data": {
      "text/plain": "                           identifier instrumentType       instrument  \\\n0  FUTENRNATURALGAS26-09-2023XX0.0000         FUTENR   Energy Futures   \n1    FUTENRWTICRUDE19-10-2023XX0.0000         FUTENR   Energy Futures   \n2   OPTBLNGOLDM03-11-2023PE64250.0000         OPTBLN  Bullion Options   \n3  OPTBLNSILVER28-11-2023CE76000.0000         OPTBLN  Bullion Options   \n4   OPTBLNGOLDM05-12-2023PE60000.0000         OPTBLN  Bullion Options   \n\n     contract        unit   expiryDate  strikePrice optionType  lastPrice  \\\n0  NATURALGAS  1250 mmBtu  26-Sep-2023            0          -      226.5   \n1    WTICRUDE  100 Barrel  19-Oct-2023            0          -     7505.0   \n2       GOLDM   100 Grams  03-Nov-2023        64250        Put        0.0   \n3      SILVER       30 Kg  28-Nov-2023        76000       Call        0.0   \n4       GOLDM   100 Grams  05-Dec-2023        60000        Put        0.0   \n\n   highPrice  openPrice  lowPrice  change   pChange  numberOfContractsTraded  \\\n0      231.1        230     225.7   -10.2 -4.309252                      240   \n1     7510.0       7468    7410.0   -71.0 -0.937170                      193   \n2        0.0          0       0.0     0.0  0.000000                        0   \n3        0.0          0       0.0     0.0  0.000000                        0   \n4        0.0          0       0.0     0.0  0.000000                        0   \n\n   totalTurnover  openInterest  tradeCount  prevClose  \n0   6.874485e+07           110           0      236.7  \n1   1.440534e+08            10           0     7576.0  \n2   0.000000e+00             0           0        0.0  \n3   0.000000e+00             0           0        0.0  \n4   0.000000e+00             0           0        0.0  ",
      "text/html": "<div>\n<style scoped>\n    .dataframe tbody tr th:only-of-type {\n        vertical-align: middle;\n    }\n\n    .dataframe tbody tr th {\n        vertical-align: top;\n    }\n\n    .dataframe thead th {\n        text-align: right;\n    }\n</style>\n<table border=\"1\" class=\"dataframe\">\n  <thead>\n    <tr style=\"text-align: right;\">\n      <th></th>\n      <th>identifier</th>\n      <th>instrumentType</th>\n      <th>instrument</th>\n      <th>contract</th>\n      <th>unit</th>\n      <th>expiryDate</th>\n      <th>strikePrice</th>\n      <th>optionType</th>\n      <th>lastPrice</th>\n      <th>highPrice</th>\n      <th>openPrice</th>\n      <th>lowPrice</th>\n      <th>change</th>\n      <th>pChange</th>\n      <th>numberOfContractsTraded</th>\n      <th>totalTurnover</th>\n      <th>openInterest</th>\n      <th>tradeCount</th>\n      <th>prevClose</th>\n    </tr>\n  </thead>\n  <tbody>\n    <tr>\n      <th>0</th>\n      <td>FUTENRNATURALGAS26-09-2023XX0.0000</td>\n      <td>FUTENR</td>\n      <td>Energy Futures</td>\n      <td>NATURALGAS</td>\n      <td>1250 mmBtu</td>\n      <td>26-Sep-2023</td>\n      <td>0</td>\n      <td>-</td>\n      <td>226.5</td>\n      <td>231.1</td>\n      <td>230</td>\n      <td>225.7</td>\n      <td>-10.2</td>\n      <td>-4.309252</td>\n      <td>240</td>\n      <td>6.874485e+07</td>\n      <td>110</td>\n      <td>0</td>\n      <td>236.7</td>\n    </tr>\n    <tr>\n      <th>1</th>\n      <td>FUTENRWTICRUDE19-10-2023XX0.0000</td>\n      <td>FUTENR</td>\n      <td>Energy Futures</td>\n      <td>WTICRUDE</td>\n      <td>100 Barrel</td>\n      <td>19-Oct-2023</td>\n      <td>0</td>\n      <td>-</td>\n      <td>7505.0</td>\n      <td>7510.0</td>\n      <td>7468</td>\n      <td>7410.0</td>\n      <td>-71.0</td>\n      <td>-0.937170</td>\n      <td>193</td>\n      <td>1.440534e+08</td>\n      <td>10</td>\n      <td>0</td>\n      <td>7576.0</td>\n    </tr>\n    <tr>\n      <th>2</th>\n      <td>OPTBLNGOLDM03-11-2023PE64250.0000</td>\n      <td>OPTBLN</td>\n      <td>Bullion Options</td>\n      <td>GOLDM</td>\n      <td>100 Grams</td>\n      <td>03-Nov-2023</td>\n      <td>64250</td>\n      <td>Put</td>\n      <td>0.0</td>\n      <td>0.0</td>\n      <td>0</td>\n      <td>0.0</td>\n      <td>0.0</td>\n      <td>0.000000</td>\n      <td>0</td>\n      <td>0.000000e+00</td>\n      <td>0</td>\n      <td>0</td>\n      <td>0.0</td>\n    </tr>\n    <tr>\n      <th>3</th>\n      <td>OPTBLNSILVER28-11-2023CE76000.0000</td>\n      <td>OPTBLN</td>\n      <td>Bullion Options</td>\n      <td>SILVER</td>\n      <td>30 Kg</td>\n      <td>28-Nov-2023</td>\n      <td>76000</td>\n      <td>Call</td>\n      <td>0.0</td>\n      <td>0.0</td>\n      <td>0</td>\n      <td>0.0</td>\n      <td>0.0</td>\n      <td>0.000000</td>\n      <td>0</td>\n      <td>0.000000e+00</td>\n      <td>0</td>\n      <td>0</td>\n      <td>0.0</td>\n    </tr>\n    <tr>\n      <th>4</th>\n      <td>OPTBLNGOLDM05-12-2023PE60000.0000</td>\n      <td>OPTBLN</td>\n      <td>Bullion Options</td>\n      <td>GOLDM</td>\n      <td>100 Grams</td>\n      <td>05-Dec-2023</td>\n      <td>60000</td>\n      <td>Put</td>\n      <td>0.0</td>\n      <td>0.0</td>\n      <td>0</td>\n      <td>0.0</td>\n      <td>0.0</td>\n      <td>0.000000</td>\n      <td>0</td>\n      <td>0.000000e+00</td>\n      <td>0</td>\n      <td>0</td>\n      <td>0.0</td>\n    </tr>\n  </tbody>\n</table>\n</div>"
     },
     "execution_count": 23,
     "metadata": {},
     "output_type": "execute_result"
    }
   ],
   "source": [
    "com_fut = nse.get_commodity_futures()\n",
    "com_fut.head()"
   ],
   "metadata": {
    "collapsed": false,
    "ExecuteTime": {
     "end_time": "2023-09-20T14:18:15.746659700Z",
     "start_time": "2023-09-20T14:18:14.883879200Z"
    }
   },
   "id": "60fc6ed67a9cfee1"
  },
  {
   "cell_type": "code",
   "execution_count": 24,
   "id": "20af0ed0-8b52-4998-958d-cd3f6ec4727a",
   "metadata": {
    "ExecuteTime": {
     "end_time": "2023-09-20T14:18:18.364678200Z",
     "start_time": "2023-09-20T14:18:15.740160600Z"
    }
   },
   "outputs": [
    {
     "name": "stdout",
     "output_type": "stream",
     "text": [
      "FUTCURGBPINR26-09-2023XX0.0000\n"
     ]
    },
    {
     "data": {
      "text/plain": "                         open      high       low    close\ntimestamp                                                 \n2023-09-20 09:00:00  103.1625  103.1775  103.1325  103.155\n2023-09-20 09:05:00  103.1550  103.1550  103.1350  103.155\n2023-09-20 09:10:00  103.1525  103.1750  103.1475  103.175\n2023-09-20 09:15:00  103.1750  103.1750  103.1425  103.155\n2023-09-20 09:20:00  103.1550  103.1725  103.1475  103.150",
      "text/html": "<div>\n<style scoped>\n    .dataframe tbody tr th:only-of-type {\n        vertical-align: middle;\n    }\n\n    .dataframe tbody tr th {\n        vertical-align: top;\n    }\n\n    .dataframe thead th {\n        text-align: right;\n    }\n</style>\n<table border=\"1\" class=\"dataframe\">\n  <thead>\n    <tr style=\"text-align: right;\">\n      <th></th>\n      <th>open</th>\n      <th>high</th>\n      <th>low</th>\n      <th>close</th>\n    </tr>\n    <tr>\n      <th>timestamp</th>\n      <th></th>\n      <th></th>\n      <th></th>\n      <th></th>\n    </tr>\n  </thead>\n  <tbody>\n    <tr>\n      <th>2023-09-20 09:00:00</th>\n      <td>103.1625</td>\n      <td>103.1775</td>\n      <td>103.1325</td>\n      <td>103.155</td>\n    </tr>\n    <tr>\n      <th>2023-09-20 09:05:00</th>\n      <td>103.1550</td>\n      <td>103.1550</td>\n      <td>103.1350</td>\n      <td>103.155</td>\n    </tr>\n    <tr>\n      <th>2023-09-20 09:10:00</th>\n      <td>103.1525</td>\n      <td>103.1750</td>\n      <td>103.1475</td>\n      <td>103.175</td>\n    </tr>\n    <tr>\n      <th>2023-09-20 09:15:00</th>\n      <td>103.1750</td>\n      <td>103.1750</td>\n      <td>103.1425</td>\n      <td>103.155</td>\n    </tr>\n    <tr>\n      <th>2023-09-20 09:20:00</th>\n      <td>103.1550</td>\n      <td>103.1725</td>\n      <td>103.1475</td>\n      <td>103.150</td>\n    </tr>\n  </tbody>\n</table>\n</div>"
     },
     "execution_count": 24,
     "metadata": {},
     "output_type": "execute_result"
    }
   ],
   "source": [
    "# OHLC of commodity Future\n",
    "symbol = cur_fut.iloc[3]['identifier']\n",
    "print(symbol)\n",
    "cur_fut_ohlc = nse.get_ohlc_data(symbol, is_index=True)\n",
    "cur_fut_ohlc.head()"
   ]
  },
  {
   "cell_type": "markdown",
   "source": [
    "# -------------------------------------------------------------------------------------------------------------------------------------------------- #"
   ],
   "metadata": {
    "collapsed": false
   },
   "id": "c11c60c720a8c204"
  },
  {
   "cell_type": "code",
   "execution_count": null,
   "outputs": [],
   "source": [],
   "metadata": {
    "collapsed": false
   },
   "id": "487a0c1df9f6717e"
  }
 ],
 "metadata": {
  "kernelspec": {
   "display_name": "Python 3 (ipykernel)",
   "language": "python",
   "name": "python3"
  },
  "language_info": {
   "codemirror_mode": {
    "name": "ipython",
    "version": 3
   },
   "file_extension": ".py",
   "mimetype": "text/x-python",
   "name": "python",
   "nbconvert_exporter": "python",
   "pygments_lexer": "ipython3",
   "version": "3.9.13"
  }
 },
 "nbformat": 4,
 "nbformat_minor": 5
}
