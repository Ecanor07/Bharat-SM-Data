{
 "cells": [
  {
   "cell_type": "code",
   "execution_count": 1,
   "id": "4a5aa47b-38e6-4164-8319-d477dbfda6e8",
   "metadata": {
    "ExecuteTime": {
     "end_time": "2023-09-20T06:53:55.484971300Z",
     "start_time": "2023-09-20T06:53:54.744986700Z"
    }
   },
   "outputs": [],
   "source": [
    "from Fundamentals import Tickertape\n",
    "import pandas as pd"
   ]
  },
  {
   "cell_type": "code",
   "execution_count": 2,
   "outputs": [],
   "source": [
    "ttp = Tickertape()"
   ],
   "metadata": {
    "collapsed": false,
    "ExecuteTime": {
     "end_time": "2023-09-20T06:53:55.502478500Z",
     "start_time": "2023-09-20T06:53:55.491968Z"
    }
   },
   "id": "9d2717301156b03c"
  },
  {
   "cell_type": "code",
   "execution_count": 3,
   "outputs": [
    {
     "name": "stdout",
     "output_type": "stream",
     "text": [
      "AWL\n"
     ]
    },
    {
     "data": {
      "text/plain": "{'marketCap': 45696.6997518,\n 'ticker': 'AWL',\n 'brands': [],\n 'searchTags_keyword': ['adani wilmar ltd', 'awl'],\n 'marketCapRank': 145,\n 'searchTags': ['adani wilmar ltd', 'awl'],\n 'exchanges': 'NSE',\n 'weight': 1,\n 'ticker_keyword': 'AWL',\n 'suspended': False,\n 'sid': 'AWL',\n 'name_suggest': 'Adani Wilmar Ltd',\n 'brands_keyword': [],\n 'name_keyword': 'Adani Wilmar Ltd',\n 'ticker_suggest': 'AWL',\n 'name': 'Adani Wilmar Ltd',\n 'id': 'AWL',\n 'sector': 'Consumer Staples',\n 'ticker_key': 'AWL',\n 'slug': '/stocks/adani-wilmar-AWL',\n 'quote': {'sid': 'AWL',\n  'price': 350.05,\n  'close': 351.6,\n  'change': -1.55,\n  'high': 352.65,\n  'low': 349.2,\n  'volume': 533115,\n  'date': '2023-09-20T06:52:56.000Z'},\n 'score': 2187.5227,\n 'index': 'stock',\n 'type': 'stock',\n 'match': 'EXACT'}"
     },
     "execution_count": 3,
     "metadata": {},
     "output_type": "execute_result"
    }
   ],
   "source": [
    "# Searching in tickertape\n",
    "res, raw_data = ttp.get_ticker('Adani wilmar')\n",
    "print(res)\n",
    "raw_data[0]"
   ],
   "metadata": {
    "collapsed": false,
    "ExecuteTime": {
     "end_time": "2023-09-20T06:53:59.389123700Z",
     "start_time": "2023-09-20T06:53:58.791382500Z"
    }
   },
   "id": "f3bd5796b2766436"
  },
  {
   "cell_type": "code",
   "execution_count": 21,
   "outputs": [
    {
     "data": {
      "text/plain": "{'marketCap': '29418799.79',\n 'ticker': 'NIFTY 500',\n 'weight': 1,\n 'ticker_keyword': 'NIFTY 500',\n 'type': 'index',\n 'suspended': False,\n 'sid': '.NIFTY500',\n 'name_suggest': 'Nifty 500 Index',\n 'name_keyword': 'Nifty 500 Index',\n 'ticker_suggest': 'NIFTY 500',\n 'name': 'Nifty 500 Index',\n 'id': '.NIFTY500',\n 'sector': 'Index',\n 'ticker_key': 'NIFTY 500',\n 'slug': '/indices/nifty-500-index-.NIFTY500',\n 'quote': {'sid': '.NIFTY500',\n  'price': 17613.6,\n  'close': 17613.6,\n  'change': 0,\n  'high': 17671.6,\n  'low': 17601.55,\n  'volume': 0,\n  'date': '2023-09-19T02:41:10.759Z'},\n 'score': 1178.5251,\n 'index': 'index',\n 'match': 'EXACT'}"
     },
     "execution_count": 21,
     "metadata": {},
     "output_type": "execute_result"
    }
   ],
   "source": [
    "# Allowed search_places = ['stock', 'index', 'etf', 'mutualfund', 'space', 'profile', 'smallcase', 'all']\n",
    "_, raw_data = ttp.get_ticker('Nifty 500', search_place='index')\n",
    "raw_data[1] # here ticker is the unique id of NSE and sid is the id of Tickertape"
   ],
   "metadata": {
    "collapsed": false,
    "ExecuteTime": {
     "end_time": "2023-09-19T16:07:58.976336600Z",
     "start_time": "2023-09-19T16:07:58.827980800Z"
    }
   },
   "id": "dd1af28dc8dd491d"
  },
  {
   "cell_type": "code",
   "execution_count": 23,
   "outputs": [
    {
     "data": {
      "text/plain": "['APSE',\n 'ADEL',\n 'APLH',\n 'AXBK',\n 'ASPN',\n 'BJFS',\n 'BAJA',\n 'BJFN',\n 'BRIT',\n 'BRTI',\n 'BPCL',\n 'CIPL',\n 'COAL',\n 'REDY',\n 'DIVI',\n 'EICH',\n 'GRAS',\n 'HALC',\n 'HDBK',\n 'HDFL',\n 'HCLT',\n 'HLL',\n 'HROM',\n 'ICBK',\n 'ITC',\n 'INFY',\n 'INBK',\n 'JSTL',\n 'KTKM',\n 'LART',\n 'LRTI',\n 'MAHM',\n 'MRTI',\n 'NEST',\n 'ONGC',\n 'NTPC',\n 'PGRD',\n 'RELI',\n 'SBI',\n 'SBIL',\n 'SUN',\n 'TISC',\n 'TACN',\n 'TAMO',\n 'TCS',\n 'TEML',\n 'TITN',\n 'UPLL',\n 'ULTC',\n 'WIPR']"
     },
     "execution_count": 23,
     "metadata": {},
     "output_type": "execute_result"
    }
   ],
   "source": [
    "# Get all tickers (sid in Tickertape) of NIFTY 50\n",
    "ttp.get_all_nifty_50_ticker()"
   ],
   "metadata": {
    "collapsed": false,
    "ExecuteTime": {
     "end_time": "2023-09-19T16:08:16.029312800Z",
     "start_time": "2023-09-19T16:08:15.892517900Z"
    }
   },
   "id": "58c9815205b68e1f"
  },
  {
   "cell_type": "code",
   "execution_count": 18,
   "outputs": [
    {
     "data": {
      "text/plain": "                          _id    sid      ticker  \\\n0    5f6c78c9896509a8eb2f90e6   ADIA       ABFRL   \n1    5f6c78c9896509a8eb2f9120   AFFL       AFFLE   \n2    5f6c78c9896509a8eb2f90d2   ADRG  AARTIDRUGS   \n3    5f6c78c9896509a8eb2f90d4   ARTI    AARTIIND   \n4    5f6c78c9896509a8eb2f90f6    ACC         ACC   \n..                        ...    ...         ...   \n496  63798330b11164404f46cdd9  FIVES    FIVESTAR   \n497  637d77b33021092d47c3f294   RUST   RUSTOMJEE   \n498  63ab9d1a3c2e783f356aefe0    KFI    KFINTECH   \n499  63ef0a700fe1c694456167b5   NSLN     NSLNISP   \n500  6455adb575b71e863426c354  MANKI     MANKIND   \n\n                                    name                  sector  lastPrice  \\\n0    Aditya Birla Fashion and Retail Ltd  Consumer Discretionary     225.50   \n1                      Affle (India) Ltd  Communication Services    1105.10   \n2                        Aarti Drugs Ltd             Health Care     593.35   \n3                   Aarti Industries Ltd               Materials     511.95   \n4                                ACC Ltd               Materials    2006.70   \n..                                   ...                     ...        ...   \n496       Five-Star Business Finance Ltd              Financials     699.85   \n497                Keystone Realtors Ltd             Real Estate     584.65   \n498                Kfin Technologies Ltd             Industrials     453.35   \n499                       NMDC Steel Ltd               Materials      53.75   \n500                   Mankind Pharma Ltd             Health Care    1734.45   \n\n         pr1d                                          slug   freeFloat   type  \n0    0.088771  /stocks/aditya-birla-fashion-and-retail-ADIA   33.452543  stock  \n1   -0.432471                      /stocks/affle-india-AFFL    5.325267  stock  \n2    1.531485                      /stocks/aarti-drugs-ADRG    3.175814  stock  \n3   -0.107317                 /stocks/aarti-industries-ARTI   20.296712  stock  \n4   -0.994153                               /stocks/acc-ACC    7.789898  stock  \n..        ...                                           ...         ...    ...  \n496  1.788961      /stocks/five-star-business-finance-FIVES   16.056853  stock  \n497 -1.057709                /stocks/keystone-realtors-RUST    1.364193  stock  \n498 -2.494892                 /stocks/kfin-technologies-KFI    6.243831  stock  \n499 -0.738689                       /stocks/nmdc-steel-NSLN  114.897228  stock  \n500 -1.767055                  /stocks/mankind-pharma-MANKI    4.275960  stock  \n\n[501 rows x 10 columns]",
      "text/html": "<div>\n<style scoped>\n    .dataframe tbody tr th:only-of-type {\n        vertical-align: middle;\n    }\n\n    .dataframe tbody tr th {\n        vertical-align: top;\n    }\n\n    .dataframe thead th {\n        text-align: right;\n    }\n</style>\n<table border=\"1\" class=\"dataframe\">\n  <thead>\n    <tr style=\"text-align: right;\">\n      <th></th>\n      <th>_id</th>\n      <th>sid</th>\n      <th>ticker</th>\n      <th>name</th>\n      <th>sector</th>\n      <th>lastPrice</th>\n      <th>pr1d</th>\n      <th>slug</th>\n      <th>freeFloat</th>\n      <th>type</th>\n    </tr>\n  </thead>\n  <tbody>\n    <tr>\n      <th>0</th>\n      <td>5f6c78c9896509a8eb2f90e6</td>\n      <td>ADIA</td>\n      <td>ABFRL</td>\n      <td>Aditya Birla Fashion and Retail Ltd</td>\n      <td>Consumer Discretionary</td>\n      <td>225.50</td>\n      <td>0.088771</td>\n      <td>/stocks/aditya-birla-fashion-and-retail-ADIA</td>\n      <td>33.452543</td>\n      <td>stock</td>\n    </tr>\n    <tr>\n      <th>1</th>\n      <td>5f6c78c9896509a8eb2f9120</td>\n      <td>AFFL</td>\n      <td>AFFLE</td>\n      <td>Affle (India) Ltd</td>\n      <td>Communication Services</td>\n      <td>1105.10</td>\n      <td>-0.432471</td>\n      <td>/stocks/affle-india-AFFL</td>\n      <td>5.325267</td>\n      <td>stock</td>\n    </tr>\n    <tr>\n      <th>2</th>\n      <td>5f6c78c9896509a8eb2f90d2</td>\n      <td>ADRG</td>\n      <td>AARTIDRUGS</td>\n      <td>Aarti Drugs Ltd</td>\n      <td>Health Care</td>\n      <td>593.35</td>\n      <td>1.531485</td>\n      <td>/stocks/aarti-drugs-ADRG</td>\n      <td>3.175814</td>\n      <td>stock</td>\n    </tr>\n    <tr>\n      <th>3</th>\n      <td>5f6c78c9896509a8eb2f90d4</td>\n      <td>ARTI</td>\n      <td>AARTIIND</td>\n      <td>Aarti Industries Ltd</td>\n      <td>Materials</td>\n      <td>511.95</td>\n      <td>-0.107317</td>\n      <td>/stocks/aarti-industries-ARTI</td>\n      <td>20.296712</td>\n      <td>stock</td>\n    </tr>\n    <tr>\n      <th>4</th>\n      <td>5f6c78c9896509a8eb2f90f6</td>\n      <td>ACC</td>\n      <td>ACC</td>\n      <td>ACC Ltd</td>\n      <td>Materials</td>\n      <td>2006.70</td>\n      <td>-0.994153</td>\n      <td>/stocks/acc-ACC</td>\n      <td>7.789898</td>\n      <td>stock</td>\n    </tr>\n    <tr>\n      <th>...</th>\n      <td>...</td>\n      <td>...</td>\n      <td>...</td>\n      <td>...</td>\n      <td>...</td>\n      <td>...</td>\n      <td>...</td>\n      <td>...</td>\n      <td>...</td>\n      <td>...</td>\n    </tr>\n    <tr>\n      <th>496</th>\n      <td>63798330b11164404f46cdd9</td>\n      <td>FIVES</td>\n      <td>FIVESTAR</td>\n      <td>Five-Star Business Finance Ltd</td>\n      <td>Financials</td>\n      <td>699.85</td>\n      <td>1.788961</td>\n      <td>/stocks/five-star-business-finance-FIVES</td>\n      <td>16.056853</td>\n      <td>stock</td>\n    </tr>\n    <tr>\n      <th>497</th>\n      <td>637d77b33021092d47c3f294</td>\n      <td>RUST</td>\n      <td>RUSTOMJEE</td>\n      <td>Keystone Realtors Ltd</td>\n      <td>Real Estate</td>\n      <td>584.65</td>\n      <td>-1.057709</td>\n      <td>/stocks/keystone-realtors-RUST</td>\n      <td>1.364193</td>\n      <td>stock</td>\n    </tr>\n    <tr>\n      <th>498</th>\n      <td>63ab9d1a3c2e783f356aefe0</td>\n      <td>KFI</td>\n      <td>KFINTECH</td>\n      <td>Kfin Technologies Ltd</td>\n      <td>Industrials</td>\n      <td>453.35</td>\n      <td>-2.494892</td>\n      <td>/stocks/kfin-technologies-KFI</td>\n      <td>6.243831</td>\n      <td>stock</td>\n    </tr>\n    <tr>\n      <th>499</th>\n      <td>63ef0a700fe1c694456167b5</td>\n      <td>NSLN</td>\n      <td>NSLNISP</td>\n      <td>NMDC Steel Ltd</td>\n      <td>Materials</td>\n      <td>53.75</td>\n      <td>-0.738689</td>\n      <td>/stocks/nmdc-steel-NSLN</td>\n      <td>114.897228</td>\n      <td>stock</td>\n    </tr>\n    <tr>\n      <th>500</th>\n      <td>6455adb575b71e863426c354</td>\n      <td>MANKI</td>\n      <td>MANKIND</td>\n      <td>Mankind Pharma Ltd</td>\n      <td>Health Care</td>\n      <td>1734.45</td>\n      <td>-1.767055</td>\n      <td>/stocks/mankind-pharma-MANKI</td>\n      <td>4.275960</td>\n      <td>stock</td>\n    </tr>\n  </tbody>\n</table>\n<p>501 rows × 10 columns</p>\n</div>"
     },
     "execution_count": 18,
     "metadata": {},
     "output_type": "execute_result"
    }
   ],
   "source": [
    "# Get all tickers of an Index\n",
    "ttp.get_all_constituents_of_index('.NIFTY500')"
   ],
   "metadata": {
    "collapsed": false,
    "ExecuteTime": {
     "end_time": "2023-09-19T16:06:20.470005400Z",
     "start_time": "2023-09-19T16:06:20.017905400Z"
    }
   },
   "id": "e69b333124565ef5"
  },
  {
   "cell_type": "markdown",
   "source": [
    "# Annual Report/ Quarterly Results extracted data\n",
    "# some params meanings\n",
    "time_horizon -> result time period (annual / interim (quarterly) )\n",
    "time_period -> count of records required (any integer (less than 20))\n",
    "view_type -> **normal** - just show the numbers as is,  **growth** - what is the % of increase happened compared to last entry (either Annually or Quarterly)\n"
   ],
   "metadata": {
    "collapsed": false
   },
   "id": "f68783d266afb2e1"
  },
  {
   "cell_type": "code",
   "execution_count": 24,
   "outputs": [
    {
     "data": {
      "text/plain": "  displayPeriod                   endDate     reporting  qIncTrev qIncRaw  \\\n0      MAR 2021  2021-03-31T00:00:00.000Z  consolidated   3075.35    None   \n1      JUN 2021  2021-06-30T00:00:00.000Z  consolidated   2935.72    None   \n2      SEP 2021  2021-09-30T00:00:00.000Z  consolidated   2876.91    None   \n3      DEC 2021  2021-12-31T00:00:00.000Z  consolidated   3335.71    None   \n4      MAR 2022  2022-03-31T00:00:00.000Z  consolidated   3411.19    None   \n5      JUN 2022  2022-06-30T00:00:00.000Z  consolidated   3784.42    None   \n6      SEP 2022  2022-09-30T00:00:00.000Z  consolidated   3449.56    None   \n7      DEC 2022  2022-12-31T00:00:00.000Z  consolidated   3781.94    None   \n8      MAR 2023  2023-03-31T00:00:00.000Z  consolidated   3860.12    None   \n9      JUN 2023  2023-06-30T00:00:00.000Z  consolidated   3772.25    None   \n\n  qIncPfc qIncEpc qIncSga  qIncOpe  qIncEbi  qIncDep  qIncPbi  qIncIoi  \\\n0    None    None    None  1899.18  1176.17   311.87   864.30   494.18   \n1    None    None    None  1439.27  1496.45   342.12  1154.33   614.34   \n2    None    None    None  1587.41  1289.50   352.76   936.74   540.36   \n3    None    None    None  2010.82  1324.89   362.74   962.15   560.24   \n4    None    None    None  2029.42  1381.77   369.53  1012.24   650.01   \n5    None    None    None  2458.63  1325.79   383.98   941.81   739.98   \n6    None    None    None  2087.86  1361.70   397.84   963.86   713.91   \n7    None    None    None  2074.16  1707.78   410.37  1297.41   697.09   \n8    None    None    None  2154.46  1705.66   415.55  1290.11   630.49   \n9    None    None    None  2394.61  1377.64   418.88   958.76   615.67   \n\n   qIncPbt  qIncToi  qIncNinc  qIncEps qIncDps qIncPyr  \n0   370.12   131.70    238.42     1.67    None    None  \n1   539.99   104.57    435.42     3.39    None    None  \n2   396.38   123.81    272.57     1.90    None    None  \n3   401.91   134.88    267.03     1.85    None    None  \n4   362.23   132.64    229.59     1.75    None    None  \n5   201.83    15.84    185.99     1.50    None    None  \n6   249.95    43.78    206.17     1.85    None    None  \n7   600.32   125.60    474.72     4.26    None    None  \n8   659.62   270.17    389.45     3.49    None    None  \n9   343.09   168.03    175.06     1.57    None    None  ",
      "text/html": "<div>\n<style scoped>\n    .dataframe tbody tr th:only-of-type {\n        vertical-align: middle;\n    }\n\n    .dataframe tbody tr th {\n        vertical-align: top;\n    }\n\n    .dataframe thead th {\n        text-align: right;\n    }\n</style>\n<table border=\"1\" class=\"dataframe\">\n  <thead>\n    <tr style=\"text-align: right;\">\n      <th></th>\n      <th>displayPeriod</th>\n      <th>endDate</th>\n      <th>reporting</th>\n      <th>qIncTrev</th>\n      <th>qIncRaw</th>\n      <th>qIncPfc</th>\n      <th>qIncEpc</th>\n      <th>qIncSga</th>\n      <th>qIncOpe</th>\n      <th>qIncEbi</th>\n      <th>qIncDep</th>\n      <th>qIncPbi</th>\n      <th>qIncIoi</th>\n      <th>qIncPbt</th>\n      <th>qIncToi</th>\n      <th>qIncNinc</th>\n      <th>qIncEps</th>\n      <th>qIncDps</th>\n      <th>qIncPyr</th>\n    </tr>\n  </thead>\n  <tbody>\n    <tr>\n      <th>0</th>\n      <td>MAR 2021</td>\n      <td>2021-03-31T00:00:00.000Z</td>\n      <td>consolidated</td>\n      <td>3075.35</td>\n      <td>None</td>\n      <td>None</td>\n      <td>None</td>\n      <td>None</td>\n      <td>1899.18</td>\n      <td>1176.17</td>\n      <td>311.87</td>\n      <td>864.30</td>\n      <td>494.18</td>\n      <td>370.12</td>\n      <td>131.70</td>\n      <td>238.42</td>\n      <td>1.67</td>\n      <td>None</td>\n      <td>None</td>\n    </tr>\n    <tr>\n      <th>1</th>\n      <td>JUN 2021</td>\n      <td>2021-06-30T00:00:00.000Z</td>\n      <td>consolidated</td>\n      <td>2935.72</td>\n      <td>None</td>\n      <td>None</td>\n      <td>None</td>\n      <td>None</td>\n      <td>1439.27</td>\n      <td>1496.45</td>\n      <td>342.12</td>\n      <td>1154.33</td>\n      <td>614.34</td>\n      <td>539.99</td>\n      <td>104.57</td>\n      <td>435.42</td>\n      <td>3.39</td>\n      <td>None</td>\n      <td>None</td>\n    </tr>\n    <tr>\n      <th>2</th>\n      <td>SEP 2021</td>\n      <td>2021-09-30T00:00:00.000Z</td>\n      <td>consolidated</td>\n      <td>2876.91</td>\n      <td>None</td>\n      <td>None</td>\n      <td>None</td>\n      <td>None</td>\n      <td>1587.41</td>\n      <td>1289.50</td>\n      <td>352.76</td>\n      <td>936.74</td>\n      <td>540.36</td>\n      <td>396.38</td>\n      <td>123.81</td>\n      <td>272.57</td>\n      <td>1.90</td>\n      <td>None</td>\n      <td>None</td>\n    </tr>\n    <tr>\n      <th>3</th>\n      <td>DEC 2021</td>\n      <td>2021-12-31T00:00:00.000Z</td>\n      <td>consolidated</td>\n      <td>3335.71</td>\n      <td>None</td>\n      <td>None</td>\n      <td>None</td>\n      <td>None</td>\n      <td>2010.82</td>\n      <td>1324.89</td>\n      <td>362.74</td>\n      <td>962.15</td>\n      <td>560.24</td>\n      <td>401.91</td>\n      <td>134.88</td>\n      <td>267.03</td>\n      <td>1.85</td>\n      <td>None</td>\n      <td>None</td>\n    </tr>\n    <tr>\n      <th>4</th>\n      <td>MAR 2022</td>\n      <td>2022-03-31T00:00:00.000Z</td>\n      <td>consolidated</td>\n      <td>3411.19</td>\n      <td>None</td>\n      <td>None</td>\n      <td>None</td>\n      <td>None</td>\n      <td>2029.42</td>\n      <td>1381.77</td>\n      <td>369.53</td>\n      <td>1012.24</td>\n      <td>650.01</td>\n      <td>362.23</td>\n      <td>132.64</td>\n      <td>229.59</td>\n      <td>1.75</td>\n      <td>None</td>\n      <td>None</td>\n    </tr>\n    <tr>\n      <th>5</th>\n      <td>JUN 2022</td>\n      <td>2022-06-30T00:00:00.000Z</td>\n      <td>consolidated</td>\n      <td>3784.42</td>\n      <td>None</td>\n      <td>None</td>\n      <td>None</td>\n      <td>None</td>\n      <td>2458.63</td>\n      <td>1325.79</td>\n      <td>383.98</td>\n      <td>941.81</td>\n      <td>739.98</td>\n      <td>201.83</td>\n      <td>15.84</td>\n      <td>185.99</td>\n      <td>1.50</td>\n      <td>None</td>\n      <td>None</td>\n    </tr>\n    <tr>\n      <th>6</th>\n      <td>SEP 2022</td>\n      <td>2022-09-30T00:00:00.000Z</td>\n      <td>consolidated</td>\n      <td>3449.56</td>\n      <td>None</td>\n      <td>None</td>\n      <td>None</td>\n      <td>None</td>\n      <td>2087.86</td>\n      <td>1361.70</td>\n      <td>397.84</td>\n      <td>963.86</td>\n      <td>713.91</td>\n      <td>249.95</td>\n      <td>43.78</td>\n      <td>206.17</td>\n      <td>1.85</td>\n      <td>None</td>\n      <td>None</td>\n    </tr>\n    <tr>\n      <th>7</th>\n      <td>DEC 2022</td>\n      <td>2022-12-31T00:00:00.000Z</td>\n      <td>consolidated</td>\n      <td>3781.94</td>\n      <td>None</td>\n      <td>None</td>\n      <td>None</td>\n      <td>None</td>\n      <td>2074.16</td>\n      <td>1707.78</td>\n      <td>410.37</td>\n      <td>1297.41</td>\n      <td>697.09</td>\n      <td>600.32</td>\n      <td>125.60</td>\n      <td>474.72</td>\n      <td>4.26</td>\n      <td>None</td>\n      <td>None</td>\n    </tr>\n    <tr>\n      <th>8</th>\n      <td>MAR 2023</td>\n      <td>2023-03-31T00:00:00.000Z</td>\n      <td>consolidated</td>\n      <td>3860.12</td>\n      <td>None</td>\n      <td>None</td>\n      <td>None</td>\n      <td>None</td>\n      <td>2154.46</td>\n      <td>1705.66</td>\n      <td>415.55</td>\n      <td>1290.11</td>\n      <td>630.49</td>\n      <td>659.62</td>\n      <td>270.17</td>\n      <td>389.45</td>\n      <td>3.49</td>\n      <td>None</td>\n      <td>None</td>\n    </tr>\n    <tr>\n      <th>9</th>\n      <td>JUN 2023</td>\n      <td>2023-06-30T00:00:00.000Z</td>\n      <td>consolidated</td>\n      <td>3772.25</td>\n      <td>None</td>\n      <td>None</td>\n      <td>None</td>\n      <td>None</td>\n      <td>2394.61</td>\n      <td>1377.64</td>\n      <td>418.88</td>\n      <td>958.76</td>\n      <td>615.67</td>\n      <td>343.09</td>\n      <td>168.03</td>\n      <td>175.06</td>\n      <td>1.57</td>\n      <td>None</td>\n      <td>None</td>\n    </tr>\n  </tbody>\n</table>\n</div>"
     },
     "execution_count": 24,
     "metadata": {},
     "output_type": "execute_result"
    }
   ],
   "source": [
    "ttp.get_income_data('ADAI') # time_horizon = interim (quarterly), time_periods = 10 (10 qtrs), view = Normal"
   ],
   "metadata": {
    "collapsed": false,
    "ExecuteTime": {
     "end_time": "2023-09-19T16:09:35.459373800Z",
     "start_time": "2023-09-19T16:09:35.332833800Z"
    }
   },
   "id": "1810053da41d9653"
  },
  {
   "cell_type": "code",
   "execution_count": 27,
   "outputs": [
    {
     "data": {
      "text/plain": "         incTrev  incCrev  incGpro  incOpc       incRaw       incPfc  \\\n0   11621.470000      NaN      NaN     NaN  1710.170000  2384.340000   \n1      -1.638089      NaN      NaN     NaN     3.492635    -0.261708   \n2       4.936708      NaN      NaN     NaN    11.978078     2.790883   \n3      -0.654250      NaN      NaN     NaN    -6.752611    -1.955434   \n4      -6.662449      NaN      NaN     NaN   -13.976202    -9.878707   \n5      20.695263      NaN      NaN     NaN    24.600888    25.789500   \n6      11.394415      NaN      NaN     NaN    24.057490    10.448887   \n7       6.923622      NaN      NaN     NaN     6.537317     4.438105   \n8     -12.372420      NaN      NaN     NaN    -9.471827   -17.848060   \n9      16.831565      NaN      NaN     NaN    28.296696    30.688443   \n10           NaN      NaN      NaN     NaN          NaN          NaN   \n11           NaN      NaN      NaN     NaN          NaN          NaN   \n12    -16.546896      NaN      NaN     NaN          NaN          NaN   \n\n        incEpc       incSga       incOpe       incEbi  ...      incIoi  \\\n0   617.860000  2696.120000  2088.440000  2124.540000  ...  114.650000   \n1     7.233030     7.568654   -13.361648   -10.052058  ...   -0.959442   \n2    12.904686    11.112069     1.063342    -7.381553  ...  -27.115808   \n3     3.223047   -77.590343   156.210387   -15.659465  ...  -21.894635   \n4    -1.999586   367.770792   -64.452503     5.385996  ...   21.704827   \n5     8.542129    26.402918    -4.909784    30.451448  ...   25.244693   \n6     7.575241    14.249246    -3.174884     7.255105  ...  -10.920532   \n7    -1.977184     0.302157    13.053998    24.720821  ...   -1.709012   \n8    -2.874924   -17.472307     2.842112   -12.401875  ...  -33.835632   \n9    -0.600326    16.536572   -29.280249    31.475359  ...   -4.309741   \n10         NaN          NaN  -100.000000          NaN  ...         NaN   \n11         NaN          NaN          NaN          NaN  ...         NaN   \n12         NaN          NaN   -16.647120   -15.580803  ...   -0.452899   \n\n         incPbt       incToi      incNinc     incEps      incDps      incPyr  \\\n0   1440.990000   381.710000  1059.280000  56.305921   30.000000    0.532804   \n1    -15.777348   -68.832360     3.340949   3.340949    0.000000   -3.232938   \n2     -7.753535  -135.538371     6.134269   6.134269   13.333333    6.782978   \n3    -31.621023   520.837275   -49.424179 -49.424179  -50.000000   -1.138530   \n4     15.646676    27.589501    12.030293  11.957498    0.000000  -10.680390   \n5     47.977545    69.874901    40.425952  40.334766   52.941176    8.983099   \n6     15.270293  -102.686374    64.480047  64.568605  -46.153846  -67.280422   \n7     35.918575  6616.505792    -9.408933  -9.360131    0.000000   10.326726   \n8    -16.743808   -58.722282     3.831103   3.775199    0.000000   -3.637863   \n9     46.670568   130.878817    30.262624  30.192527  314.285714  218.210057   \n10          NaN          NaN          NaN        NaN         NaN         NaN   \n11          NaN          NaN          NaN        NaN         NaN         NaN   \n12   -17.596873   -17.034611   -17.798592 -17.798592 -100.000000 -100.000000   \n\n      displayPeriod     reporting endDate  \n0           FY 2012  consolidated     NaN  \n1   FY '12 - FY '13           NaN     NaN  \n2   FY '13 - FY '14           NaN     NaN  \n3   FY '14 - FY '15           NaN     NaN  \n4   FY '15 - FY '16           NaN     NaN  \n5   FY '16 - FY '17           NaN     NaN  \n6   FY '17 - FY '18           NaN     NaN  \n7   FY '18 - FY '19           NaN     NaN  \n8   FY '19 - FY '20           NaN     NaN  \n9   FY '20 - FY '21           NaN     NaN  \n10  FY '21 - FY '22           NaN     NaN  \n11  FY '22 - FY '23           NaN     NaN  \n12              TTM                        \n\n[13 rows x 22 columns]",
      "text/html": "<div>\n<style scoped>\n    .dataframe tbody tr th:only-of-type {\n        vertical-align: middle;\n    }\n\n    .dataframe tbody tr th {\n        vertical-align: top;\n    }\n\n    .dataframe thead th {\n        text-align: right;\n    }\n</style>\n<table border=\"1\" class=\"dataframe\">\n  <thead>\n    <tr style=\"text-align: right;\">\n      <th></th>\n      <th>incTrev</th>\n      <th>incCrev</th>\n      <th>incGpro</th>\n      <th>incOpc</th>\n      <th>incRaw</th>\n      <th>incPfc</th>\n      <th>incEpc</th>\n      <th>incSga</th>\n      <th>incOpe</th>\n      <th>incEbi</th>\n      <th>...</th>\n      <th>incIoi</th>\n      <th>incPbt</th>\n      <th>incToi</th>\n      <th>incNinc</th>\n      <th>incEps</th>\n      <th>incDps</th>\n      <th>incPyr</th>\n      <th>displayPeriod</th>\n      <th>reporting</th>\n      <th>endDate</th>\n    </tr>\n  </thead>\n  <tbody>\n    <tr>\n      <th>0</th>\n      <td>11621.470000</td>\n      <td>NaN</td>\n      <td>NaN</td>\n      <td>NaN</td>\n      <td>1710.170000</td>\n      <td>2384.340000</td>\n      <td>617.860000</td>\n      <td>2696.120000</td>\n      <td>2088.440000</td>\n      <td>2124.540000</td>\n      <td>...</td>\n      <td>114.650000</td>\n      <td>1440.990000</td>\n      <td>381.710000</td>\n      <td>1059.280000</td>\n      <td>56.305921</td>\n      <td>30.000000</td>\n      <td>0.532804</td>\n      <td>FY 2012</td>\n      <td>consolidated</td>\n      <td>NaN</td>\n    </tr>\n    <tr>\n      <th>1</th>\n      <td>-1.638089</td>\n      <td>NaN</td>\n      <td>NaN</td>\n      <td>NaN</td>\n      <td>3.492635</td>\n      <td>-0.261708</td>\n      <td>7.233030</td>\n      <td>7.568654</td>\n      <td>-13.361648</td>\n      <td>-10.052058</td>\n      <td>...</td>\n      <td>-0.959442</td>\n      <td>-15.777348</td>\n      <td>-68.832360</td>\n      <td>3.340949</td>\n      <td>3.340949</td>\n      <td>0.000000</td>\n      <td>-3.232938</td>\n      <td>FY '12 - FY '13</td>\n      <td>NaN</td>\n      <td>NaN</td>\n    </tr>\n    <tr>\n      <th>2</th>\n      <td>4.936708</td>\n      <td>NaN</td>\n      <td>NaN</td>\n      <td>NaN</td>\n      <td>11.978078</td>\n      <td>2.790883</td>\n      <td>12.904686</td>\n      <td>11.112069</td>\n      <td>1.063342</td>\n      <td>-7.381553</td>\n      <td>...</td>\n      <td>-27.115808</td>\n      <td>-7.753535</td>\n      <td>-135.538371</td>\n      <td>6.134269</td>\n      <td>6.134269</td>\n      <td>13.333333</td>\n      <td>6.782978</td>\n      <td>FY '13 - FY '14</td>\n      <td>NaN</td>\n      <td>NaN</td>\n    </tr>\n    <tr>\n      <th>3</th>\n      <td>-0.654250</td>\n      <td>NaN</td>\n      <td>NaN</td>\n      <td>NaN</td>\n      <td>-6.752611</td>\n      <td>-1.955434</td>\n      <td>3.223047</td>\n      <td>-77.590343</td>\n      <td>156.210387</td>\n      <td>-15.659465</td>\n      <td>...</td>\n      <td>-21.894635</td>\n      <td>-31.621023</td>\n      <td>520.837275</td>\n      <td>-49.424179</td>\n      <td>-49.424179</td>\n      <td>-50.000000</td>\n      <td>-1.138530</td>\n      <td>FY '14 - FY '15</td>\n      <td>NaN</td>\n      <td>NaN</td>\n    </tr>\n    <tr>\n      <th>4</th>\n      <td>-6.662449</td>\n      <td>NaN</td>\n      <td>NaN</td>\n      <td>NaN</td>\n      <td>-13.976202</td>\n      <td>-9.878707</td>\n      <td>-1.999586</td>\n      <td>367.770792</td>\n      <td>-64.452503</td>\n      <td>5.385996</td>\n      <td>...</td>\n      <td>21.704827</td>\n      <td>15.646676</td>\n      <td>27.589501</td>\n      <td>12.030293</td>\n      <td>11.957498</td>\n      <td>0.000000</td>\n      <td>-10.680390</td>\n      <td>FY '15 - FY '16</td>\n      <td>NaN</td>\n      <td>NaN</td>\n    </tr>\n    <tr>\n      <th>5</th>\n      <td>20.695263</td>\n      <td>NaN</td>\n      <td>NaN</td>\n      <td>NaN</td>\n      <td>24.600888</td>\n      <td>25.789500</td>\n      <td>8.542129</td>\n      <td>26.402918</td>\n      <td>-4.909784</td>\n      <td>30.451448</td>\n      <td>...</td>\n      <td>25.244693</td>\n      <td>47.977545</td>\n      <td>69.874901</td>\n      <td>40.425952</td>\n      <td>40.334766</td>\n      <td>52.941176</td>\n      <td>8.983099</td>\n      <td>FY '16 - FY '17</td>\n      <td>NaN</td>\n      <td>NaN</td>\n    </tr>\n    <tr>\n      <th>6</th>\n      <td>11.394415</td>\n      <td>NaN</td>\n      <td>NaN</td>\n      <td>NaN</td>\n      <td>24.057490</td>\n      <td>10.448887</td>\n      <td>7.575241</td>\n      <td>14.249246</td>\n      <td>-3.174884</td>\n      <td>7.255105</td>\n      <td>...</td>\n      <td>-10.920532</td>\n      <td>15.270293</td>\n      <td>-102.686374</td>\n      <td>64.480047</td>\n      <td>64.568605</td>\n      <td>-46.153846</td>\n      <td>-67.280422</td>\n      <td>FY '17 - FY '18</td>\n      <td>NaN</td>\n      <td>NaN</td>\n    </tr>\n    <tr>\n      <th>7</th>\n      <td>6.923622</td>\n      <td>NaN</td>\n      <td>NaN</td>\n      <td>NaN</td>\n      <td>6.537317</td>\n      <td>4.438105</td>\n      <td>-1.977184</td>\n      <td>0.302157</td>\n      <td>13.053998</td>\n      <td>24.720821</td>\n      <td>...</td>\n      <td>-1.709012</td>\n      <td>35.918575</td>\n      <td>6616.505792</td>\n      <td>-9.408933</td>\n      <td>-9.360131</td>\n      <td>0.000000</td>\n      <td>10.326726</td>\n      <td>FY '18 - FY '19</td>\n      <td>NaN</td>\n      <td>NaN</td>\n    </tr>\n    <tr>\n      <th>8</th>\n      <td>-12.372420</td>\n      <td>NaN</td>\n      <td>NaN</td>\n      <td>NaN</td>\n      <td>-9.471827</td>\n      <td>-17.848060</td>\n      <td>-2.874924</td>\n      <td>-17.472307</td>\n      <td>2.842112</td>\n      <td>-12.401875</td>\n      <td>...</td>\n      <td>-33.835632</td>\n      <td>-16.743808</td>\n      <td>-58.722282</td>\n      <td>3.831103</td>\n      <td>3.775199</td>\n      <td>0.000000</td>\n      <td>-3.637863</td>\n      <td>FY '19 - FY '20</td>\n      <td>NaN</td>\n      <td>NaN</td>\n    </tr>\n    <tr>\n      <th>9</th>\n      <td>16.831565</td>\n      <td>NaN</td>\n      <td>NaN</td>\n      <td>NaN</td>\n      <td>28.296696</td>\n      <td>30.688443</td>\n      <td>-0.600326</td>\n      <td>16.536572</td>\n      <td>-29.280249</td>\n      <td>31.475359</td>\n      <td>...</td>\n      <td>-4.309741</td>\n      <td>46.670568</td>\n      <td>130.878817</td>\n      <td>30.262624</td>\n      <td>30.192527</td>\n      <td>314.285714</td>\n      <td>218.210057</td>\n      <td>FY '20 - FY '21</td>\n      <td>NaN</td>\n      <td>NaN</td>\n    </tr>\n    <tr>\n      <th>10</th>\n      <td>NaN</td>\n      <td>NaN</td>\n      <td>NaN</td>\n      <td>NaN</td>\n      <td>NaN</td>\n      <td>NaN</td>\n      <td>NaN</td>\n      <td>NaN</td>\n      <td>-100.000000</td>\n      <td>NaN</td>\n      <td>...</td>\n      <td>NaN</td>\n      <td>NaN</td>\n      <td>NaN</td>\n      <td>NaN</td>\n      <td>NaN</td>\n      <td>NaN</td>\n      <td>NaN</td>\n      <td>FY '21 - FY '22</td>\n      <td>NaN</td>\n      <td>NaN</td>\n    </tr>\n    <tr>\n      <th>11</th>\n      <td>NaN</td>\n      <td>NaN</td>\n      <td>NaN</td>\n      <td>NaN</td>\n      <td>NaN</td>\n      <td>NaN</td>\n      <td>NaN</td>\n      <td>NaN</td>\n      <td>NaN</td>\n      <td>NaN</td>\n      <td>...</td>\n      <td>NaN</td>\n      <td>NaN</td>\n      <td>NaN</td>\n      <td>NaN</td>\n      <td>NaN</td>\n      <td>NaN</td>\n      <td>NaN</td>\n      <td>FY '22 - FY '23</td>\n      <td>NaN</td>\n      <td>NaN</td>\n    </tr>\n    <tr>\n      <th>12</th>\n      <td>-16.546896</td>\n      <td>NaN</td>\n      <td>NaN</td>\n      <td>NaN</td>\n      <td>NaN</td>\n      <td>NaN</td>\n      <td>NaN</td>\n      <td>NaN</td>\n      <td>-16.647120</td>\n      <td>-15.580803</td>\n      <td>...</td>\n      <td>-0.452899</td>\n      <td>-17.596873</td>\n      <td>-17.034611</td>\n      <td>-17.798592</td>\n      <td>-17.798592</td>\n      <td>-100.000000</td>\n      <td>-100.000000</td>\n      <td>TTM</td>\n      <td></td>\n      <td></td>\n    </tr>\n  </tbody>\n</table>\n<p>13 rows × 22 columns</p>\n</div>"
     },
     "execution_count": 27,
     "metadata": {},
     "output_type": "execute_result"
    }
   ],
   "source": [
    "ttp.get_income_data('ACC', time_horizon='annual', view_type='growth', num_time_periods=12)"
   ],
   "metadata": {
    "collapsed": false,
    "ExecuteTime": {
     "end_time": "2023-09-19T16:12:20.500665400Z",
     "start_time": "2023-09-19T16:12:20.344784Z"
    }
   },
   "id": "ff4536b15d49b411"
  },
  {
   "cell_type": "code",
   "execution_count": 29,
   "outputs": [
    {
     "data": {
      "text/plain": "        balCsti     balTrec     balTinv      balOca      balTca balNetl  \\\n0     10.560000  406.980000  325.860000   81.780000  825.180000    None   \n1     17.613636    5.413042   41.824710   41.856200   23.559708    None   \n2     19.565217    3.307615   31.152223   38.488061   20.129660    None   \n3    127.003367   -0.952166   -8.973471    7.830200   -2.218267    None   \n4    -14.001780   19.230944  -10.247766    7.602170    3.033415    None   \n5     -1.690238    0.242644   15.392072    3.326002    6.742356    None   \n6     12.631579   24.792727   30.781750   30.206116   27.919283    None   \n7   2405.295950   18.524628    3.277131  -10.251605   52.949660    None   \n8    -69.250187   -2.912221    8.278159  -25.155500  -22.204718    None   \n9     66.735412    5.347473   11.966303   34.079307   18.092445    None   \n10   -57.906480   37.517796   -0.166724  121.202462   13.990117    None   \n11    15.654529  -13.836668   10.376611  -42.555491   -8.876069    None   \n\n       balNppe     balGint     balLti     balOtha  ...      balTeq  \\\n0   493.940000    3.890000  93.570000  243.250000  ...  593.360000   \n1    50.289509 -100.000000   1.977129   30.988695  ...   28.171768   \n2    27.120996         NaN  22.867323   20.635220  ...   15.055488   \n3    22.913730         NaN  18.730809   14.745824  ...   16.828187   \n4    34.369342         NaN -70.359195  -70.013150  ...   16.347932   \n5    26.041513  404.761905  13.814833   27.294723  ...   19.920295   \n6    23.822808  -18.867925   0.553663   33.749109  ...   16.064418   \n7    20.864989  -23.255814 -29.775519   36.082245  ...   63.986831   \n8    32.153596  -30.303030  11.610374   32.000783  ...   13.212044   \n9    25.871961  -89.130435  71.629289  -20.870726  ...   14.373379   \n10    1.027525 -100.000000 -55.462846  -51.513731  ...   28.492749   \n11   20.574865         NaN -39.307176  -39.106901  ...    8.946797   \n\n        balTlse    balTcso  balTpso      balNca       balCa      balNcl  \\\n0   1659.830000  33.053281     None  834.650000  825.180000  333.940000   \n1     31.096558  14.552340     None   38.547894   23.559708   22.438163   \n2     22.708848  11.963936     None   24.982921   20.129660   48.651161   \n3     10.025767   0.007941     None   20.402134   -2.218267   36.190131   \n4      0.975553  -5.954042     None   -0.440764    3.033415  -20.990637   \n5     17.952927  -1.441871     None   25.937812    6.742356   15.035168   \n6     25.504351  -0.996725     None   24.046456   27.919283   52.815919   \n7     33.393905   6.602165     None   21.219500   52.949660    5.338007   \n8      8.101141  -3.725648     None   31.906560  -22.204718   10.874035   \n9     20.673983  -0.002182     None   21.869938   18.092445   28.572918   \n10     2.735132   4.028551     None   -2.317371   13.990117  -32.325070   \n11     9.301221 -12.727019     None   18.823493   -8.876069  -24.955064   \n\n       balDta    displayPeriod     reporting  \n0         NaN          FY 2012  consolidated  \n1         NaN  FY '12 - FY '13           NaN  \n2         NaN  FY '13 - FY '14           NaN  \n3         NaN  FY '14 - FY '15           NaN  \n4         NaN  FY '15 - FY '16           NaN  \n5         NaN  FY '16 - FY '17           NaN  \n6         NaN  FY '17 - FY '18           NaN  \n7         NaN  FY '18 - FY '19           NaN  \n8         NaN  FY '19 - FY '20           NaN  \n9         NaN  FY '20 - FY '21           NaN  \n10        NaN  FY '21 - FY '22           NaN  \n11  90.266763  FY '22 - FY '23           NaN  \n\n[12 rows x 35 columns]",
      "text/html": "<div>\n<style scoped>\n    .dataframe tbody tr th:only-of-type {\n        vertical-align: middle;\n    }\n\n    .dataframe tbody tr th {\n        vertical-align: top;\n    }\n\n    .dataframe thead th {\n        text-align: right;\n    }\n</style>\n<table border=\"1\" class=\"dataframe\">\n  <thead>\n    <tr style=\"text-align: right;\">\n      <th></th>\n      <th>balCsti</th>\n      <th>balTrec</th>\n      <th>balTinv</th>\n      <th>balOca</th>\n      <th>balTca</th>\n      <th>balNetl</th>\n      <th>balNppe</th>\n      <th>balGint</th>\n      <th>balLti</th>\n      <th>balOtha</th>\n      <th>...</th>\n      <th>balTeq</th>\n      <th>balTlse</th>\n      <th>balTcso</th>\n      <th>balTpso</th>\n      <th>balNca</th>\n      <th>balCa</th>\n      <th>balNcl</th>\n      <th>balDta</th>\n      <th>displayPeriod</th>\n      <th>reporting</th>\n    </tr>\n  </thead>\n  <tbody>\n    <tr>\n      <th>0</th>\n      <td>10.560000</td>\n      <td>406.980000</td>\n      <td>325.860000</td>\n      <td>81.780000</td>\n      <td>825.180000</td>\n      <td>None</td>\n      <td>493.940000</td>\n      <td>3.890000</td>\n      <td>93.570000</td>\n      <td>243.250000</td>\n      <td>...</td>\n      <td>593.360000</td>\n      <td>1659.830000</td>\n      <td>33.053281</td>\n      <td>None</td>\n      <td>834.650000</td>\n      <td>825.180000</td>\n      <td>333.940000</td>\n      <td>NaN</td>\n      <td>FY 2012</td>\n      <td>consolidated</td>\n    </tr>\n    <tr>\n      <th>1</th>\n      <td>17.613636</td>\n      <td>5.413042</td>\n      <td>41.824710</td>\n      <td>41.856200</td>\n      <td>23.559708</td>\n      <td>None</td>\n      <td>50.289509</td>\n      <td>-100.000000</td>\n      <td>1.977129</td>\n      <td>30.988695</td>\n      <td>...</td>\n      <td>28.171768</td>\n      <td>31.096558</td>\n      <td>14.552340</td>\n      <td>None</td>\n      <td>38.547894</td>\n      <td>23.559708</td>\n      <td>22.438163</td>\n      <td>NaN</td>\n      <td>FY '12 - FY '13</td>\n      <td>NaN</td>\n    </tr>\n    <tr>\n      <th>2</th>\n      <td>19.565217</td>\n      <td>3.307615</td>\n      <td>31.152223</td>\n      <td>38.488061</td>\n      <td>20.129660</td>\n      <td>None</td>\n      <td>27.120996</td>\n      <td>NaN</td>\n      <td>22.867323</td>\n      <td>20.635220</td>\n      <td>...</td>\n      <td>15.055488</td>\n      <td>22.708848</td>\n      <td>11.963936</td>\n      <td>None</td>\n      <td>24.982921</td>\n      <td>20.129660</td>\n      <td>48.651161</td>\n      <td>NaN</td>\n      <td>FY '13 - FY '14</td>\n      <td>NaN</td>\n    </tr>\n    <tr>\n      <th>3</th>\n      <td>127.003367</td>\n      <td>-0.952166</td>\n      <td>-8.973471</td>\n      <td>7.830200</td>\n      <td>-2.218267</td>\n      <td>None</td>\n      <td>22.913730</td>\n      <td>NaN</td>\n      <td>18.730809</td>\n      <td>14.745824</td>\n      <td>...</td>\n      <td>16.828187</td>\n      <td>10.025767</td>\n      <td>0.007941</td>\n      <td>None</td>\n      <td>20.402134</td>\n      <td>-2.218267</td>\n      <td>36.190131</td>\n      <td>NaN</td>\n      <td>FY '14 - FY '15</td>\n      <td>NaN</td>\n    </tr>\n    <tr>\n      <th>4</th>\n      <td>-14.001780</td>\n      <td>19.230944</td>\n      <td>-10.247766</td>\n      <td>7.602170</td>\n      <td>3.033415</td>\n      <td>None</td>\n      <td>34.369342</td>\n      <td>NaN</td>\n      <td>-70.359195</td>\n      <td>-70.013150</td>\n      <td>...</td>\n      <td>16.347932</td>\n      <td>0.975553</td>\n      <td>-5.954042</td>\n      <td>None</td>\n      <td>-0.440764</td>\n      <td>3.033415</td>\n      <td>-20.990637</td>\n      <td>NaN</td>\n      <td>FY '15 - FY '16</td>\n      <td>NaN</td>\n    </tr>\n    <tr>\n      <th>5</th>\n      <td>-1.690238</td>\n      <td>0.242644</td>\n      <td>15.392072</td>\n      <td>3.326002</td>\n      <td>6.742356</td>\n      <td>None</td>\n      <td>26.041513</td>\n      <td>404.761905</td>\n      <td>13.814833</td>\n      <td>27.294723</td>\n      <td>...</td>\n      <td>19.920295</td>\n      <td>17.952927</td>\n      <td>-1.441871</td>\n      <td>None</td>\n      <td>25.937812</td>\n      <td>6.742356</td>\n      <td>15.035168</td>\n      <td>NaN</td>\n      <td>FY '16 - FY '17</td>\n      <td>NaN</td>\n    </tr>\n    <tr>\n      <th>6</th>\n      <td>12.631579</td>\n      <td>24.792727</td>\n      <td>30.781750</td>\n      <td>30.206116</td>\n      <td>27.919283</td>\n      <td>None</td>\n      <td>23.822808</td>\n      <td>-18.867925</td>\n      <td>0.553663</td>\n      <td>33.749109</td>\n      <td>...</td>\n      <td>16.064418</td>\n      <td>25.504351</td>\n      <td>-0.996725</td>\n      <td>None</td>\n      <td>24.046456</td>\n      <td>27.919283</td>\n      <td>52.815919</td>\n      <td>NaN</td>\n      <td>FY '17 - FY '18</td>\n      <td>NaN</td>\n    </tr>\n    <tr>\n      <th>7</th>\n      <td>2405.295950</td>\n      <td>18.524628</td>\n      <td>3.277131</td>\n      <td>-10.251605</td>\n      <td>52.949660</td>\n      <td>None</td>\n      <td>20.864989</td>\n      <td>-23.255814</td>\n      <td>-29.775519</td>\n      <td>36.082245</td>\n      <td>...</td>\n      <td>63.986831</td>\n      <td>33.393905</td>\n      <td>6.602165</td>\n      <td>None</td>\n      <td>21.219500</td>\n      <td>52.949660</td>\n      <td>5.338007</td>\n      <td>NaN</td>\n      <td>FY '18 - FY '19</td>\n      <td>NaN</td>\n    </tr>\n    <tr>\n      <th>8</th>\n      <td>-69.250187</td>\n      <td>-2.912221</td>\n      <td>8.278159</td>\n      <td>-25.155500</td>\n      <td>-22.204718</td>\n      <td>None</td>\n      <td>32.153596</td>\n      <td>-30.303030</td>\n      <td>11.610374</td>\n      <td>32.000783</td>\n      <td>...</td>\n      <td>13.212044</td>\n      <td>8.101141</td>\n      <td>-3.725648</td>\n      <td>None</td>\n      <td>31.906560</td>\n      <td>-22.204718</td>\n      <td>10.874035</td>\n      <td>NaN</td>\n      <td>FY '19 - FY '20</td>\n      <td>NaN</td>\n    </tr>\n    <tr>\n      <th>9</th>\n      <td>66.735412</td>\n      <td>5.347473</td>\n      <td>11.966303</td>\n      <td>34.079307</td>\n      <td>18.092445</td>\n      <td>None</td>\n      <td>25.871961</td>\n      <td>-89.130435</td>\n      <td>71.629289</td>\n      <td>-20.870726</td>\n      <td>...</td>\n      <td>14.373379</td>\n      <td>20.673983</td>\n      <td>-0.002182</td>\n      <td>None</td>\n      <td>21.869938</td>\n      <td>18.092445</td>\n      <td>28.572918</td>\n      <td>NaN</td>\n      <td>FY '20 - FY '21</td>\n      <td>NaN</td>\n    </tr>\n    <tr>\n      <th>10</th>\n      <td>-57.906480</td>\n      <td>37.517796</td>\n      <td>-0.166724</td>\n      <td>121.202462</td>\n      <td>13.990117</td>\n      <td>None</td>\n      <td>1.027525</td>\n      <td>-100.000000</td>\n      <td>-55.462846</td>\n      <td>-51.513731</td>\n      <td>...</td>\n      <td>28.492749</td>\n      <td>2.735132</td>\n      <td>4.028551</td>\n      <td>None</td>\n      <td>-2.317371</td>\n      <td>13.990117</td>\n      <td>-32.325070</td>\n      <td>NaN</td>\n      <td>FY '21 - FY '22</td>\n      <td>NaN</td>\n    </tr>\n    <tr>\n      <th>11</th>\n      <td>15.654529</td>\n      <td>-13.836668</td>\n      <td>10.376611</td>\n      <td>-42.555491</td>\n      <td>-8.876069</td>\n      <td>None</td>\n      <td>20.574865</td>\n      <td>NaN</td>\n      <td>-39.307176</td>\n      <td>-39.106901</td>\n      <td>...</td>\n      <td>8.946797</td>\n      <td>9.301221</td>\n      <td>-12.727019</td>\n      <td>None</td>\n      <td>18.823493</td>\n      <td>-8.876069</td>\n      <td>-24.955064</td>\n      <td>90.266763</td>\n      <td>FY '22 - FY '23</td>\n      <td>NaN</td>\n    </tr>\n  </tbody>\n</table>\n<p>12 rows × 35 columns</p>\n</div>"
     },
     "execution_count": 29,
     "metadata": {},
     "output_type": "execute_result"
    }
   ],
   "source": [
    "ttp.get_balance_sheet_data('ARTI', num_time_periods=16, growth=True)"
   ],
   "metadata": {
    "collapsed": false,
    "ExecuteTime": {
     "end_time": "2023-09-19T16:18:15.379311200Z",
     "start_time": "2023-09-19T16:18:14.053938600Z"
    }
   },
   "id": "17cfba608103fd1b"
  },
  {
   "cell_type": "code",
   "execution_count": 31,
   "outputs": [
    {
     "data": {
      "text/plain": "  displayPeriod                   endDate   reporting  balCsti  balTrec  \\\n0       FY 2014  2014-03-31T00:00:00.000Z  standalone    22.86    89.80   \n1       FY 2015  2015-03-31T00:00:00.000Z  standalone     7.86    98.93   \n2       FY 2016  2016-03-31T00:00:00.000Z  standalone     4.27    90.30   \n3       FY 2017  2017-03-31T00:00:00.000Z  standalone     2.96    97.34   \n4       FY 2018  2018-03-31T00:00:00.000Z  standalone     3.23   123.78   \n5       FY 2019  2019-03-31T00:00:00.000Z  standalone    20.17   152.63   \n6       FY 2020  2020-03-31T00:00:00.000Z  standalone    32.26   164.22   \n7       FY 2021  2021-03-31T00:00:00.000Z  standalone   156.28   227.99   \n8       FY 2022  2022-03-31T00:00:00.000Z  standalone    62.57   276.74   \n9       FY 2023  2023-03-31T00:00:00.000Z  standalone    18.23   258.42   \n\n   balTinv  balOca  balTca balNetl    balNppe  ...  balRtne  balOeq   balTeq  \\\n0    82.72   19.05  214.43    None   157.3029  ...   117.07    0.00   140.19   \n1    70.54   21.10  198.43    None   181.2422  ...   151.70    0.00   174.82   \n2    63.16   26.08  183.81    None   202.9415  ...   176.35    0.00   199.47   \n3   111.41   13.31  225.02    None   254.4792  ...   222.45    0.00   245.57   \n4    85.18   26.19  238.38    None   373.2459  ...   274.04    0.00   297.16   \n5   105.69   33.53  312.02    None   419.2659  ...   341.88    0.00   365.00   \n6    83.67   14.00  294.15    None   468.0687  ...   513.48    0.00   536.60   \n7   122.04   21.76  528.07    None   595.6700  ...   767.86    0.12   792.45   \n8   164.61   33.73  537.65    None   771.5900  ...   963.33    0.00   989.80   \n9   183.85   38.50  499.00    None  1071.1900  ...  1140.06    0.00  1168.93   \n\n   balTlse    balTcso balTpso   balNca   balCa  balNcl  balDta  \n0   388.41  50.994900    None   173.98  214.43   87.66    None  \n1   402.03   5.101048    None   203.60  198.43   79.03    None  \n2   406.39   5.101048    None   222.58  183.81   75.97    None  \n3   512.21   5.099098    None   287.19  225.02  106.07    None  \n4   637.05   5.099098    None   398.67  238.38  160.35    None  \n5   748.51   5.099098    None   436.49  312.02  135.75    None  \n6   783.39   5.099098    None   489.24  294.15   92.98    None  \n7  1145.49   5.103178    None   617.42  528.07   71.10    None  \n8  1371.40   5.107245    None   833.75  537.65   53.60    None  \n9  1590.27   5.110063    None  1091.27  499.00   68.80    None  \n\n[10 rows x 36 columns]",
      "text/html": "<div>\n<style scoped>\n    .dataframe tbody tr th:only-of-type {\n        vertical-align: middle;\n    }\n\n    .dataframe tbody tr th {\n        vertical-align: top;\n    }\n\n    .dataframe thead th {\n        text-align: right;\n    }\n</style>\n<table border=\"1\" class=\"dataframe\">\n  <thead>\n    <tr style=\"text-align: right;\">\n      <th></th>\n      <th>displayPeriod</th>\n      <th>endDate</th>\n      <th>reporting</th>\n      <th>balCsti</th>\n      <th>balTrec</th>\n      <th>balTinv</th>\n      <th>balOca</th>\n      <th>balTca</th>\n      <th>balNetl</th>\n      <th>balNppe</th>\n      <th>...</th>\n      <th>balRtne</th>\n      <th>balOeq</th>\n      <th>balTeq</th>\n      <th>balTlse</th>\n      <th>balTcso</th>\n      <th>balTpso</th>\n      <th>balNca</th>\n      <th>balCa</th>\n      <th>balNcl</th>\n      <th>balDta</th>\n    </tr>\n  </thead>\n  <tbody>\n    <tr>\n      <th>0</th>\n      <td>FY 2014</td>\n      <td>2014-03-31T00:00:00.000Z</td>\n      <td>standalone</td>\n      <td>22.86</td>\n      <td>89.80</td>\n      <td>82.72</td>\n      <td>19.05</td>\n      <td>214.43</td>\n      <td>None</td>\n      <td>157.3029</td>\n      <td>...</td>\n      <td>117.07</td>\n      <td>0.00</td>\n      <td>140.19</td>\n      <td>388.41</td>\n      <td>50.994900</td>\n      <td>None</td>\n      <td>173.98</td>\n      <td>214.43</td>\n      <td>87.66</td>\n      <td>None</td>\n    </tr>\n    <tr>\n      <th>1</th>\n      <td>FY 2015</td>\n      <td>2015-03-31T00:00:00.000Z</td>\n      <td>standalone</td>\n      <td>7.86</td>\n      <td>98.93</td>\n      <td>70.54</td>\n      <td>21.10</td>\n      <td>198.43</td>\n      <td>None</td>\n      <td>181.2422</td>\n      <td>...</td>\n      <td>151.70</td>\n      <td>0.00</td>\n      <td>174.82</td>\n      <td>402.03</td>\n      <td>5.101048</td>\n      <td>None</td>\n      <td>203.60</td>\n      <td>198.43</td>\n      <td>79.03</td>\n      <td>None</td>\n    </tr>\n    <tr>\n      <th>2</th>\n      <td>FY 2016</td>\n      <td>2016-03-31T00:00:00.000Z</td>\n      <td>standalone</td>\n      <td>4.27</td>\n      <td>90.30</td>\n      <td>63.16</td>\n      <td>26.08</td>\n      <td>183.81</td>\n      <td>None</td>\n      <td>202.9415</td>\n      <td>...</td>\n      <td>176.35</td>\n      <td>0.00</td>\n      <td>199.47</td>\n      <td>406.39</td>\n      <td>5.101048</td>\n      <td>None</td>\n      <td>222.58</td>\n      <td>183.81</td>\n      <td>75.97</td>\n      <td>None</td>\n    </tr>\n    <tr>\n      <th>3</th>\n      <td>FY 2017</td>\n      <td>2017-03-31T00:00:00.000Z</td>\n      <td>standalone</td>\n      <td>2.96</td>\n      <td>97.34</td>\n      <td>111.41</td>\n      <td>13.31</td>\n      <td>225.02</td>\n      <td>None</td>\n      <td>254.4792</td>\n      <td>...</td>\n      <td>222.45</td>\n      <td>0.00</td>\n      <td>245.57</td>\n      <td>512.21</td>\n      <td>5.099098</td>\n      <td>None</td>\n      <td>287.19</td>\n      <td>225.02</td>\n      <td>106.07</td>\n      <td>None</td>\n    </tr>\n    <tr>\n      <th>4</th>\n      <td>FY 2018</td>\n      <td>2018-03-31T00:00:00.000Z</td>\n      <td>standalone</td>\n      <td>3.23</td>\n      <td>123.78</td>\n      <td>85.18</td>\n      <td>26.19</td>\n      <td>238.38</td>\n      <td>None</td>\n      <td>373.2459</td>\n      <td>...</td>\n      <td>274.04</td>\n      <td>0.00</td>\n      <td>297.16</td>\n      <td>637.05</td>\n      <td>5.099098</td>\n      <td>None</td>\n      <td>398.67</td>\n      <td>238.38</td>\n      <td>160.35</td>\n      <td>None</td>\n    </tr>\n    <tr>\n      <th>5</th>\n      <td>FY 2019</td>\n      <td>2019-03-31T00:00:00.000Z</td>\n      <td>standalone</td>\n      <td>20.17</td>\n      <td>152.63</td>\n      <td>105.69</td>\n      <td>33.53</td>\n      <td>312.02</td>\n      <td>None</td>\n      <td>419.2659</td>\n      <td>...</td>\n      <td>341.88</td>\n      <td>0.00</td>\n      <td>365.00</td>\n      <td>748.51</td>\n      <td>5.099098</td>\n      <td>None</td>\n      <td>436.49</td>\n      <td>312.02</td>\n      <td>135.75</td>\n      <td>None</td>\n    </tr>\n    <tr>\n      <th>6</th>\n      <td>FY 2020</td>\n      <td>2020-03-31T00:00:00.000Z</td>\n      <td>standalone</td>\n      <td>32.26</td>\n      <td>164.22</td>\n      <td>83.67</td>\n      <td>14.00</td>\n      <td>294.15</td>\n      <td>None</td>\n      <td>468.0687</td>\n      <td>...</td>\n      <td>513.48</td>\n      <td>0.00</td>\n      <td>536.60</td>\n      <td>783.39</td>\n      <td>5.099098</td>\n      <td>None</td>\n      <td>489.24</td>\n      <td>294.15</td>\n      <td>92.98</td>\n      <td>None</td>\n    </tr>\n    <tr>\n      <th>7</th>\n      <td>FY 2021</td>\n      <td>2021-03-31T00:00:00.000Z</td>\n      <td>standalone</td>\n      <td>156.28</td>\n      <td>227.99</td>\n      <td>122.04</td>\n      <td>21.76</td>\n      <td>528.07</td>\n      <td>None</td>\n      <td>595.6700</td>\n      <td>...</td>\n      <td>767.86</td>\n      <td>0.12</td>\n      <td>792.45</td>\n      <td>1145.49</td>\n      <td>5.103178</td>\n      <td>None</td>\n      <td>617.42</td>\n      <td>528.07</td>\n      <td>71.10</td>\n      <td>None</td>\n    </tr>\n    <tr>\n      <th>8</th>\n      <td>FY 2022</td>\n      <td>2022-03-31T00:00:00.000Z</td>\n      <td>standalone</td>\n      <td>62.57</td>\n      <td>276.74</td>\n      <td>164.61</td>\n      <td>33.73</td>\n      <td>537.65</td>\n      <td>None</td>\n      <td>771.5900</td>\n      <td>...</td>\n      <td>963.33</td>\n      <td>0.00</td>\n      <td>989.80</td>\n      <td>1371.40</td>\n      <td>5.107245</td>\n      <td>None</td>\n      <td>833.75</td>\n      <td>537.65</td>\n      <td>53.60</td>\n      <td>None</td>\n    </tr>\n    <tr>\n      <th>9</th>\n      <td>FY 2023</td>\n      <td>2023-03-31T00:00:00.000Z</td>\n      <td>standalone</td>\n      <td>18.23</td>\n      <td>258.42</td>\n      <td>183.85</td>\n      <td>38.50</td>\n      <td>499.00</td>\n      <td>None</td>\n      <td>1071.1900</td>\n      <td>...</td>\n      <td>1140.06</td>\n      <td>0.00</td>\n      <td>1168.93</td>\n      <td>1590.27</td>\n      <td>5.110063</td>\n      <td>None</td>\n      <td>1091.27</td>\n      <td>499.00</td>\n      <td>68.80</td>\n      <td>None</td>\n    </tr>\n  </tbody>\n</table>\n<p>10 rows × 36 columns</p>\n</div>"
     },
     "execution_count": 31,
     "metadata": {},
     "output_type": "execute_result"
    }
   ],
   "source": [
    "ttp.get_balance_sheet_data('ALKY', num_time_periods=10) # View_type = Normal"
   ],
   "metadata": {
    "collapsed": false,
    "ExecuteTime": {
     "end_time": "2023-09-19T16:19:38.562544500Z",
     "start_time": "2023-09-19T16:19:38.450058100Z"
    }
   },
   "id": "b3cd50289832ffab"
  },
  {
   "cell_type": "code",
   "execution_count": 33,
   "outputs": [
    {
     "data": {
      "text/plain": "  displayPeriod                   endDate     reporting   cafCiwc   cafCfoa  \\\n0       FY 2014  2014-03-31T00:00:00.000Z  consolidated -10494.42  14751.41   \n1       FY 2015  2015-03-31T00:00:00.000Z  consolidated  -6734.54  19368.78   \n2       FY 2016  2016-03-31T00:00:00.000Z  consolidated -12522.00  19109.00   \n3       FY 2017  2017-03-31T00:00:00.000Z  consolidated  -8577.00  25223.00   \n4       FY 2018  2018-03-31T00:00:00.000Z  consolidated  -7818.00  25067.00   \n5       FY 2019  2019-03-31T00:00:00.000Z  consolidated -12127.00  28593.00   \n6       FY 2020  2020-03-31T00:00:00.000Z  consolidated -10513.00  32369.00   \n7       FY 2021  2021-03-31T00:00:00.000Z  consolidated  -8229.00  38802.00   \n8       FY 2022  2022-03-31T00:00:00.000Z  consolidated -14255.00  39949.00   \n9       FY 2023  2023-03-31T00:00:00.000Z  consolidated -17183.00  41965.00   \n\n   cafCexp   cafCfia   cafTcdp   cafCffa cafFee  cafNcic    cafFcf  \n0  3126.15  -9451.67   5520.03  -5673.24   None  -373.50  11625.26  \n1  2949.20  -1807.14  17105.57 -17167.61   None   394.03  16419.58  \n2  1987.00  -5010.00   9515.00  -9666.00   None  4433.00  17122.00  \n3  1989.00 -16895.00  10973.00 -11026.00   None -2698.00  23234.00  \n4  1862.00   3104.00  10760.00 -26885.00   None  1286.00  23205.00  \n5  2231.00   1645.00  11472.00 -27897.00   None  2341.00  26362.00  \n6  2730.00   8968.00  37702.00 -39915.00   None  1422.00  29639.00  \n7  3176.00  -7956.00  10907.00 -32634.00   None -1788.00  35626.00  \n8  2995.00   -738.00  13375.00 -33581.00   None  5630.00  36954.00  \n9  3100.00    548.00  41410.00 -47878.00   None -5365.00  38865.00  ",
      "text/html": "<div>\n<style scoped>\n    .dataframe tbody tr th:only-of-type {\n        vertical-align: middle;\n    }\n\n    .dataframe tbody tr th {\n        vertical-align: top;\n    }\n\n    .dataframe thead th {\n        text-align: right;\n    }\n</style>\n<table border=\"1\" class=\"dataframe\">\n  <thead>\n    <tr style=\"text-align: right;\">\n      <th></th>\n      <th>displayPeriod</th>\n      <th>endDate</th>\n      <th>reporting</th>\n      <th>cafCiwc</th>\n      <th>cafCfoa</th>\n      <th>cafCexp</th>\n      <th>cafCfia</th>\n      <th>cafTcdp</th>\n      <th>cafCffa</th>\n      <th>cafFee</th>\n      <th>cafNcic</th>\n      <th>cafFcf</th>\n    </tr>\n  </thead>\n  <tbody>\n    <tr>\n      <th>0</th>\n      <td>FY 2014</td>\n      <td>2014-03-31T00:00:00.000Z</td>\n      <td>consolidated</td>\n      <td>-10494.42</td>\n      <td>14751.41</td>\n      <td>3126.15</td>\n      <td>-9451.67</td>\n      <td>5520.03</td>\n      <td>-5673.24</td>\n      <td>None</td>\n      <td>-373.50</td>\n      <td>11625.26</td>\n    </tr>\n    <tr>\n      <th>1</th>\n      <td>FY 2015</td>\n      <td>2015-03-31T00:00:00.000Z</td>\n      <td>consolidated</td>\n      <td>-6734.54</td>\n      <td>19368.78</td>\n      <td>2949.20</td>\n      <td>-1807.14</td>\n      <td>17105.57</td>\n      <td>-17167.61</td>\n      <td>None</td>\n      <td>394.03</td>\n      <td>16419.58</td>\n    </tr>\n    <tr>\n      <th>2</th>\n      <td>FY 2016</td>\n      <td>2016-03-31T00:00:00.000Z</td>\n      <td>consolidated</td>\n      <td>-12522.00</td>\n      <td>19109.00</td>\n      <td>1987.00</td>\n      <td>-5010.00</td>\n      <td>9515.00</td>\n      <td>-9666.00</td>\n      <td>None</td>\n      <td>4433.00</td>\n      <td>17122.00</td>\n    </tr>\n    <tr>\n      <th>3</th>\n      <td>FY 2017</td>\n      <td>2017-03-31T00:00:00.000Z</td>\n      <td>consolidated</td>\n      <td>-8577.00</td>\n      <td>25223.00</td>\n      <td>1989.00</td>\n      <td>-16895.00</td>\n      <td>10973.00</td>\n      <td>-11026.00</td>\n      <td>None</td>\n      <td>-2698.00</td>\n      <td>23234.00</td>\n    </tr>\n    <tr>\n      <th>4</th>\n      <td>FY 2018</td>\n      <td>2018-03-31T00:00:00.000Z</td>\n      <td>consolidated</td>\n      <td>-7818.00</td>\n      <td>25067.00</td>\n      <td>1862.00</td>\n      <td>3104.00</td>\n      <td>10760.00</td>\n      <td>-26885.00</td>\n      <td>None</td>\n      <td>1286.00</td>\n      <td>23205.00</td>\n    </tr>\n    <tr>\n      <th>5</th>\n      <td>FY 2019</td>\n      <td>2019-03-31T00:00:00.000Z</td>\n      <td>consolidated</td>\n      <td>-12127.00</td>\n      <td>28593.00</td>\n      <td>2231.00</td>\n      <td>1645.00</td>\n      <td>11472.00</td>\n      <td>-27897.00</td>\n      <td>None</td>\n      <td>2341.00</td>\n      <td>26362.00</td>\n    </tr>\n    <tr>\n      <th>6</th>\n      <td>FY 2020</td>\n      <td>2020-03-31T00:00:00.000Z</td>\n      <td>consolidated</td>\n      <td>-10513.00</td>\n      <td>32369.00</td>\n      <td>2730.00</td>\n      <td>8968.00</td>\n      <td>37702.00</td>\n      <td>-39915.00</td>\n      <td>None</td>\n      <td>1422.00</td>\n      <td>29639.00</td>\n    </tr>\n    <tr>\n      <th>7</th>\n      <td>FY 2021</td>\n      <td>2021-03-31T00:00:00.000Z</td>\n      <td>consolidated</td>\n      <td>-8229.00</td>\n      <td>38802.00</td>\n      <td>3176.00</td>\n      <td>-7956.00</td>\n      <td>10907.00</td>\n      <td>-32634.00</td>\n      <td>None</td>\n      <td>-1788.00</td>\n      <td>35626.00</td>\n    </tr>\n    <tr>\n      <th>8</th>\n      <td>FY 2022</td>\n      <td>2022-03-31T00:00:00.000Z</td>\n      <td>consolidated</td>\n      <td>-14255.00</td>\n      <td>39949.00</td>\n      <td>2995.00</td>\n      <td>-738.00</td>\n      <td>13375.00</td>\n      <td>-33581.00</td>\n      <td>None</td>\n      <td>5630.00</td>\n      <td>36954.00</td>\n    </tr>\n    <tr>\n      <th>9</th>\n      <td>FY 2023</td>\n      <td>2023-03-31T00:00:00.000Z</td>\n      <td>consolidated</td>\n      <td>-17183.00</td>\n      <td>41965.00</td>\n      <td>3100.00</td>\n      <td>548.00</td>\n      <td>41410.00</td>\n      <td>-47878.00</td>\n      <td>None</td>\n      <td>-5365.00</td>\n      <td>38865.00</td>\n    </tr>\n  </tbody>\n</table>\n</div>"
     },
     "execution_count": 33,
     "metadata": {},
     "output_type": "execute_result"
    }
   ],
   "source": [
    "ttp.get_cash_flow_data('TCS', num_time_periods=10, growth=False) # these 2 are default values ideally no need to pass {num_time_periods=10, growth=False}"
   ],
   "metadata": {
    "collapsed": false,
    "ExecuteTime": {
     "end_time": "2023-09-19T16:21:55.706555100Z",
     "start_time": "2023-09-19T16:21:55.592769900Z"
    }
   },
   "id": "6c2aecf514ac5537"
  },
  {
   "cell_type": "markdown",
   "source": [
    "# Peers Comparison\n",
    "comparison type is either `valuation` (default) or  `Technical`"
   ],
   "metadata": {
    "collapsed": false
   },
   "id": "7bb8fd08f62a1d02"
  },
  {
   "cell_type": "code",
   "execution_count": 22,
   "outputs": [
    {
     "data": {
      "text/plain": "                            name   ticker   sid                    sector  \\\n0  Tata Consultancy Services Ltd      TCS   TCS  IT Services & Consulting   \n1                    Infosys Ltd     INFY  INFY  IT Services & Consulting   \n2           HCL Technologies Ltd  HCLTECH  HCLT  IT Services & Consulting   \n3                      Wipro Ltd    WIPRO  WIPR  IT Services & Consulting   \n4                LTIMindtree Ltd     LTIM  LRTI  IT Services & Consulting   \n\n                                      slug  \\\n0    /stocks/tata-consultancy-services-TCS   \n1                     /stocks/infosys-INFY   \n2            /stocks/hcl-technologies-HCLT   \n3                       /stocks/wipro-WIPR   \n4  /stocks/larsen-and-toubro-infotech-LRTI   \n\n                                         description  ratios_ttmPe  \\\n0  Tata Consultancy Services Limited (TCS) is eng...     30.165028   \n1                                                NaN     25.016336   \n2                                                NaN     23.395915   \n3                                                NaN     19.503721   \n4                                                NaN     36.627180   \n\n   ratios_pbr  ratios_divDps  ratios_apef  \n0   14.467347       3.188997    31.307301  \n1    8.145698       2.277883    25.623705  \n2    5.402690       3.686574    23.791335  \n3    2.924926       0.241391    20.030407  \n4    9.828473       1.087893    37.008548  ",
      "text/html": "<div>\n<style scoped>\n    .dataframe tbody tr th:only-of-type {\n        vertical-align: middle;\n    }\n\n    .dataframe tbody tr th {\n        vertical-align: top;\n    }\n\n    .dataframe thead th {\n        text-align: right;\n    }\n</style>\n<table border=\"1\" class=\"dataframe\">\n  <thead>\n    <tr style=\"text-align: right;\">\n      <th></th>\n      <th>name</th>\n      <th>ticker</th>\n      <th>sid</th>\n      <th>sector</th>\n      <th>slug</th>\n      <th>description</th>\n      <th>ratios_ttmPe</th>\n      <th>ratios_pbr</th>\n      <th>ratios_divDps</th>\n      <th>ratios_apef</th>\n    </tr>\n  </thead>\n  <tbody>\n    <tr>\n      <th>0</th>\n      <td>Tata Consultancy Services Ltd</td>\n      <td>TCS</td>\n      <td>TCS</td>\n      <td>IT Services &amp; Consulting</td>\n      <td>/stocks/tata-consultancy-services-TCS</td>\n      <td>Tata Consultancy Services Limited (TCS) is eng...</td>\n      <td>30.165028</td>\n      <td>14.467347</td>\n      <td>3.188997</td>\n      <td>31.307301</td>\n    </tr>\n    <tr>\n      <th>1</th>\n      <td>Infosys Ltd</td>\n      <td>INFY</td>\n      <td>INFY</td>\n      <td>IT Services &amp; Consulting</td>\n      <td>/stocks/infosys-INFY</td>\n      <td>NaN</td>\n      <td>25.016336</td>\n      <td>8.145698</td>\n      <td>2.277883</td>\n      <td>25.623705</td>\n    </tr>\n    <tr>\n      <th>2</th>\n      <td>HCL Technologies Ltd</td>\n      <td>HCLTECH</td>\n      <td>HCLT</td>\n      <td>IT Services &amp; Consulting</td>\n      <td>/stocks/hcl-technologies-HCLT</td>\n      <td>NaN</td>\n      <td>23.395915</td>\n      <td>5.402690</td>\n      <td>3.686574</td>\n      <td>23.791335</td>\n    </tr>\n    <tr>\n      <th>3</th>\n      <td>Wipro Ltd</td>\n      <td>WIPRO</td>\n      <td>WIPR</td>\n      <td>IT Services &amp; Consulting</td>\n      <td>/stocks/wipro-WIPR</td>\n      <td>NaN</td>\n      <td>19.503721</td>\n      <td>2.924926</td>\n      <td>0.241391</td>\n      <td>20.030407</td>\n    </tr>\n    <tr>\n      <th>4</th>\n      <td>LTIMindtree Ltd</td>\n      <td>LTIM</td>\n      <td>LRTI</td>\n      <td>IT Services &amp; Consulting</td>\n      <td>/stocks/larsen-and-toubro-infotech-LRTI</td>\n      <td>NaN</td>\n      <td>36.627180</td>\n      <td>9.828473</td>\n      <td>1.087893</td>\n      <td>37.008548</td>\n    </tr>\n  </tbody>\n</table>\n</div>"
     },
     "execution_count": 22,
     "metadata": {},
     "output_type": "execute_result"
    }
   ],
   "source": [
    "ttp.peers_comparison('TCS') # this comparison is based on valuation"
   ],
   "metadata": {
    "collapsed": false,
    "ExecuteTime": {
     "end_time": "2023-09-20T06:40:17.397202Z",
     "start_time": "2023-09-20T06:40:17.245478900Z"
    }
   },
   "id": "56689d571e2b47bf"
  },
  {
   "cell_type": "code",
   "execution_count": 37,
   "outputs": [
    {
     "data": {
      "text/plain": "                        name      ticker    sid         sector  \\\n0            Tata Motors Ltd  TATAMOTORS   TAMO  Four Wheelers   \n1    Maruti Suzuki India Ltd      MARUTI   MRTI  Four Wheelers   \n2  Mahindra and Mahindra Ltd         M&M   MAHM  Four Wheelers   \n3            Tata Motors Ltd  TATAMTRDVR  TAMdv  Four Wheelers   \n4           Force Motors Ltd    FORCEMOT   FORC  Four Wheelers   \n\n                                 slug  \\\n0            /stocks/tata-motors-TAMO   \n1    /stocks/maruti-suzuki-india-MRTI   \n2  /stocks/mahindra-and-mahindra-MAHM   \n3     /stocks/tata-motors---dvr-TAMdv   \n4           /stocks/force-motors-FORC   \n\n                                         description  ratios_12mVol  \\\n0  Tata Motors Limited is an automobile company e...      25.698566   \n1                                                NaN      18.583329   \n2                                                NaN      22.968798   \n3                                                NaN      34.870409   \n4                                                NaN      46.860959   \n\n   ratios_14dRsi  \n0      69.648365  \n1      82.760569  \n2      61.685824  \n3      26.408912  \n4      69.457497  ",
      "text/html": "<div>\n<style scoped>\n    .dataframe tbody tr th:only-of-type {\n        vertical-align: middle;\n    }\n\n    .dataframe tbody tr th {\n        vertical-align: top;\n    }\n\n    .dataframe thead th {\n        text-align: right;\n    }\n</style>\n<table border=\"1\" class=\"dataframe\">\n  <thead>\n    <tr style=\"text-align: right;\">\n      <th></th>\n      <th>name</th>\n      <th>ticker</th>\n      <th>sid</th>\n      <th>sector</th>\n      <th>slug</th>\n      <th>description</th>\n      <th>ratios_12mVol</th>\n      <th>ratios_14dRsi</th>\n    </tr>\n  </thead>\n  <tbody>\n    <tr>\n      <th>0</th>\n      <td>Tata Motors Ltd</td>\n      <td>TATAMOTORS</td>\n      <td>TAMO</td>\n      <td>Four Wheelers</td>\n      <td>/stocks/tata-motors-TAMO</td>\n      <td>Tata Motors Limited is an automobile company e...</td>\n      <td>25.698566</td>\n      <td>69.648365</td>\n    </tr>\n    <tr>\n      <th>1</th>\n      <td>Maruti Suzuki India Ltd</td>\n      <td>MARUTI</td>\n      <td>MRTI</td>\n      <td>Four Wheelers</td>\n      <td>/stocks/maruti-suzuki-india-MRTI</td>\n      <td>NaN</td>\n      <td>18.583329</td>\n      <td>82.760569</td>\n    </tr>\n    <tr>\n      <th>2</th>\n      <td>Mahindra and Mahindra Ltd</td>\n      <td>M&amp;M</td>\n      <td>MAHM</td>\n      <td>Four Wheelers</td>\n      <td>/stocks/mahindra-and-mahindra-MAHM</td>\n      <td>NaN</td>\n      <td>22.968798</td>\n      <td>61.685824</td>\n    </tr>\n    <tr>\n      <th>3</th>\n      <td>Tata Motors Ltd</td>\n      <td>TATAMTRDVR</td>\n      <td>TAMdv</td>\n      <td>Four Wheelers</td>\n      <td>/stocks/tata-motors---dvr-TAMdv</td>\n      <td>NaN</td>\n      <td>34.870409</td>\n      <td>26.408912</td>\n    </tr>\n    <tr>\n      <th>4</th>\n      <td>Force Motors Ltd</td>\n      <td>FORCEMOT</td>\n      <td>FORC</td>\n      <td>Four Wheelers</td>\n      <td>/stocks/force-motors-FORC</td>\n      <td>NaN</td>\n      <td>46.860959</td>\n      <td>69.457497</td>\n    </tr>\n  </tbody>\n</table>\n</div>"
     },
     "execution_count": 37,
     "metadata": {},
     "output_type": "execute_result"
    }
   ],
   "source": [
    "ttp.peers_comparison('TAMO', comparison_type='technical')"
   ],
   "metadata": {
    "collapsed": false,
    "ExecuteTime": {
     "end_time": "2023-09-19T16:25:27.575755200Z",
     "start_time": "2023-09-19T16:25:27.471113100Z"
    }
   },
   "id": "a617f6158c2569b0"
  },
  {
   "cell_type": "markdown",
   "source": [
    "# TickerTape SCORE CARD"
   ],
   "metadata": {
    "collapsed": false
   },
   "id": "5edc856f4308b1d5"
  },
  {
   "cell_type": "code",
   "execution_count": 38,
   "outputs": [
    {
     "data": {
      "text/plain": "            name   tag        type  \\\n0    Performance   Avg       score   \n1      Valuation  High       score   \n2         Growth   Low       score   \n3  Profitability  High       score   \n4    Entry point   Bad  entryPoint   \n5      Red flags   Low     redFlag   \n\n                                         description  colour  rank peers  \\\n0    Price return has been average, nothing exciting  yellow  None  None   \n1       Seems to be overvalued vs the market average     red  None  None   \n2     Lagging behind the market in financials growth     red  None  None   \n3   Showing good signs of profitability & efficiency   green  None  None   \n4  The stock is overpriced and in the overbought ...     red  None  None   \n5                                  No red flag found   green  None  None   \n\n   locked callout comment  stack  \\\n0    True    None    None      1   \n1    True    None    None      2   \n2    True    None    None      3   \n3    True    None    None      4   \n4   False    None    None      5   \n5   False    None    None      6   \n\n                                            elements score_percentage  \\\n0                                                 []            False   \n1                                                 []            False   \n2                                                 []            False   \n3                                                 []            False   \n4  [{'title': 'Fundamentals', 'type': 'flag', 'de...              NaN   \n5  [{'title': 'ASM', 'type': 'flag', 'description...              NaN   \n\n   score_max  score_value      score_key  score  \n0       10.0          NaN    Performance    NaN  \n1       10.0          NaN      Valuation    NaN  \n2       10.0          NaN         Growth    NaN  \n3       10.0          NaN  Profitability    NaN  \n4        NaN          NaN            NaN    NaN  \n5        NaN          NaN            NaN    NaN  ",
      "text/html": "<div>\n<style scoped>\n    .dataframe tbody tr th:only-of-type {\n        vertical-align: middle;\n    }\n\n    .dataframe tbody tr th {\n        vertical-align: top;\n    }\n\n    .dataframe thead th {\n        text-align: right;\n    }\n</style>\n<table border=\"1\" class=\"dataframe\">\n  <thead>\n    <tr style=\"text-align: right;\">\n      <th></th>\n      <th>name</th>\n      <th>tag</th>\n      <th>type</th>\n      <th>description</th>\n      <th>colour</th>\n      <th>rank</th>\n      <th>peers</th>\n      <th>locked</th>\n      <th>callout</th>\n      <th>comment</th>\n      <th>stack</th>\n      <th>elements</th>\n      <th>score_percentage</th>\n      <th>score_max</th>\n      <th>score_value</th>\n      <th>score_key</th>\n      <th>score</th>\n    </tr>\n  </thead>\n  <tbody>\n    <tr>\n      <th>0</th>\n      <td>Performance</td>\n      <td>Avg</td>\n      <td>score</td>\n      <td>Price return has been average, nothing exciting</td>\n      <td>yellow</td>\n      <td>None</td>\n      <td>None</td>\n      <td>True</td>\n      <td>None</td>\n      <td>None</td>\n      <td>1</td>\n      <td>[]</td>\n      <td>False</td>\n      <td>10.0</td>\n      <td>NaN</td>\n      <td>Performance</td>\n      <td>NaN</td>\n    </tr>\n    <tr>\n      <th>1</th>\n      <td>Valuation</td>\n      <td>High</td>\n      <td>score</td>\n      <td>Seems to be overvalued vs the market average</td>\n      <td>red</td>\n      <td>None</td>\n      <td>None</td>\n      <td>True</td>\n      <td>None</td>\n      <td>None</td>\n      <td>2</td>\n      <td>[]</td>\n      <td>False</td>\n      <td>10.0</td>\n      <td>NaN</td>\n      <td>Valuation</td>\n      <td>NaN</td>\n    </tr>\n    <tr>\n      <th>2</th>\n      <td>Growth</td>\n      <td>Low</td>\n      <td>score</td>\n      <td>Lagging behind the market in financials growth</td>\n      <td>red</td>\n      <td>None</td>\n      <td>None</td>\n      <td>True</td>\n      <td>None</td>\n      <td>None</td>\n      <td>3</td>\n      <td>[]</td>\n      <td>False</td>\n      <td>10.0</td>\n      <td>NaN</td>\n      <td>Growth</td>\n      <td>NaN</td>\n    </tr>\n    <tr>\n      <th>3</th>\n      <td>Profitability</td>\n      <td>High</td>\n      <td>score</td>\n      <td>Showing good signs of profitability &amp; efficiency</td>\n      <td>green</td>\n      <td>None</td>\n      <td>None</td>\n      <td>True</td>\n      <td>None</td>\n      <td>None</td>\n      <td>4</td>\n      <td>[]</td>\n      <td>False</td>\n      <td>10.0</td>\n      <td>NaN</td>\n      <td>Profitability</td>\n      <td>NaN</td>\n    </tr>\n    <tr>\n      <th>4</th>\n      <td>Entry point</td>\n      <td>Bad</td>\n      <td>entryPoint</td>\n      <td>The stock is overpriced and in the overbought ...</td>\n      <td>red</td>\n      <td>None</td>\n      <td>None</td>\n      <td>False</td>\n      <td>None</td>\n      <td>None</td>\n      <td>5</td>\n      <td>[{'title': 'Fundamentals', 'type': 'flag', 'de...</td>\n      <td>NaN</td>\n      <td>NaN</td>\n      <td>NaN</td>\n      <td>NaN</td>\n      <td>NaN</td>\n    </tr>\n    <tr>\n      <th>5</th>\n      <td>Red flags</td>\n      <td>Low</td>\n      <td>redFlag</td>\n      <td>No red flag found</td>\n      <td>green</td>\n      <td>None</td>\n      <td>None</td>\n      <td>False</td>\n      <td>None</td>\n      <td>None</td>\n      <td>6</td>\n      <td>[{'title': 'ASM', 'type': 'flag', 'description...</td>\n      <td>NaN</td>\n      <td>NaN</td>\n      <td>NaN</td>\n      <td>NaN</td>\n      <td>NaN</td>\n    </tr>\n  </tbody>\n</table>\n</div>"
     },
     "execution_count": 38,
     "metadata": {},
     "output_type": "execute_result"
    }
   ],
   "source": [
    "ttp.get_score_card('INFY')"
   ],
   "metadata": {
    "collapsed": false,
    "ExecuteTime": {
     "end_time": "2023-09-19T16:26:29.062469300Z",
     "start_time": "2023-09-19T16:26:28.605668800Z"
    }
   },
   "id": "3ed73517bb596a26"
  },
  {
   "cell_type": "markdown",
   "source": [
    "# Share Holding Pattern Q-O-Q"
   ],
   "metadata": {
    "collapsed": false
   },
   "id": "5506ab7258344fe9"
  },
  {
   "cell_type": "code",
   "execution_count": 7,
   "outputs": [
    {
     "name": "stdout",
     "output_type": "stream",
     "text": [
      "/stocks/tata-consultancy-services-TCS\n"
     ]
    },
    {
     "data": {
      "text/plain": "                       date  data_pmPctT  data_pmPctP  data_plPctT  \\\n0  2022-03-31T00:00:00.000Z    72.297047     0.477552     0.345256   \n1  2022-06-30T00:00:00.000Z    72.297047     0.477552     0.345256   \n2  2022-09-30T00:00:00.000Z    72.297047     0.477552     0.345256   \n3  2022-12-31T00:00:00.000Z    72.297047     0.477552     0.345256   \n4  2023-03-31T00:00:00.000Z    72.297047     0.477552     0.345256   \n5  2023-06-30T00:00:00.000Z    72.297047     0.477552     0.345256   \n\n   data_uPlPctT  data_mfPctT  data_isPctT  data_diPctT  data_othDiPctT  \\\n0     71.951791     3.223157     4.476628     7.809032        4.585875   \n1     71.951791     3.378630     4.882172     8.357634        4.979004   \n2     71.951791     3.339062     5.130464     8.581743        5.242681   \n3     71.951791     3.312344     5.432311     9.312092        5.999748   \n4     71.951791     3.473143     5.566399     9.635671        6.162529   \n5     71.951791     3.482790     5.737781     9.808078        6.325288   \n\n   data_othExInsDiPctT  data_fiPctT  data_rhPctT  data_othPctT  data_rOthPctT  \n0             0.109247    14.149294     4.348591      1.396036       5.744627  \n1             0.096831    13.497550     4.436833      1.410936       5.847769  \n2             0.112217    13.054555     4.702294      1.364361       6.066655  \n3             0.567436    12.944327     4.537205      0.909330       5.446535  \n4             0.596130    12.717406     4.451126      0.898750       5.349876  \n5             0.587508    12.514083     4.494516      0.886277       5.380793  ",
      "text/html": "<div>\n<style scoped>\n    .dataframe tbody tr th:only-of-type {\n        vertical-align: middle;\n    }\n\n    .dataframe tbody tr th {\n        vertical-align: top;\n    }\n\n    .dataframe thead th {\n        text-align: right;\n    }\n</style>\n<table border=\"1\" class=\"dataframe\">\n  <thead>\n    <tr style=\"text-align: right;\">\n      <th></th>\n      <th>date</th>\n      <th>data_pmPctT</th>\n      <th>data_pmPctP</th>\n      <th>data_plPctT</th>\n      <th>data_uPlPctT</th>\n      <th>data_mfPctT</th>\n      <th>data_isPctT</th>\n      <th>data_diPctT</th>\n      <th>data_othDiPctT</th>\n      <th>data_othExInsDiPctT</th>\n      <th>data_fiPctT</th>\n      <th>data_rhPctT</th>\n      <th>data_othPctT</th>\n      <th>data_rOthPctT</th>\n    </tr>\n  </thead>\n  <tbody>\n    <tr>\n      <th>0</th>\n      <td>2022-03-31T00:00:00.000Z</td>\n      <td>72.297047</td>\n      <td>0.477552</td>\n      <td>0.345256</td>\n      <td>71.951791</td>\n      <td>3.223157</td>\n      <td>4.476628</td>\n      <td>7.809032</td>\n      <td>4.585875</td>\n      <td>0.109247</td>\n      <td>14.149294</td>\n      <td>4.348591</td>\n      <td>1.396036</td>\n      <td>5.744627</td>\n    </tr>\n    <tr>\n      <th>1</th>\n      <td>2022-06-30T00:00:00.000Z</td>\n      <td>72.297047</td>\n      <td>0.477552</td>\n      <td>0.345256</td>\n      <td>71.951791</td>\n      <td>3.378630</td>\n      <td>4.882172</td>\n      <td>8.357634</td>\n      <td>4.979004</td>\n      <td>0.096831</td>\n      <td>13.497550</td>\n      <td>4.436833</td>\n      <td>1.410936</td>\n      <td>5.847769</td>\n    </tr>\n    <tr>\n      <th>2</th>\n      <td>2022-09-30T00:00:00.000Z</td>\n      <td>72.297047</td>\n      <td>0.477552</td>\n      <td>0.345256</td>\n      <td>71.951791</td>\n      <td>3.339062</td>\n      <td>5.130464</td>\n      <td>8.581743</td>\n      <td>5.242681</td>\n      <td>0.112217</td>\n      <td>13.054555</td>\n      <td>4.702294</td>\n      <td>1.364361</td>\n      <td>6.066655</td>\n    </tr>\n    <tr>\n      <th>3</th>\n      <td>2022-12-31T00:00:00.000Z</td>\n      <td>72.297047</td>\n      <td>0.477552</td>\n      <td>0.345256</td>\n      <td>71.951791</td>\n      <td>3.312344</td>\n      <td>5.432311</td>\n      <td>9.312092</td>\n      <td>5.999748</td>\n      <td>0.567436</td>\n      <td>12.944327</td>\n      <td>4.537205</td>\n      <td>0.909330</td>\n      <td>5.446535</td>\n    </tr>\n    <tr>\n      <th>4</th>\n      <td>2023-03-31T00:00:00.000Z</td>\n      <td>72.297047</td>\n      <td>0.477552</td>\n      <td>0.345256</td>\n      <td>71.951791</td>\n      <td>3.473143</td>\n      <td>5.566399</td>\n      <td>9.635671</td>\n      <td>6.162529</td>\n      <td>0.596130</td>\n      <td>12.717406</td>\n      <td>4.451126</td>\n      <td>0.898750</td>\n      <td>5.349876</td>\n    </tr>\n    <tr>\n      <th>5</th>\n      <td>2023-06-30T00:00:00.000Z</td>\n      <td>72.297047</td>\n      <td>0.477552</td>\n      <td>0.345256</td>\n      <td>71.951791</td>\n      <td>3.482790</td>\n      <td>5.737781</td>\n      <td>9.808078</td>\n      <td>6.325288</td>\n      <td>0.587508</td>\n      <td>12.514083</td>\n      <td>4.494516</td>\n      <td>0.886277</td>\n      <td>5.380793</td>\n    </tr>\n  </tbody>\n</table>\n</div>"
     },
     "execution_count": 7,
     "metadata": {},
     "output_type": "execute_result"
    }
   ],
   "source": [
    "_, raw_data = ttp.get_ticker('Tata consult') # TCS\n",
    "slug_url = raw_data[0].get('slug')\n",
    "print(slug_url)\n",
    "ttp.get_share_holding_pattern(slug_url)"
   ],
   "metadata": {
    "collapsed": false,
    "ExecuteTime": {
     "end_time": "2023-09-20T06:58:09.774871700Z",
     "start_time": "2023-09-20T06:58:08.540303900Z"
    }
   },
   "id": "a652c2b615645fcc"
  },
  {
   "cell_type": "markdown",
   "source": [
    "# Mutual Funds Holdings of an Equity"
   ],
   "metadata": {
    "collapsed": false
   },
   "id": "3740a0dc10ee199b"
  },
  {
   "cell_type": "code",
   "execution_count": 8,
   "outputs": [
    {
     "name": "stdout",
     "output_type": "stream",
     "text": [
      "/stocks/tata-consumer-products-TACN\n"
     ]
    },
    {
     "data": {
      "text/plain": "   marketCapPct  change3m  currentRank  prevRank  securities    weight  \\\n0      0.484818 -0.087122           19        17          55  1.530544   \n1      0.316736 -0.127120           28        25         204  0.705360   \n2      0.314274  0.029757           20        42          80  1.478544   \n3      0.220748 -0.084339           53        51          83  0.572265   \n4      0.210710 -0.062046           43        41          65  0.955769   \n\n  meta_mfId     meta_isin                       meta_name  \\\n0   M_HDCTP  INF179K01YV8               HDFC Top 100 Fund   \n1    M_NIMS  INF204K01K15     Nippon India Small Cap Fund   \n2   M_ADTUE  INF209K01XX1  Aditya Birla SL Flexi Cap Fund   \n3    M_KORY  INF174K01LT0      Kotak Emerging Equity Fund   \n4    M_CAOP  INF760K01EI4  Canara Rob Emerg Equities Fund   \n\n                                       meta_fullName meta_option  \n0           HDFC Top 100 Fund - Growth - Direct Plan      Growth  \n1  Nippon India SMALL CAP FUND DIRECT PLAN GROWTH...      Growth  \n2  Aditya Birla Sun Life Flexi Cap Fund - Growth ...      Growth  \n3  KOTAK EMERGING EQUITY SCHEME - DIRECT PLAN - G...      Growth  \n4  CANARA ROBECO AMC LTD-CANARA ROBECO MF-CANARA ...      Growth  ",
      "text/html": "<div>\n<style scoped>\n    .dataframe tbody tr th:only-of-type {\n        vertical-align: middle;\n    }\n\n    .dataframe tbody tr th {\n        vertical-align: top;\n    }\n\n    .dataframe thead th {\n        text-align: right;\n    }\n</style>\n<table border=\"1\" class=\"dataframe\">\n  <thead>\n    <tr style=\"text-align: right;\">\n      <th></th>\n      <th>marketCapPct</th>\n      <th>change3m</th>\n      <th>currentRank</th>\n      <th>prevRank</th>\n      <th>securities</th>\n      <th>weight</th>\n      <th>meta_mfId</th>\n      <th>meta_isin</th>\n      <th>meta_name</th>\n      <th>meta_fullName</th>\n      <th>meta_option</th>\n    </tr>\n  </thead>\n  <tbody>\n    <tr>\n      <th>0</th>\n      <td>0.484818</td>\n      <td>-0.087122</td>\n      <td>19</td>\n      <td>17</td>\n      <td>55</td>\n      <td>1.530544</td>\n      <td>M_HDCTP</td>\n      <td>INF179K01YV8</td>\n      <td>HDFC Top 100 Fund</td>\n      <td>HDFC Top 100 Fund - Growth - Direct Plan</td>\n      <td>Growth</td>\n    </tr>\n    <tr>\n      <th>1</th>\n      <td>0.316736</td>\n      <td>-0.127120</td>\n      <td>28</td>\n      <td>25</td>\n      <td>204</td>\n      <td>0.705360</td>\n      <td>M_NIMS</td>\n      <td>INF204K01K15</td>\n      <td>Nippon India Small Cap Fund</td>\n      <td>Nippon India SMALL CAP FUND DIRECT PLAN GROWTH...</td>\n      <td>Growth</td>\n    </tr>\n    <tr>\n      <th>2</th>\n      <td>0.314274</td>\n      <td>0.029757</td>\n      <td>20</td>\n      <td>42</td>\n      <td>80</td>\n      <td>1.478544</td>\n      <td>M_ADTUE</td>\n      <td>INF209K01XX1</td>\n      <td>Aditya Birla SL Flexi Cap Fund</td>\n      <td>Aditya Birla Sun Life Flexi Cap Fund - Growth ...</td>\n      <td>Growth</td>\n    </tr>\n    <tr>\n      <th>3</th>\n      <td>0.220748</td>\n      <td>-0.084339</td>\n      <td>53</td>\n      <td>51</td>\n      <td>83</td>\n      <td>0.572265</td>\n      <td>M_KORY</td>\n      <td>INF174K01LT0</td>\n      <td>Kotak Emerging Equity Fund</td>\n      <td>KOTAK EMERGING EQUITY SCHEME - DIRECT PLAN - G...</td>\n      <td>Growth</td>\n    </tr>\n    <tr>\n      <th>4</th>\n      <td>0.210710</td>\n      <td>-0.062046</td>\n      <td>43</td>\n      <td>41</td>\n      <td>65</td>\n      <td>0.955769</td>\n      <td>M_CAOP</td>\n      <td>INF760K01EI4</td>\n      <td>Canara Rob Emerg Equities Fund</td>\n      <td>CANARA ROBECO AMC LTD-CANARA ROBECO MF-CANARA ...</td>\n      <td>Growth</td>\n    </tr>\n  </tbody>\n</table>\n</div>"
     },
     "execution_count": 8,
     "metadata": {},
     "output_type": "execute_result"
    }
   ],
   "source": [
    "_, raw_data = ttp.get_ticker('tata consumer')\n",
    "slug_url = raw_data[0].get('slug')\n",
    "print(slug_url)\n",
    "ttp.get_mutual_fund_holdings(slug_url)"
   ],
   "metadata": {
    "collapsed": false,
    "ExecuteTime": {
     "end_time": "2023-09-20T06:58:55.343789500Z",
     "start_time": "2023-09-20T06:58:53.633777700Z"
    }
   },
   "id": "231a38df8fbc6fdb"
  },
  {
   "cell_type": "markdown",
   "source": [
    "# SmallCase Holdings of an Equity"
   ],
   "metadata": {
    "collapsed": false
   },
   "id": "ee71b0d367876d58"
  },
  {
   "cell_type": "code",
   "execution_count": 9,
   "outputs": [
    {
     "name": "stdout",
     "output_type": "stream",
     "text": [
      "/stocks/infosys-INFY\n"
     ]
    },
    {
     "data": {
      "text/plain": "        scid                  name    publisher     publisherName  \\\n0  SCMO_0014  Dividend Aristocrats  smallcaseHQ  Windmill Capital   \n1  SCTR_0006            IT Tracker  smallcaseHQ  Windmill Capital   \n\n                                        slug  \\\n0  /smallcase/dividend-aristocrats-SCMO_0014   \n1            /smallcase/it-tracker-SCTR_0006   \n\n                                             iconUrl       cagr    weight  \\\n0  https://assets.smallcase.com/images/smallcases...  19.887931  0.076823   \n1  https://assets.smallcase.com/images/smallcases...  22.268248  0.100400   \n\n                                         description  minAmount  \n0  Companies that have been consistently increasi...      74802  \n1  Companies to efficiently track and invest in t...      72161  ",
      "text/html": "<div>\n<style scoped>\n    .dataframe tbody tr th:only-of-type {\n        vertical-align: middle;\n    }\n\n    .dataframe tbody tr th {\n        vertical-align: top;\n    }\n\n    .dataframe thead th {\n        text-align: right;\n    }\n</style>\n<table border=\"1\" class=\"dataframe\">\n  <thead>\n    <tr style=\"text-align: right;\">\n      <th></th>\n      <th>scid</th>\n      <th>name</th>\n      <th>publisher</th>\n      <th>publisherName</th>\n      <th>slug</th>\n      <th>iconUrl</th>\n      <th>cagr</th>\n      <th>weight</th>\n      <th>description</th>\n      <th>minAmount</th>\n    </tr>\n  </thead>\n  <tbody>\n    <tr>\n      <th>0</th>\n      <td>SCMO_0014</td>\n      <td>Dividend Aristocrats</td>\n      <td>smallcaseHQ</td>\n      <td>Windmill Capital</td>\n      <td>/smallcase/dividend-aristocrats-SCMO_0014</td>\n      <td>https://assets.smallcase.com/images/smallcases...</td>\n      <td>19.887931</td>\n      <td>0.076823</td>\n      <td>Companies that have been consistently increasi...</td>\n      <td>74802</td>\n    </tr>\n    <tr>\n      <th>1</th>\n      <td>SCTR_0006</td>\n      <td>IT Tracker</td>\n      <td>smallcaseHQ</td>\n      <td>Windmill Capital</td>\n      <td>/smallcase/it-tracker-SCTR_0006</td>\n      <td>https://assets.smallcase.com/images/smallcases...</td>\n      <td>22.268248</td>\n      <td>0.100400</td>\n      <td>Companies to efficiently track and invest in t...</td>\n      <td>72161</td>\n    </tr>\n  </tbody>\n</table>\n</div>"
     },
     "execution_count": 9,
     "metadata": {},
     "output_type": "execute_result"
    }
   ],
   "source": [
    "_, raw_data = ttp.get_ticker('Infosys')\n",
    "slug_url = raw_data[0].get('slug')\n",
    "print(slug_url)\n",
    "ttp.get_smallcase_holdings(slug_url)"
   ],
   "metadata": {
    "collapsed": false,
    "ExecuteTime": {
     "end_time": "2023-09-20T06:59:18.033554300Z",
     "start_time": "2023-09-20T06:59:16.625301300Z"
    }
   },
   "id": "22dd67e7ba02ae1c"
  },
  {
   "cell_type": "markdown",
   "source": [
    "# Dividends History of an Equity this will provide history as well as confirmed upcoming"
   ],
   "metadata": {
    "collapsed": false
   },
   "id": "85c4f40f74162d20"
  },
  {
   "cell_type": "code",
   "execution_count": 11,
   "outputs": [
    {
     "name": "stdout",
     "output_type": "stream",
     "text": [
      "/stocks/itc-ITC\n"
     ]
    },
    {
     "data": {
      "text/plain": "                        _id   description  dividend                    exDate  \\\n0  646c0b7999f7f66b45caa04a    Final|6.75      6.75  2023-05-30T00:00:00.000Z   \n1  646c0b7999f7f66b45caa04c  Special|2.75      2.75  2023-05-30T00:00:00.000Z   \n2  63e5926d51bce260ed2944e3     Interim|6      6.00  2023-02-15T00:00:00.000Z   \n3  6286e29b9ea2727459ab864f    Final|6.25      6.25  2022-05-26T00:00:00.000Z   \n4  61fdc7129ce5d6ac66a92ecd  Interim|5.25      5.25  2022-02-14T00:00:00.000Z   \n5  60b8239d66dc38b8cc075b6e    Final|5.75      5.75  2021-06-10T00:00:00.000Z   \n\n   sid          type          title  subType value ticker  \n0  ITC  cashDividend  Cash Dividend    Final  6.75    ITC  \n1  ITC  cashDividend  Cash Dividend  Special  2.75    ITC  \n2  ITC  cashDividend  Cash Dividend  Interim     6    ITC  \n3  ITC  cashDividend  Cash Dividend    Final  6.25    ITC  \n4  ITC  cashDividend  Cash Dividend  Interim  5.25    ITC  \n5  ITC  cashDividend  Cash Dividend    Final  5.75    ITC  ",
      "text/html": "<div>\n<style scoped>\n    .dataframe tbody tr th:only-of-type {\n        vertical-align: middle;\n    }\n\n    .dataframe tbody tr th {\n        vertical-align: top;\n    }\n\n    .dataframe thead th {\n        text-align: right;\n    }\n</style>\n<table border=\"1\" class=\"dataframe\">\n  <thead>\n    <tr style=\"text-align: right;\">\n      <th></th>\n      <th>_id</th>\n      <th>description</th>\n      <th>dividend</th>\n      <th>exDate</th>\n      <th>sid</th>\n      <th>type</th>\n      <th>title</th>\n      <th>subType</th>\n      <th>value</th>\n      <th>ticker</th>\n    </tr>\n  </thead>\n  <tbody>\n    <tr>\n      <th>0</th>\n      <td>646c0b7999f7f66b45caa04a</td>\n      <td>Final|6.75</td>\n      <td>6.75</td>\n      <td>2023-05-30T00:00:00.000Z</td>\n      <td>ITC</td>\n      <td>cashDividend</td>\n      <td>Cash Dividend</td>\n      <td>Final</td>\n      <td>6.75</td>\n      <td>ITC</td>\n    </tr>\n    <tr>\n      <th>1</th>\n      <td>646c0b7999f7f66b45caa04c</td>\n      <td>Special|2.75</td>\n      <td>2.75</td>\n      <td>2023-05-30T00:00:00.000Z</td>\n      <td>ITC</td>\n      <td>cashDividend</td>\n      <td>Cash Dividend</td>\n      <td>Special</td>\n      <td>2.75</td>\n      <td>ITC</td>\n    </tr>\n    <tr>\n      <th>2</th>\n      <td>63e5926d51bce260ed2944e3</td>\n      <td>Interim|6</td>\n      <td>6.00</td>\n      <td>2023-02-15T00:00:00.000Z</td>\n      <td>ITC</td>\n      <td>cashDividend</td>\n      <td>Cash Dividend</td>\n      <td>Interim</td>\n      <td>6</td>\n      <td>ITC</td>\n    </tr>\n    <tr>\n      <th>3</th>\n      <td>6286e29b9ea2727459ab864f</td>\n      <td>Final|6.25</td>\n      <td>6.25</td>\n      <td>2022-05-26T00:00:00.000Z</td>\n      <td>ITC</td>\n      <td>cashDividend</td>\n      <td>Cash Dividend</td>\n      <td>Final</td>\n      <td>6.25</td>\n      <td>ITC</td>\n    </tr>\n    <tr>\n      <th>4</th>\n      <td>61fdc7129ce5d6ac66a92ecd</td>\n      <td>Interim|5.25</td>\n      <td>5.25</td>\n      <td>2022-02-14T00:00:00.000Z</td>\n      <td>ITC</td>\n      <td>cashDividend</td>\n      <td>Cash Dividend</td>\n      <td>Interim</td>\n      <td>5.25</td>\n      <td>ITC</td>\n    </tr>\n    <tr>\n      <th>5</th>\n      <td>60b8239d66dc38b8cc075b6e</td>\n      <td>Final|5.75</td>\n      <td>5.75</td>\n      <td>2021-06-10T00:00:00.000Z</td>\n      <td>ITC</td>\n      <td>cashDividend</td>\n      <td>Cash Dividend</td>\n      <td>Final</td>\n      <td>5.75</td>\n      <td>ITC</td>\n    </tr>\n  </tbody>\n</table>\n</div>"
     },
     "execution_count": 11,
     "metadata": {},
     "output_type": "execute_result"
    }
   ],
   "source": [
    "_, raw_data = ttp.get_ticker('ITC ltd')\n",
    "slug_url = raw_data[0].get('slug')\n",
    "print(slug_url)\n",
    "ttp.get_dividends_history(slug_url)"
   ],
   "metadata": {
    "collapsed": false,
    "ExecuteTime": {
     "end_time": "2023-09-20T06:59:57.172086300Z",
     "start_time": "2023-09-20T06:59:55.731695900Z"
    }
   },
   "id": "5b8f2b5ce09bea5a"
  },
  {
   "cell_type": "markdown",
   "source": [
    "# Key Ratios of a stock or Index"
   ],
   "metadata": {
    "collapsed": false
   },
   "id": "59c36c4aa416fa2a"
  },
  {
   "cell_type": "code",
   "execution_count": 15,
   "outputs": [
    {
     "name": "stdout",
     "output_type": "stream",
     "text": [
      "URL :  /indices/nifty-50-index-.NSEI\n"
     ]
    },
    {
     "data": {
      "text/plain": "                                 0\nmarketCapLabel            Largecap\n52wpct                   14.844973\n4wpct                     4.262784\n52wHigh                   20221.25\n52wLow                     16747.7\ndivYield                  1.293751\npb                        3.744091\npe                       22.629465\n5yYldAvg                  1.361877\nsharpeRatio               1.054187\nconstituentsCount               50\netfsCount                       22\nmarketCap          15782158.542433\nmarketCapShare           48.240709\nrisk                             1\n12mVol                   11.721368\nlastPrice                  20133.3\nticker                    NIFTY 50",
      "text/html": "<div>\n<style scoped>\n    .dataframe tbody tr th:only-of-type {\n        vertical-align: middle;\n    }\n\n    .dataframe tbody tr th {\n        vertical-align: top;\n    }\n\n    .dataframe thead th {\n        text-align: right;\n    }\n</style>\n<table border=\"1\" class=\"dataframe\">\n  <thead>\n    <tr style=\"text-align: right;\">\n      <th></th>\n      <th>0</th>\n    </tr>\n  </thead>\n  <tbody>\n    <tr>\n      <th>marketCapLabel</th>\n      <td>Largecap</td>\n    </tr>\n    <tr>\n      <th>52wpct</th>\n      <td>14.844973</td>\n    </tr>\n    <tr>\n      <th>4wpct</th>\n      <td>4.262784</td>\n    </tr>\n    <tr>\n      <th>52wHigh</th>\n      <td>20221.25</td>\n    </tr>\n    <tr>\n      <th>52wLow</th>\n      <td>16747.7</td>\n    </tr>\n    <tr>\n      <th>divYield</th>\n      <td>1.293751</td>\n    </tr>\n    <tr>\n      <th>pb</th>\n      <td>3.744091</td>\n    </tr>\n    <tr>\n      <th>pe</th>\n      <td>22.629465</td>\n    </tr>\n    <tr>\n      <th>5yYldAvg</th>\n      <td>1.361877</td>\n    </tr>\n    <tr>\n      <th>sharpeRatio</th>\n      <td>1.054187</td>\n    </tr>\n    <tr>\n      <th>constituentsCount</th>\n      <td>50</td>\n    </tr>\n    <tr>\n      <th>etfsCount</th>\n      <td>22</td>\n    </tr>\n    <tr>\n      <th>marketCap</th>\n      <td>15782158.542433</td>\n    </tr>\n    <tr>\n      <th>marketCapShare</th>\n      <td>48.240709</td>\n    </tr>\n    <tr>\n      <th>risk</th>\n      <td>1</td>\n    </tr>\n    <tr>\n      <th>12mVol</th>\n      <td>11.721368</td>\n    </tr>\n    <tr>\n      <th>lastPrice</th>\n      <td>20133.3</td>\n    </tr>\n    <tr>\n      <th>ticker</th>\n      <td>NIFTY 50</td>\n    </tr>\n  </tbody>\n</table>\n</div>"
     },
     "execution_count": 15,
     "metadata": {},
     "output_type": "execute_result"
    }
   ],
   "source": [
    "ttp.get_key_ratios('NIFTY 50')"
   ],
   "metadata": {
    "collapsed": false,
    "ExecuteTime": {
     "end_time": "2023-09-20T06:23:07.022359700Z",
     "start_time": "2023-09-20T06:23:04.118964800Z"
    }
   },
   "id": "ca1fe0af76897c2f"
  },
  {
   "cell_type": "markdown",
   "source": [
    "# All ETFs under an Index"
   ],
   "metadata": {
    "collapsed": false
   },
   "id": "e50a79f5ec0f8295"
  },
  {
   "cell_type": "code",
   "execution_count": 21,
   "outputs": [
    {
     "data": {
      "text/plain": "      sid  stock_advancedRatios_etfLiq stock_advancedRatios_etfLiqLabel  \\\n0    NBES                     0.187848                             High   \n1    SBFP                     0.326837                             High   \n2   NETFP                     1.792640                             High   \n3    ICNI                     1.873902                             High   \n4    UTIN                     3.217981                             High   \n5    ICPR                     3.441467                             High   \n6    MIRA                     4.679838                             High   \n7    KOTK                     9.610560                             High   \n8    ICIH                    10.981879                             High   \n9    ADIY                    11.225764                             High   \n10   HDFN                    13.346123                             High   \n11    M50                    34.080547                           Medium   \n12   QUAN                    41.621562                           Medium   \n13    TNI                    46.113315                           Medium   \n14   TATN                    50.449728                           Medium   \n15   LICO                    70.230066                           Medium   \n16   AISN                    73.506677                           Medium   \n17   DSPN                   237.981929                              Low   \n18   IDTI                   542.154395                              Low   \n19   IFCN                   819.456077                              Low   \n20   INVO                  1788.194861                              Low   \n21   EETS                          NaN                              Low   \n\n    stock_advancedRatios_expenseRatio  stock_advancedRatios_trackErr  \\\n0                               0.040                       0.044449   \n1                               0.040                       0.044449   \n2                               0.210                       0.022224   \n3                               0.030                       0.042861   \n4                                 NaN                       0.044449   \n5                               0.050                            NaN   \n6                               0.050                       0.044449   \n7                               0.040                       0.066673   \n8                               0.410                       0.090485   \n9                               0.050                       0.046036   \n10                              0.050                       0.047624   \n11                              0.050                       0.046036   \n12                              0.094                       0.046036   \n13                              0.400                       0.279391   \n14                              0.080                       0.080960   \n15                              0.100                       0.120646   \n16                              0.090                       0.046036   \n17                              0.070                       0.063498   \n18                              0.530                       0.320665   \n19                              0.090                       0.068260   \n20                              0.100                       0.058736   \n21                              0.070                       2.241481   \n\n   stock_info_sector                           stock_info_name  \\\n0             Equity               Nippon India ETF Nifty BeES   \n1             Equity                          SBI-ETF Nifty 50   \n2             Equity             Nippon India Nifty Pharma ETF   \n3             Equity                ICICI Prudential Nifty ETF   \n4             Equity            UTI-Nifty Exchange Traded Fund   \n5             Equity                             Bharat 22 ETF   \n6             Equity                  Mirae Asset Nifty 50 ETF   \n7             Equity                           Kotak Nifty ETF   \n8             Equity     ICICI Prudential Alpha Low Vol 30 ETF   \n9             Equity                      Aditya BSL Nifty ETF   \n10            Equity                         HDFC Nifty 50 ETF   \n11            Equity                     Motilal Oswal M50 ETF   \n12            Equity                         Quantum Nifty ETF   \n13            Equity              Tata Nifty India Digital Etf   \n14            Equity           Tata Nifty Exchange Traded Fund   \n15            Equity                       LIC MF ETF-Nifty 50   \n16            Equity                            Axis Nifty ETF   \n17            Equity                          DSP Nifty 50 ETF   \n18            Equity   Indiabulls NIFTY50 Exchange Traded Fund   \n19            Equity                            IDFC NIFTY ETF   \n20            Equity  Invesco India Nifty Exchange Traded Fund   \n21            Equity                    Edelweiss Nifty 50 ETF   \n\n   stock_info_ticker stock_info_exchange  \\\n0          NIFTYBEES                 NSE   \n1          SETFNIF50                 NSE   \n2         PHARMABEES                 NSE   \n3         ICICINIFTY                 NSE   \n4         UTINIFTETF                 NSE   \n5           ICICIB22                 NSE   \n6           NIFTYETF                 NSE   \n7         KOTAKNIFTY                 NSE   \n8         ICICIALPLV                 NSE   \n9           BSLNIFTY                 NSE   \n10         HDFCNIFTY                 NSE   \n11             MOM50                 NSE   \n12            QNIFTY                 NSE   \n13           TNIDETF                 NSE   \n14              NETF                 NSE   \n15        LICNETFN50                 NSE   \n16         AXISNIFTY                 NSE   \n17         DSPN50ETF                 NSE   \n18         IBMFNIFTY                 NSE   \n19        IDFNIFTYET                 NSE   \n20        IVZINNIFTY                 NSE   \n21          NIFTYEES                 NSE   \n\n                                       stock_info_amc  \\\n0          Nippon Life India Asset Management Limited   \n1                        SBI Funds Management Limited   \n2          Nippon Life India Asset Management Limited   \n3   ICICI Prudential Asset Management Company Limited   \n4        UTI Asset Management Company Private Limited   \n5   ICICI Prudential Asset Management Company Limited   \n6   Mirae Asset Investment Managers (India) Privat...   \n7     Kotak Mahindra Asset Management Company Limited   \n8   ICICI Prudential Asset Management Company Limited   \n9                   Aditya Birla Sun Life AMC Limited   \n10              HDFC Asset Management Company Limited   \n11     Motilal Oswal Asset Management Company Limited   \n12   Quantum Asset Management Company Private Limited   \n13              Tata Asset Management Private Limited   \n14              Tata Asset Management Private Limited   \n15           LIC Mutual Fund Asset Management Limited   \n16                 Axis Asset Management Company Ltd.   \n17            DSP Investment Managers Private Limited   \n18                     Groww Asset Management Limited   \n19                                Bandhan AMC Limited   \n20          Invesco Asset Management Company Pvt Ltd.   \n21                 Edelweiss Asset Management Limited   \n\n                                   stock_info_amcDesc  \\\n0   Nippon India Mutual Fund is one of India’s lea...   \n1   With 30 years of rich experience in fund manag...   \n2   Nippon India Mutual Fund is one of India’s lea...   \n3   ICICI Prudential Asset Management Company Ltd....   \n4   UTI AMC commenced operations from February 1, ...   \n5   ICICI Prudential Asset Management Company Ltd....   \n6   Mirae Asset Financial Group is one of the key ...   \n7   Kotak Mahindra Asset Management Company Limite...   \n8   ICICI Prudential Asset Management Company Ltd....   \n9   Aditya Birla Sun Life AMC Limited, is a joint ...   \n10  HDFC Asset Management Company, investment mana...   \n11  Motilal Oswal Asset Management Company Ltd. (M...   \n12  Quantum Asset Management Company Pvt Ltd. is t...   \n13  Established in 1994, Tata Asset Management Pri...   \n14  Established in 1994, Tata Asset Management Pri...   \n15  LIC Mutual Fund was established on 20th April ...   \n16  Axis Asset Management Company Ltd. is the mutu...   \n17  DSP Investment Managers is an independent Indi...   \n18  Indiabulls Housing Finance Limited (\"IHFL\") is...   \n19  IDFC AMC Limited is a subsidiary of the IDFC F...   \n20  Invesco is an independent investment managemen...   \n21  Edelweiss Asset Management Limited (EAML) is p...   \n\n                               stock_info_description stock_info_trIndex  \\\n0   NIPPON INDIA ETF Nifty BeES objective is to pr...              .NSEI   \n1   SBI-ETF Nifty 50 objective is to provide retur...              .NSEI   \n2   Nippon India Nifty Pharma ETF objective is to ...              .NSEI   \n3   ICICI Prudential Nifty iWIN ETF objective is t...              .NSEI   \n4   UTI-Nifty ETF objective is to provide returns ...              .NSEI   \n5   Bharat 22 ETF objective is to invest in consti...              .NSEI   \n6   Mirae Asset Nifty 50 ETF objective is to gener...              .NSEI   \n7   Kotak Nifty ETF objective is to provide return...              .NSEI   \n8   ICICI Prudential Alpha Low Vol 30 ETF objectiv...              .NSEI   \n9   Aditya BSL Nifty ETF objective is to provide r...              .NSEI   \n10  HDFC Nifty ETF-Growth objective is to provide ...              .NSEI   \n11  Motilal Oswal MOSt Shares M50 ETF objective is...              .NSEI   \n12  Quantum Nifty ETF objective is to invest in st...              .NSEI   \n13  The investment objective of the scheme is to p...              .NSEI   \n14  Tata Nifty ETF objective of the scheme is to p...              .NSEI   \n15  LIC MF ETF-Nifty 50 objective is to provide re...              .NSEI   \n16  Axis Nifty ETF objective is to provide returns...              .NSEI   \n17  DSP Nifty 50 ETF objective is to provide retur...              .NSEI   \n18  Indiabulls Nifty50 ETF objective is to provide...              .NSEI   \n19  IDFC Nifty ETF objective is to provide returns...              .NSEI   \n20  Invesco India Nifty ETF objective is to provid...              .NSEI   \n21  Edelweiss ETF-Nifty 50 objective is to provide...              .NSEI   \n\n                 stock_info_trIndexName         stock_info_trIndexSlug  \\\n0                        Nifty 50 Index  /indices/nifty-50-index-.NSEI   \n1                        Nifty 50 Index  /indices/nifty-50-index-.NSEI   \n2                    NIFTY PHARMA - TRI  /indices/nifty-50-index-.NSEI   \n3                        Nifty 50 Index  /indices/nifty-50-index-.NSEI   \n4                        Nifty 50 Index  /indices/nifty-50-index-.NSEI   \n5         S&P BSE Bharat 22 Index - TRI     /indices/nifty-index-.NSEI   \n6                        Nifty 50 Index  /indices/nifty-50-index-.NSEI   \n7                        Nifty 50 Index  /indices/nifty-50-index-.NSEI   \n8   NIFTY Alpha Low-Volatility 30 - TRI     /indices/nifty-index-.NSEI   \n9                        Nifty 50 Index  /indices/nifty-50-index-.NSEI   \n10                       Nifty 50 Index  /indices/nifty-50-index-.NSEI   \n11                       Nifty 50 Index  /indices/nifty-50-index-.NSEI   \n12                       Nifty 50 Index  /indices/nifty-50-index-.NSEI   \n13           Nifty India Digital  - TRI  /indices/nifty-50-index-.NSEI   \n14                       Nifty 50 Index  /indices/nifty-50-index-.NSEI   \n15                       Nifty 50 Index  /indices/nifty-50-index-.NSEI   \n16                       Nifty 50 Index  /indices/nifty-50-index-.NSEI   \n17                       Nifty 50 Index  /indices/nifty-50-index-.NSEI   \n18                       Nifty 50 Index  /indices/nifty-50-index-.NSEI   \n19                       Nifty 50 Index  /indices/nifty-50-index-.NSEI   \n20                       Nifty 50 Index  /indices/nifty-50-index-.NSEI   \n21                       Nifty 50 Index  /indices/nifty-50-index-.NSEI   \n\n   stock_info_amcCode                                         stock_slug  \n0                 RMF          /etfs/nippon-india-nifty-50-bees-etf-NBES  \n1                   L                        /etfs/sbi-nifty-50-etf-SBFP  \n2                 RMF  /etfs/nippon-india-nifty-pharma-etf-growth-pla...  \n3                   P           /etfs/icici-prudential-nifty-50-etf-ICNI  \n4                 108                        /etfs/uti-nifty-50-etf-UTIN  \n5                   P                           /etfs/bharat-22-etf-ICPR  \n6                 MAF                /etfs/mirae-asset-nifty-50-etf-MIRA  \n7                   K                      /etfs/kotak-nifty-50-etf-KOTK  \n8                   P   /etfs/icici-prudential-alpha-low-vol-30-etf-ICIH  \n9                   B                 /etfs/aditya-bsl-nifty-50-etf-ADIY  \n10                  H                       /etfs/hdfc-nifty-50-etf-HDFN  \n11                127               /etfs/motilal-oswal-nifty-50-etf-M50  \n12                QMF                    /etfs/quantum-nifty-50-etf-QUAN  \n13               true             /etfs/tata-nifty-india-digital-etf-TNI  \n14               true                       /etfs/tata-nifty-50-etf-TATN  \n15                LIC                     /etfs/lic-mf-nifty-50-etf-LICO  \n16                128                       /etfs/axis-nifty-50-etf-AISN  \n17                  D                        /etfs/dsp-nifty-50-etf-DSPN  \n18                125                 /etfs/indiabulls-nifty-50-etf-IDTI  \n19                  G                       /etfs/idfc-nifty-50-etf-IFCN  \n20                120              /etfs/invesco-india-nifty-50-etf-INVO  \n21                EMF                  /etfs/edelweiss-nifty-50-etf-EETS  ",
      "text/html": "<div>\n<style scoped>\n    .dataframe tbody tr th:only-of-type {\n        vertical-align: middle;\n    }\n\n    .dataframe tbody tr th {\n        vertical-align: top;\n    }\n\n    .dataframe thead th {\n        text-align: right;\n    }\n</style>\n<table border=\"1\" class=\"dataframe\">\n  <thead>\n    <tr style=\"text-align: right;\">\n      <th></th>\n      <th>sid</th>\n      <th>stock_advancedRatios_etfLiq</th>\n      <th>stock_advancedRatios_etfLiqLabel</th>\n      <th>stock_advancedRatios_expenseRatio</th>\n      <th>stock_advancedRatios_trackErr</th>\n      <th>stock_info_sector</th>\n      <th>stock_info_name</th>\n      <th>stock_info_ticker</th>\n      <th>stock_info_exchange</th>\n      <th>stock_info_amc</th>\n      <th>stock_info_amcDesc</th>\n      <th>stock_info_description</th>\n      <th>stock_info_trIndex</th>\n      <th>stock_info_trIndexName</th>\n      <th>stock_info_trIndexSlug</th>\n      <th>stock_info_amcCode</th>\n      <th>stock_slug</th>\n    </tr>\n  </thead>\n  <tbody>\n    <tr>\n      <th>0</th>\n      <td>NBES</td>\n      <td>0.187848</td>\n      <td>High</td>\n      <td>0.040</td>\n      <td>0.044449</td>\n      <td>Equity</td>\n      <td>Nippon India ETF Nifty BeES</td>\n      <td>NIFTYBEES</td>\n      <td>NSE</td>\n      <td>Nippon Life India Asset Management Limited</td>\n      <td>Nippon India Mutual Fund is one of India’s lea...</td>\n      <td>NIPPON INDIA ETF Nifty BeES objective is to pr...</td>\n      <td>.NSEI</td>\n      <td>Nifty 50 Index</td>\n      <td>/indices/nifty-50-index-.NSEI</td>\n      <td>RMF</td>\n      <td>/etfs/nippon-india-nifty-50-bees-etf-NBES</td>\n    </tr>\n    <tr>\n      <th>1</th>\n      <td>SBFP</td>\n      <td>0.326837</td>\n      <td>High</td>\n      <td>0.040</td>\n      <td>0.044449</td>\n      <td>Equity</td>\n      <td>SBI-ETF Nifty 50</td>\n      <td>SETFNIF50</td>\n      <td>NSE</td>\n      <td>SBI Funds Management Limited</td>\n      <td>With 30 years of rich experience in fund manag...</td>\n      <td>SBI-ETF Nifty 50 objective is to provide retur...</td>\n      <td>.NSEI</td>\n      <td>Nifty 50 Index</td>\n      <td>/indices/nifty-50-index-.NSEI</td>\n      <td>L</td>\n      <td>/etfs/sbi-nifty-50-etf-SBFP</td>\n    </tr>\n    <tr>\n      <th>2</th>\n      <td>NETFP</td>\n      <td>1.792640</td>\n      <td>High</td>\n      <td>0.210</td>\n      <td>0.022224</td>\n      <td>Equity</td>\n      <td>Nippon India Nifty Pharma ETF</td>\n      <td>PHARMABEES</td>\n      <td>NSE</td>\n      <td>Nippon Life India Asset Management Limited</td>\n      <td>Nippon India Mutual Fund is one of India’s lea...</td>\n      <td>Nippon India Nifty Pharma ETF objective is to ...</td>\n      <td>.NSEI</td>\n      <td>NIFTY PHARMA - TRI</td>\n      <td>/indices/nifty-50-index-.NSEI</td>\n      <td>RMF</td>\n      <td>/etfs/nippon-india-nifty-pharma-etf-growth-pla...</td>\n    </tr>\n    <tr>\n      <th>3</th>\n      <td>ICNI</td>\n      <td>1.873902</td>\n      <td>High</td>\n      <td>0.030</td>\n      <td>0.042861</td>\n      <td>Equity</td>\n      <td>ICICI Prudential Nifty ETF</td>\n      <td>ICICINIFTY</td>\n      <td>NSE</td>\n      <td>ICICI Prudential Asset Management Company Limited</td>\n      <td>ICICI Prudential Asset Management Company Ltd....</td>\n      <td>ICICI Prudential Nifty iWIN ETF objective is t...</td>\n      <td>.NSEI</td>\n      <td>Nifty 50 Index</td>\n      <td>/indices/nifty-50-index-.NSEI</td>\n      <td>P</td>\n      <td>/etfs/icici-prudential-nifty-50-etf-ICNI</td>\n    </tr>\n    <tr>\n      <th>4</th>\n      <td>UTIN</td>\n      <td>3.217981</td>\n      <td>High</td>\n      <td>NaN</td>\n      <td>0.044449</td>\n      <td>Equity</td>\n      <td>UTI-Nifty Exchange Traded Fund</td>\n      <td>UTINIFTETF</td>\n      <td>NSE</td>\n      <td>UTI Asset Management Company Private Limited</td>\n      <td>UTI AMC commenced operations from February 1, ...</td>\n      <td>UTI-Nifty ETF objective is to provide returns ...</td>\n      <td>.NSEI</td>\n      <td>Nifty 50 Index</td>\n      <td>/indices/nifty-50-index-.NSEI</td>\n      <td>108</td>\n      <td>/etfs/uti-nifty-50-etf-UTIN</td>\n    </tr>\n    <tr>\n      <th>5</th>\n      <td>ICPR</td>\n      <td>3.441467</td>\n      <td>High</td>\n      <td>0.050</td>\n      <td>NaN</td>\n      <td>Equity</td>\n      <td>Bharat 22 ETF</td>\n      <td>ICICIB22</td>\n      <td>NSE</td>\n      <td>ICICI Prudential Asset Management Company Limited</td>\n      <td>ICICI Prudential Asset Management Company Ltd....</td>\n      <td>Bharat 22 ETF objective is to invest in consti...</td>\n      <td>.NSEI</td>\n      <td>S&amp;P BSE Bharat 22 Index - TRI</td>\n      <td>/indices/nifty-index-.NSEI</td>\n      <td>P</td>\n      <td>/etfs/bharat-22-etf-ICPR</td>\n    </tr>\n    <tr>\n      <th>6</th>\n      <td>MIRA</td>\n      <td>4.679838</td>\n      <td>High</td>\n      <td>0.050</td>\n      <td>0.044449</td>\n      <td>Equity</td>\n      <td>Mirae Asset Nifty 50 ETF</td>\n      <td>NIFTYETF</td>\n      <td>NSE</td>\n      <td>Mirae Asset Investment Managers (India) Privat...</td>\n      <td>Mirae Asset Financial Group is one of the key ...</td>\n      <td>Mirae Asset Nifty 50 ETF objective is to gener...</td>\n      <td>.NSEI</td>\n      <td>Nifty 50 Index</td>\n      <td>/indices/nifty-50-index-.NSEI</td>\n      <td>MAF</td>\n      <td>/etfs/mirae-asset-nifty-50-etf-MIRA</td>\n    </tr>\n    <tr>\n      <th>7</th>\n      <td>KOTK</td>\n      <td>9.610560</td>\n      <td>High</td>\n      <td>0.040</td>\n      <td>0.066673</td>\n      <td>Equity</td>\n      <td>Kotak Nifty ETF</td>\n      <td>KOTAKNIFTY</td>\n      <td>NSE</td>\n      <td>Kotak Mahindra Asset Management Company Limited</td>\n      <td>Kotak Mahindra Asset Management Company Limite...</td>\n      <td>Kotak Nifty ETF objective is to provide return...</td>\n      <td>.NSEI</td>\n      <td>Nifty 50 Index</td>\n      <td>/indices/nifty-50-index-.NSEI</td>\n      <td>K</td>\n      <td>/etfs/kotak-nifty-50-etf-KOTK</td>\n    </tr>\n    <tr>\n      <th>8</th>\n      <td>ICIH</td>\n      <td>10.981879</td>\n      <td>High</td>\n      <td>0.410</td>\n      <td>0.090485</td>\n      <td>Equity</td>\n      <td>ICICI Prudential Alpha Low Vol 30 ETF</td>\n      <td>ICICIALPLV</td>\n      <td>NSE</td>\n      <td>ICICI Prudential Asset Management Company Limited</td>\n      <td>ICICI Prudential Asset Management Company Ltd....</td>\n      <td>ICICI Prudential Alpha Low Vol 30 ETF objectiv...</td>\n      <td>.NSEI</td>\n      <td>NIFTY Alpha Low-Volatility 30 - TRI</td>\n      <td>/indices/nifty-index-.NSEI</td>\n      <td>P</td>\n      <td>/etfs/icici-prudential-alpha-low-vol-30-etf-ICIH</td>\n    </tr>\n    <tr>\n      <th>9</th>\n      <td>ADIY</td>\n      <td>11.225764</td>\n      <td>High</td>\n      <td>0.050</td>\n      <td>0.046036</td>\n      <td>Equity</td>\n      <td>Aditya BSL Nifty ETF</td>\n      <td>BSLNIFTY</td>\n      <td>NSE</td>\n      <td>Aditya Birla Sun Life AMC Limited</td>\n      <td>Aditya Birla Sun Life AMC Limited, is a joint ...</td>\n      <td>Aditya BSL Nifty ETF objective is to provide r...</td>\n      <td>.NSEI</td>\n      <td>Nifty 50 Index</td>\n      <td>/indices/nifty-50-index-.NSEI</td>\n      <td>B</td>\n      <td>/etfs/aditya-bsl-nifty-50-etf-ADIY</td>\n    </tr>\n    <tr>\n      <th>10</th>\n      <td>HDFN</td>\n      <td>13.346123</td>\n      <td>High</td>\n      <td>0.050</td>\n      <td>0.047624</td>\n      <td>Equity</td>\n      <td>HDFC Nifty 50 ETF</td>\n      <td>HDFCNIFTY</td>\n      <td>NSE</td>\n      <td>HDFC Asset Management Company Limited</td>\n      <td>HDFC Asset Management Company, investment mana...</td>\n      <td>HDFC Nifty ETF-Growth objective is to provide ...</td>\n      <td>.NSEI</td>\n      <td>Nifty 50 Index</td>\n      <td>/indices/nifty-50-index-.NSEI</td>\n      <td>H</td>\n      <td>/etfs/hdfc-nifty-50-etf-HDFN</td>\n    </tr>\n    <tr>\n      <th>11</th>\n      <td>M50</td>\n      <td>34.080547</td>\n      <td>Medium</td>\n      <td>0.050</td>\n      <td>0.046036</td>\n      <td>Equity</td>\n      <td>Motilal Oswal M50 ETF</td>\n      <td>MOM50</td>\n      <td>NSE</td>\n      <td>Motilal Oswal Asset Management Company Limited</td>\n      <td>Motilal Oswal Asset Management Company Ltd. (M...</td>\n      <td>Motilal Oswal MOSt Shares M50 ETF objective is...</td>\n      <td>.NSEI</td>\n      <td>Nifty 50 Index</td>\n      <td>/indices/nifty-50-index-.NSEI</td>\n      <td>127</td>\n      <td>/etfs/motilal-oswal-nifty-50-etf-M50</td>\n    </tr>\n    <tr>\n      <th>12</th>\n      <td>QUAN</td>\n      <td>41.621562</td>\n      <td>Medium</td>\n      <td>0.094</td>\n      <td>0.046036</td>\n      <td>Equity</td>\n      <td>Quantum Nifty ETF</td>\n      <td>QNIFTY</td>\n      <td>NSE</td>\n      <td>Quantum Asset Management Company Private Limited</td>\n      <td>Quantum Asset Management Company Pvt Ltd. is t...</td>\n      <td>Quantum Nifty ETF objective is to invest in st...</td>\n      <td>.NSEI</td>\n      <td>Nifty 50 Index</td>\n      <td>/indices/nifty-50-index-.NSEI</td>\n      <td>QMF</td>\n      <td>/etfs/quantum-nifty-50-etf-QUAN</td>\n    </tr>\n    <tr>\n      <th>13</th>\n      <td>TNI</td>\n      <td>46.113315</td>\n      <td>Medium</td>\n      <td>0.400</td>\n      <td>0.279391</td>\n      <td>Equity</td>\n      <td>Tata Nifty India Digital Etf</td>\n      <td>TNIDETF</td>\n      <td>NSE</td>\n      <td>Tata Asset Management Private Limited</td>\n      <td>Established in 1994, Tata Asset Management Pri...</td>\n      <td>The investment objective of the scheme is to p...</td>\n      <td>.NSEI</td>\n      <td>Nifty India Digital  - TRI</td>\n      <td>/indices/nifty-50-index-.NSEI</td>\n      <td>true</td>\n      <td>/etfs/tata-nifty-india-digital-etf-TNI</td>\n    </tr>\n    <tr>\n      <th>14</th>\n      <td>TATN</td>\n      <td>50.449728</td>\n      <td>Medium</td>\n      <td>0.080</td>\n      <td>0.080960</td>\n      <td>Equity</td>\n      <td>Tata Nifty Exchange Traded Fund</td>\n      <td>NETF</td>\n      <td>NSE</td>\n      <td>Tata Asset Management Private Limited</td>\n      <td>Established in 1994, Tata Asset Management Pri...</td>\n      <td>Tata Nifty ETF objective of the scheme is to p...</td>\n      <td>.NSEI</td>\n      <td>Nifty 50 Index</td>\n      <td>/indices/nifty-50-index-.NSEI</td>\n      <td>true</td>\n      <td>/etfs/tata-nifty-50-etf-TATN</td>\n    </tr>\n    <tr>\n      <th>15</th>\n      <td>LICO</td>\n      <td>70.230066</td>\n      <td>Medium</td>\n      <td>0.100</td>\n      <td>0.120646</td>\n      <td>Equity</td>\n      <td>LIC MF ETF-Nifty 50</td>\n      <td>LICNETFN50</td>\n      <td>NSE</td>\n      <td>LIC Mutual Fund Asset Management Limited</td>\n      <td>LIC Mutual Fund was established on 20th April ...</td>\n      <td>LIC MF ETF-Nifty 50 objective is to provide re...</td>\n      <td>.NSEI</td>\n      <td>Nifty 50 Index</td>\n      <td>/indices/nifty-50-index-.NSEI</td>\n      <td>LIC</td>\n      <td>/etfs/lic-mf-nifty-50-etf-LICO</td>\n    </tr>\n    <tr>\n      <th>16</th>\n      <td>AISN</td>\n      <td>73.506677</td>\n      <td>Medium</td>\n      <td>0.090</td>\n      <td>0.046036</td>\n      <td>Equity</td>\n      <td>Axis Nifty ETF</td>\n      <td>AXISNIFTY</td>\n      <td>NSE</td>\n      <td>Axis Asset Management Company Ltd.</td>\n      <td>Axis Asset Management Company Ltd. is the mutu...</td>\n      <td>Axis Nifty ETF objective is to provide returns...</td>\n      <td>.NSEI</td>\n      <td>Nifty 50 Index</td>\n      <td>/indices/nifty-50-index-.NSEI</td>\n      <td>128</td>\n      <td>/etfs/axis-nifty-50-etf-AISN</td>\n    </tr>\n    <tr>\n      <th>17</th>\n      <td>DSPN</td>\n      <td>237.981929</td>\n      <td>Low</td>\n      <td>0.070</td>\n      <td>0.063498</td>\n      <td>Equity</td>\n      <td>DSP Nifty 50 ETF</td>\n      <td>DSPN50ETF</td>\n      <td>NSE</td>\n      <td>DSP Investment Managers Private Limited</td>\n      <td>DSP Investment Managers is an independent Indi...</td>\n      <td>DSP Nifty 50 ETF objective is to provide retur...</td>\n      <td>.NSEI</td>\n      <td>Nifty 50 Index</td>\n      <td>/indices/nifty-50-index-.NSEI</td>\n      <td>D</td>\n      <td>/etfs/dsp-nifty-50-etf-DSPN</td>\n    </tr>\n    <tr>\n      <th>18</th>\n      <td>IDTI</td>\n      <td>542.154395</td>\n      <td>Low</td>\n      <td>0.530</td>\n      <td>0.320665</td>\n      <td>Equity</td>\n      <td>Indiabulls NIFTY50 Exchange Traded Fund</td>\n      <td>IBMFNIFTY</td>\n      <td>NSE</td>\n      <td>Groww Asset Management Limited</td>\n      <td>Indiabulls Housing Finance Limited (\"IHFL\") is...</td>\n      <td>Indiabulls Nifty50 ETF objective is to provide...</td>\n      <td>.NSEI</td>\n      <td>Nifty 50 Index</td>\n      <td>/indices/nifty-50-index-.NSEI</td>\n      <td>125</td>\n      <td>/etfs/indiabulls-nifty-50-etf-IDTI</td>\n    </tr>\n    <tr>\n      <th>19</th>\n      <td>IFCN</td>\n      <td>819.456077</td>\n      <td>Low</td>\n      <td>0.090</td>\n      <td>0.068260</td>\n      <td>Equity</td>\n      <td>IDFC NIFTY ETF</td>\n      <td>IDFNIFTYET</td>\n      <td>NSE</td>\n      <td>Bandhan AMC Limited</td>\n      <td>IDFC AMC Limited is a subsidiary of the IDFC F...</td>\n      <td>IDFC Nifty ETF objective is to provide returns...</td>\n      <td>.NSEI</td>\n      <td>Nifty 50 Index</td>\n      <td>/indices/nifty-50-index-.NSEI</td>\n      <td>G</td>\n      <td>/etfs/idfc-nifty-50-etf-IFCN</td>\n    </tr>\n    <tr>\n      <th>20</th>\n      <td>INVO</td>\n      <td>1788.194861</td>\n      <td>Low</td>\n      <td>0.100</td>\n      <td>0.058736</td>\n      <td>Equity</td>\n      <td>Invesco India Nifty Exchange Traded Fund</td>\n      <td>IVZINNIFTY</td>\n      <td>NSE</td>\n      <td>Invesco Asset Management Company Pvt Ltd.</td>\n      <td>Invesco is an independent investment managemen...</td>\n      <td>Invesco India Nifty ETF objective is to provid...</td>\n      <td>.NSEI</td>\n      <td>Nifty 50 Index</td>\n      <td>/indices/nifty-50-index-.NSEI</td>\n      <td>120</td>\n      <td>/etfs/invesco-india-nifty-50-etf-INVO</td>\n    </tr>\n    <tr>\n      <th>21</th>\n      <td>EETS</td>\n      <td>NaN</td>\n      <td>Low</td>\n      <td>0.070</td>\n      <td>2.241481</td>\n      <td>Equity</td>\n      <td>Edelweiss Nifty 50 ETF</td>\n      <td>NIFTYEES</td>\n      <td>NSE</td>\n      <td>Edelweiss Asset Management Limited</td>\n      <td>Edelweiss Asset Management Limited (EAML) is p...</td>\n      <td>Edelweiss ETF-Nifty 50 objective is to provide...</td>\n      <td>.NSEI</td>\n      <td>Nifty 50 Index</td>\n      <td>/indices/nifty-50-index-.NSEI</td>\n      <td>EMF</td>\n      <td>/etfs/edelweiss-nifty-50-etf-EETS</td>\n    </tr>\n  </tbody>\n</table>\n</div>"
     },
     "execution_count": 21,
     "metadata": {},
     "output_type": "execute_result"
    }
   ],
   "source": [
    "ttp.get_all_etfs_under_index('.NSEI')"
   ],
   "metadata": {
    "collapsed": false,
    "ExecuteTime": {
     "end_time": "2023-09-20T06:39:02.108337300Z",
     "start_time": "2023-09-20T06:39:01.965533200Z"
    }
   },
   "id": "cc1b4dbb639ac13e"
  },
  {
   "cell_type": "markdown",
   "source": [
    "# Tickertape Filters or Screeners\n",
    "- You can pass any number of filters listed below, you can also pass entire filters list.\n",
    "- `Sortby` pass the filter name by default it considers the first entry in the filters list\n",
    "- In the `number of records`  pass n records else it will give entire stocks list available in exchange (~4k stocks)"
   ],
   "metadata": {
    "collapsed": false
   },
   "id": "d18a51d9b62dcb92"
  },
  {
   "cell_type": "code",
   "execution_count": 17,
   "outputs": [
    {
     "data": {
      "text/plain": "{'Market Cap': 'mrktCapf',\n 'Sector': 'sector',\n 'Sub-Sector': 'subindustry',\n '3Y Historical Dividend Growth': '3YdivGwth',\n '5Y Historical Revenue Growth': '5YrevChg',\n '1Y Hist Op. Cash Flow Growth': 'cfog',\n '5Y Hist Op. Cash Flow Growth': 'cfotr',\n '5Y Historical EBITDA Growth': 'earnings',\n '1Y Historical EBITDA Growth': 'ebitg',\n '5Y Historical EPS Growth': 'epsGwth',\n '1Y Historical EPS Growth': 'epsg',\n '1Y Historical Revenue Growth': 'rvng',\n 'Volatility': '12mVol',\n 'Volatility vs Nifty': '12mVolN',\n 'Alpha': '3Ywal',\n 'Sharpe Ratio': '3Ywsh',\n 'Beta': 'beta',\n '100D EMA': 'ema100d',\n '10D EMA': 'ema10d',\n '200D EMA': 'ema200d',\n '50D EMA': 'ema50d',\n '1Y Max Loss': 'maxDrawdown',\n '% Price above 1Y SMA': 'pab12Mma',\n '% Price above 1M SMA': 'pab1Mma',\n '% Price above 1M EMA': 'prAvMonthEVA',\n 'Relative Volume': 'relVol',\n '100D SMA': 'sma100d',\n '10D SMA': 'sma10d',\n '200D SMA': 'sma200d',\n '50D SMA': 'sma50d',\n 'VWAP': 'vWAP',\n '1Y Return vs Nifty': '12mpctN',\n '6M Return': '26wpct',\n '1M Return': '4wpct',\n '1M Return vs Nifty': '4wpctN',\n '% Away From 52W High': '52whd',\n '% Away From 52W Low': '52wld',\n '1Y Return': '52wpct',\n '5Y CAGR': '5yCagrPct',\n '6M Return vs Nifty': '6mpctN',\n 'Daily Volume': 'acVol',\n 'Face value': 'faceValue',\n 'Close Price': 'lastPrice',\n '1D Return': 'pr1d',\n '1W Return': 'pr1w',\n '1W Return vs Nifty': 'pr1wN',\n '1D Change in Volume': 'vol1dChPct',\n '1M Average Volume': 'vol1mAvg',\n '1W Change in Volume': 'vol1wChPct',\n '3M Average Volume': 'vol3mAvg',\n 'Basis': 'ftbas',\n 'Future Close Price': 'ftcp',\n 'Lot Size': 'ftls',\n 'Future Open Interest': 'ftoi',\n 'Future Volume': 'ftvol',\n 'Call Open Interest': 'opcoi',\n 'Put Open Interest': 'oppoi',\n '5Y Avg Return on Investment': '5Yaroi',\n '5Y Avg Cash Flow Margin': '5YcafCfoaMgn',\n '5Y Avg Net Profit Margin': '5YpftMrg',\n '5Y Avg Return on Equity': '5Yroe',\n '5Y Avg Return on Assets': '5YrtnAsts',\n 'EBITDA Margin': 'aopm',\n 'Return on Investment': 'aroi',\n 'Cost of Goods Sold': 'balCogs',\n 'Cash Flow Margin': 'cafCfoaMgn',\n '5Y Avg EBITDA Margin': 'opmg',\n 'Net Profit Margin': 'pftMrg',\n 'ROCE': 'roce',\n 'Return on Equity': 'roe',\n 'Return on Assets': 'rtnAsts',\n 'Interest Coverage Ratio': 'aint',\n 'Quick Ratio': 'aqui',\n 'Asset Turnover Ratio': 'asstTurnR',\n 'Cash Conversion Cycle': 'ccnc',\n 'Debt to Equity': 'dbtEqt',\n 'Earning Power': 'erngPwrR',\n 'Inventory Turnover Ratio': 'invTurnR',\n 'Long Term Debt to Equity': 'ldbtEqt',\n 'Net Income / Liabilities': 'netIncByLbl',\n 'Current Ratio': 'qcur',\n 'Working Capital Turnover Ratio': 'wcTurnR',\n 'PE Ratio': 'apef',\n 'Dividend Yield': 'divDps',\n 'Enterprise Value': 'ev',\n 'EV / Invested Capital': 'evByIc',\n 'EV / Revenue Ratio': 'evByRev',\n 'EV / Free Cash Flow': 'evCafFcf',\n 'EV / EBIT Ratio': 'evebit',\n 'EV/EBITDA Ratio': 'evebitd',\n 'Sector Dividend Yield': 'inddy',\n 'Sector PB': 'indpb',\n 'Sector PE': 'indpe',\n 'Price / Free Cash Flow': 'lcpCafFcf',\n 'PB Ratio': 'pbr',\n 'Price / Sales': 'priceBySales',\n 'Price / CFO': 'priceCfoR',\n 'PS Ratio': 'ps',\n 'TTM PE Ratio': 'ttmPe',\n 'Accounts Payable': 'balAccp',\n 'Additional Paid–in Capital': 'balApic',\n 'Share Capital': 'balComs',\n 'Cash and Equivalent': 'balCsti',\n 'Deferred Tax Liabilities (Net)': 'balDit',\n 'Deferred Tax Assets (Net)': 'balDta',\n 'Goodwill & Intangibles': 'balGint',\n 'Long Term Investments': 'balLti',\n 'Minority Interest': 'balMint',\n 'Non Current Assets': 'balNca',\n 'Non Current Liabilties': 'balNcl',\n 'Loans & Advances': 'balNetl',\n 'Net Property,Plant & Equipment': 'balNppe',\n 'Other Current Assets': 'balOca',\n 'Other Current Liabilities': 'balOcl',\n 'Other Assets': 'balOtha',\n 'Other Liabilities': 'balOthl',\n 'Reserves & Surplus': 'balRtne',\n 'Total Current Assets': 'balTca',\n 'Total Current Liabilities': 'balTcl',\n 'Common Shares Outstanding': 'balTcso',\n 'Total Debt': 'balTdeb',\n 'Total Deposits – Banks': 'balTdep',\n 'Total Equity': 'balTeq',\n 'Total Inventory': 'balTinv',\n 'Long Term Debt': 'balTltd',\n 'Total Assets': 'balTota',\n 'Total Liabilities': 'balTotl',\n 'Total Receivables': 'balTrec',\n 'Book Value': 'bookValue',\n 'Capital Expenditure': 'cafCexp',\n 'Financing Cash Flow': 'cafCffa',\n 'Investing Cash Flow': 'cafCfia',\n 'Operating Cash Flow': 'cafCfoa',\n 'Change in Working Capital': 'cafCiwc',\n 'Free Cash Flow': 'cafFcf',\n 'Net Change in Cash': 'cafNcic',\n 'Total Cash Dividend Paid': 'cafTcdp',\n '\\xa0MF Holding Change\\xa0–\\xa06M': 'chMutHldng6M',\n 'Promoter Holding Change\\xa0–\\xa06M\\xa0': 'chPromHldng6M',\n 'Domestic Institutional Holding': 'domInstHldng',\n 'DII Holding Change\\xa0–\\xa03M': 'domInstHldng3M',\n 'DII Holding Change\\xa0–\\xa06M': 'domInstHldng6M',\n 'Foreign Institutional Holding': 'forInstHldng',\n 'FII Holding Change\\xa0–\\xa03M': 'forInstHldng3M',\n 'FII Holding Change\\xa0–\\xa06M': 'forInstHldng6M',\n 'Insurance Firms Holding': 'insHolding',\n 'Mutual Fund Holding': 'instown',\n 'MF Holding Change\\xa0–\\xa03M': 'instown3',\n 'No. of Shareholders': 'nShareholders',\n 'Pledged Promoter Holdings': 'promShrPled',\n 'Retail Investor Holding': 'retailHolding',\n 'Promoter Holding': 'strown',\n 'Promoter Holding Change\\xa0–\\xa03M': 'strown3',\n 'Expense Ratio': 'expenseRatio',\n 'Tracking Error': 'trackErr',\n 'Depreciation & Amortization': 'incDep',\n 'Dividend Per Share': 'incDps',\n 'EBITDA': 'incEbi',\n 'Employee Cost': 'incEpc',\n 'Earnings Per Share': 'incEps',\n 'Interest & Other Items': 'incIoi',\n 'Net Income': 'incNinc',\n 'Operating & Other expenses': 'incOpe',\n 'PBIT': 'incPbi',\n 'PBT': 'incPbt',\n 'Power & Fuel Cost': 'incPfc',\n 'Payout Ratio': 'incPyr',\n 'Raw Materials': 'incRaw',\n 'Selling & Administrative Expenses': 'incSga',\n 'Taxes & Other Items': 'incToi',\n 'Total Revenue': 'incTrev',\n 'EBITDA (Q)': 'qIncEbiK',\n 'EPS (Q)': 'qIncEpsK',\n 'Net Income (Q)': 'qIncNincK',\n 'Operating and Other Expenses (Q)': 'qIncOpeK',\n 'PBIT (Q)': 'qIncPbiK',\n 'PBT (Q)': 'qIncPbtK',\n 'Total revenue (Q)': 'qIncTrevK'}"
     },
     "execution_count": 17,
     "metadata": {},
     "output_type": "execute_result"
    }
   ],
   "source": [
    "all_filters = ttp.get_equity_screener_all_filters()\n",
    "all_filters"
   ],
   "metadata": {
    "collapsed": false,
    "ExecuteTime": {
     "end_time": "2023-09-20T06:23:52.224642800Z",
     "start_time": "2023-09-20T06:23:52.116309800Z"
    }
   },
   "id": "a1c5ee1bc2737c4a"
  },
  {
   "cell_type": "code",
   "execution_count": 18,
   "outputs": [
    {
     "data": {
      "text/plain": "   advancedRatios.lastPrice  advancedRatios.beta  advancedRatios.mrktCapf  \\\n0                   8628.00             0.875084            248719.110965   \n1                   1559.95             2.016379            248152.861732   \n2                   3797.90             0.540551            247141.911896   \n3                    186.75             1.095906            234936.714172   \n4                    640.65             1.768541            234694.608046   \n\n                             info.name info.ticker             info.sector  \\\n0                 UltraTech Cement Ltd  ULTRACEMCO               Materials   \n1                    Bajaj Finserv Ltd  BAJAJFINSV              Financials   \n2                Avenue Supermarts Ltd       DMART  Consumer Discretionary   \n3  Oil and Natural Gas Corporation Ltd        ONGC                  Energy   \n4                      Tata Motors Ltd  TATAMOTORS  Consumer Discretionary   \n\n    sid  \n0  ULTC  \n1  BJFS  \n2  AVEU  \n3  ONGC  \n4  TAMO  ",
      "text/html": "<div>\n<style scoped>\n    .dataframe tbody tr th:only-of-type {\n        vertical-align: middle;\n    }\n\n    .dataframe tbody tr th {\n        vertical-align: top;\n    }\n\n    .dataframe thead th {\n        text-align: right;\n    }\n</style>\n<table border=\"1\" class=\"dataframe\">\n  <thead>\n    <tr style=\"text-align: right;\">\n      <th></th>\n      <th>advancedRatios.lastPrice</th>\n      <th>advancedRatios.beta</th>\n      <th>advancedRatios.mrktCapf</th>\n      <th>info.name</th>\n      <th>info.ticker</th>\n      <th>info.sector</th>\n      <th>sid</th>\n    </tr>\n  </thead>\n  <tbody>\n    <tr>\n      <th>0</th>\n      <td>8628.00</td>\n      <td>0.875084</td>\n      <td>248719.110965</td>\n      <td>UltraTech Cement Ltd</td>\n      <td>ULTRACEMCO</td>\n      <td>Materials</td>\n      <td>ULTC</td>\n    </tr>\n    <tr>\n      <th>1</th>\n      <td>1559.95</td>\n      <td>2.016379</td>\n      <td>248152.861732</td>\n      <td>Bajaj Finserv Ltd</td>\n      <td>BAJAJFINSV</td>\n      <td>Financials</td>\n      <td>BJFS</td>\n    </tr>\n    <tr>\n      <th>2</th>\n      <td>3797.90</td>\n      <td>0.540551</td>\n      <td>247141.911896</td>\n      <td>Avenue Supermarts Ltd</td>\n      <td>DMART</td>\n      <td>Consumer Discretionary</td>\n      <td>AVEU</td>\n    </tr>\n    <tr>\n      <th>3</th>\n      <td>186.75</td>\n      <td>1.095906</td>\n      <td>234936.714172</td>\n      <td>Oil and Natural Gas Corporation Ltd</td>\n      <td>ONGC</td>\n      <td>Energy</td>\n      <td>ONGC</td>\n    </tr>\n    <tr>\n      <th>4</th>\n      <td>640.65</td>\n      <td>1.768541</td>\n      <td>234694.608046</td>\n      <td>Tata Motors Ltd</td>\n      <td>TATAMOTORS</td>\n      <td>Consumer Discretionary</td>\n      <td>TAMO</td>\n    </tr>\n  </tbody>\n</table>\n</div>"
     },
     "execution_count": 18,
     "metadata": {},
     "output_type": "execute_result"
    }
   ],
   "source": [
    "filtered_list_df = ttp.get_equity_screener_data(filters=[\"mrktCapf\", \"lastPrice\", \"beta\"], sortby='mrktCapf', number_of_records=20)\n",
    "filtered_list_df.head()"
   ],
   "metadata": {
    "collapsed": false,
    "ExecuteTime": {
     "end_time": "2023-09-20T06:28:10.868726800Z",
     "start_time": "2023-09-20T06:28:09.401317900Z"
    }
   },
   "id": "fbbd43f4cfd0fcb4"
  },
  {
   "cell_type": "code",
   "execution_count": null,
   "outputs": [],
   "source": [],
   "metadata": {
    "collapsed": false
   },
   "id": "8c3ac1f276001eeb"
  },
  {
   "cell_type": "code",
   "execution_count": null,
   "outputs": [],
   "source": [],
   "metadata": {
    "collapsed": false
   },
   "id": "fdc86e5794857bea"
  }
 ],
 "metadata": {
  "kernelspec": {
   "display_name": "Python 3 (ipykernel)",
   "language": "python",
   "name": "python3"
  },
  "language_info": {
   "codemirror_mode": {
    "name": "ipython",
    "version": 3
   },
   "file_extension": ".py",
   "mimetype": "text/x-python",
   "name": "python",
   "nbconvert_exporter": "python",
   "pygments_lexer": "ipython3",
   "version": "3.9.13"
  }
 },
 "nbformat": 4,
 "nbformat_minor": 5
}
