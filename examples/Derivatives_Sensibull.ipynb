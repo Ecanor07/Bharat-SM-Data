{
 "cells": [
  {
   "cell_type": "code",
   "execution_count": 1,
   "outputs": [
    {
     "ename": "ModuleNotFoundError",
     "evalue": "No module named 'pandas'",
     "output_type": "error",
     "traceback": [
      "\u001B[1;31m---------------------------------------------------------------------------\u001B[0m",
      "\u001B[1;31mModuleNotFoundError\u001B[0m                       Traceback (most recent call last)",
      "Cell \u001B[1;32mIn[1], line 1\u001B[0m\n\u001B[1;32m----> 1\u001B[0m \u001B[38;5;28;01mfrom\u001B[39;00m \u001B[38;5;21;01mDerivatives\u001B[39;00m \u001B[38;5;28;01mimport\u001B[39;00m Sensibull\n\u001B[0;32m      2\u001B[0m \u001B[38;5;28;01mfrom\u001B[39;00m \u001B[38;5;21;01mdatetime\u001B[39;00m \u001B[38;5;28;01mimport\u001B[39;00m datetime\n\u001B[0;32m      3\u001B[0m \u001B[38;5;28;01mfrom\u001B[39;00m \u001B[38;5;21;01mDerivatives\u001B[39;00m \u001B[38;5;28;01mimport\u001B[39;00m NSE\n",
      "File \u001B[1;32mD:\\Projects\\Bharat-SM-Data\\Bharat_sm_data\\Derivatives\\__init__.py:1\u001B[0m\n\u001B[1;32m----> 1\u001B[0m \u001B[38;5;28;01mfrom\u001B[39;00m \u001B[38;5;21;01mDerivatives\u001B[39;00m\u001B[38;5;21;01m.\u001B[39;00m\u001B[38;5;21;01mNSE\u001B[39;00m \u001B[38;5;28;01mimport\u001B[39;00m NSE\n\u001B[0;32m      2\u001B[0m \u001B[38;5;28;01mfrom\u001B[39;00m \u001B[38;5;21;01mDerivatives\u001B[39;00m\u001B[38;5;21;01m.\u001B[39;00m\u001B[38;5;21;01mSensibull\u001B[39;00m \u001B[38;5;28;01mimport\u001B[39;00m Sensibull\n",
      "File \u001B[1;32mD:\\Projects\\Bharat-SM-Data\\Bharat_sm_data\\Derivatives\\NSE.py:3\u001B[0m\n\u001B[0;32m      1\u001B[0m \u001B[38;5;28;01mfrom\u001B[39;00m \u001B[38;5;21;01mdatetime\u001B[39;00m \u001B[38;5;28;01mimport\u001B[39;00m datetime\n\u001B[1;32m----> 3\u001B[0m \u001B[38;5;28;01mimport\u001B[39;00m \u001B[38;5;21;01mpandas\u001B[39;00m \u001B[38;5;28;01mas\u001B[39;00m \u001B[38;5;21;01mpd\u001B[39;00m\n\u001B[0;32m      4\u001B[0m \u001B[38;5;28;01mimport\u001B[39;00m \u001B[38;5;21;01mpydash\u001B[39;00m \u001B[38;5;28;01mas\u001B[39;00m \u001B[38;5;21;01m_\u001B[39;00m\n\u001B[0;32m      5\u001B[0m \u001B[38;5;28;01mfrom\u001B[39;00m \u001B[38;5;21;01mbs4\u001B[39;00m \u001B[38;5;28;01mimport\u001B[39;00m BeautifulSoup\n",
      "\u001B[1;31mModuleNotFoundError\u001B[0m: No module named 'pandas'"
     ]
    }
   ],
   "source": [
    "from Derivatives import Sensibull\n",
    "from datetime import datetime\n",
    "from Derivatives import NSE"
   ],
   "metadata": {
    "collapsed": false,
    "ExecuteTime": {
     "end_time": "2023-11-05T10:13:14.545382400Z",
     "start_time": "2023-11-05T10:13:14.145500100Z"
    }
   },
   "id": "940f23a22a6dca32"
  },
  {
   "cell_type": "code",
   "execution_count": 15,
   "outputs": [],
   "source": [
    "sb = Sensibull()\n",
    "nse = NSE()"
   ],
   "metadata": {
    "collapsed": false,
    "ExecuteTime": {
     "end_time": "2023-09-19T14:34:14.499998900Z",
     "start_time": "2023-09-19T14:34:13.090463300Z"
    }
   },
   "id": "6db9e7a78c5f80aa"
  },
  {
   "cell_type": "markdown",
   "source": [
    "# Option Chain with Options Greeks.\n",
    "## Option Chain for Indices"
   ],
   "metadata": {
    "collapsed": false
   },
   "id": "f1ae59b0d1c4ca9b"
  },
  {
   "cell_type": "code",
   "execution_count": 19,
   "outputs": [
    {
     "data": {
      "text/plain": "(256265,\n {'instrument_token': 256265,\n  'name': 'NIFTY 50',\n  'tradingsymbol': 'NIFTY',\n  'underlying_instrument': 'NIFTY',\n  'expiry': '',\n  'strike': 0.0,\n  'tick_size': 0.0,\n  'lot_size': 0.0,\n  'multiplier': 1.0,\n  'is_underlying': True,\n  'is_non_fno': False,\n  'tradable': False,\n  'broker': '2',\n  'mode': 'full',\n  'exchange': 'NSE',\n  'segment': 'NSE-INDICES',\n  'instrument_type': 'EQ',\n  'last_price': 20122.55,\n  'last_updated_at': '2023-09-18T15:29:59+05:30',\n  'last_traded_timestamp': 0,\n  'sectors': ['Index']})"
     },
     "execution_count": 19,
     "metadata": {},
     "output_type": "execute_result"
    }
   ],
   "source": [
    "# Searching\n",
    "sb_nifty_token = sb.search_token('NIFTY')\n",
    "expiry = nse.get_options_expiry('NIFTY', is_index=True)\n",
    "sb_nifty_token.get('instrument_token'), sb_nifty_token"
   ],
   "metadata": {
    "collapsed": false,
    "ExecuteTime": {
     "end_time": "2023-09-19T14:35:20.056835100Z",
     "start_time": "2023-09-19T14:35:19.833784100Z"
    }
   },
   "id": "a71557e74d201b13"
  },
  {
   "cell_type": "code",
   "execution_count": 21,
   "outputs": [],
   "source": [
    "greeks_df, atm_strike = sb.get_options_data_with_greeks(sb_nifty_token, num_look_ups_from_atm=10, expiry_date=expiry[0])"
   ],
   "metadata": {
    "collapsed": false,
    "ExecuteTime": {
     "end_time": "2023-09-19T14:35:29.400739100Z",
     "start_time": "2023-09-19T14:35:29.037209800Z"
    }
   },
   "id": "a3acf005ca6f53c6"
  },
  {
   "cell_type": "code",
   "execution_count": 22,
   "outputs": [
    {
     "data": {
      "text/plain": "20150.0"
     },
     "execution_count": 22,
     "metadata": {},
     "output_type": "execute_result"
    }
   ],
   "source": [
    "atm_strike"
   ],
   "metadata": {
    "collapsed": false,
    "ExecuteTime": {
     "end_time": "2023-09-19T14:35:32.357712400Z",
     "start_time": "2023-09-19T14:35:32.329708600Z"
    }
   },
   "id": "2f106ebb83581a40"
  },
  {
   "cell_type": "code",
   "execution_count": 23,
   "outputs": [
    {
     "data": {
      "text/plain": "   future_price  strike   CE.tradingsymbol   PE.tradingsymbol  CE.last_price  \\\n0  20139.807467   19650  NIFTY2392119650CE  NIFTY2392119650PE         495.60   \n1  20139.807467   19700  NIFTY2392119700CE  NIFTY2392119700PE         443.00   \n2  20139.807467   19750  NIFTY2392119750CE  NIFTY2392119750PE         396.25   \n3  20139.807467   19800  NIFTY2392119800CE  NIFTY2392119800PE         346.00   \n4  20139.807467   19850  NIFTY2392119850CE  NIFTY2392119850PE         295.80   \n\n   CE.ltp_change    CE.last_trade_time   CE.oi  CE.oi_change  CE.volume  ...  \\\n0          -0.02  1970-01-01T00:00:00Z   33200        -0.047      12150  ...   \n1          -0.03  1970-01-01T00:00:00Z  246450        -0.051     133500  ...   \n2          -0.03  1970-01-01T00:00:00Z   58600        -0.164      38400  ...   \n3          -0.02  1970-01-01T00:00:00Z  370750         0.015     607450  ...   \n4          -0.03  1970-01-01T00:00:00Z   84800        -0.015     134950  ...   \n\n   PE.ltp_change    PE.last_trade_time    PE.oi  PE.oi_change  PE.volume  \\\n0          -0.09  1970-01-01T00:00:00Z  1570600         0.175   11230650   \n1          -0.08  1970-01-01T00:00:00Z  2633350        -0.189   17293400   \n2          -0.15  1970-01-01T00:00:00Z  1631200         0.452   13498050   \n3           0.05  1970-01-01T00:00:00Z  5972450         0.387   29045500   \n4           0.06  1970-01-01T00:00:00Z  2216050         0.331   18014100   \n\n   PE.greeks_with_iv.theta  PE.greeks_with_iv.delta PE.greeks_with_iv.gamma  \\\n0                    -3.01                    -0.03                  0.0003   \n1                    -3.22                    -0.04                  0.0003   \n2                    -3.34                    -0.04                  0.0004   \n3                    -4.54                    -0.06                  0.0005   \n4                    -5.10                    -0.08                  0.0007   \n\n   PE.greeks_with_iv.vega  PE.greeks_with_iv.iv  \n0                    1.25              0.144997  \n1                    1.43              0.135387  \n2                    1.61              0.124438  \n3                    2.23              0.122334  \n4                    2.69              0.113678  \n\n[5 rows x 26 columns]",
      "text/html": "<div>\n<style scoped>\n    .dataframe tbody tr th:only-of-type {\n        vertical-align: middle;\n    }\n\n    .dataframe tbody tr th {\n        vertical-align: top;\n    }\n\n    .dataframe thead th {\n        text-align: right;\n    }\n</style>\n<table border=\"1\" class=\"dataframe\">\n  <thead>\n    <tr style=\"text-align: right;\">\n      <th></th>\n      <th>future_price</th>\n      <th>strike</th>\n      <th>CE.tradingsymbol</th>\n      <th>PE.tradingsymbol</th>\n      <th>CE.last_price</th>\n      <th>CE.ltp_change</th>\n      <th>CE.last_trade_time</th>\n      <th>CE.oi</th>\n      <th>CE.oi_change</th>\n      <th>CE.volume</th>\n      <th>...</th>\n      <th>PE.ltp_change</th>\n      <th>PE.last_trade_time</th>\n      <th>PE.oi</th>\n      <th>PE.oi_change</th>\n      <th>PE.volume</th>\n      <th>PE.greeks_with_iv.theta</th>\n      <th>PE.greeks_with_iv.delta</th>\n      <th>PE.greeks_with_iv.gamma</th>\n      <th>PE.greeks_with_iv.vega</th>\n      <th>PE.greeks_with_iv.iv</th>\n    </tr>\n  </thead>\n  <tbody>\n    <tr>\n      <th>0</th>\n      <td>20139.807467</td>\n      <td>19650</td>\n      <td>NIFTY2392119650CE</td>\n      <td>NIFTY2392119650PE</td>\n      <td>495.60</td>\n      <td>-0.02</td>\n      <td>1970-01-01T00:00:00Z</td>\n      <td>33200</td>\n      <td>-0.047</td>\n      <td>12150</td>\n      <td>...</td>\n      <td>-0.09</td>\n      <td>1970-01-01T00:00:00Z</td>\n      <td>1570600</td>\n      <td>0.175</td>\n      <td>11230650</td>\n      <td>-3.01</td>\n      <td>-0.03</td>\n      <td>0.0003</td>\n      <td>1.25</td>\n      <td>0.144997</td>\n    </tr>\n    <tr>\n      <th>1</th>\n      <td>20139.807467</td>\n      <td>19700</td>\n      <td>NIFTY2392119700CE</td>\n      <td>NIFTY2392119700PE</td>\n      <td>443.00</td>\n      <td>-0.03</td>\n      <td>1970-01-01T00:00:00Z</td>\n      <td>246450</td>\n      <td>-0.051</td>\n      <td>133500</td>\n      <td>...</td>\n      <td>-0.08</td>\n      <td>1970-01-01T00:00:00Z</td>\n      <td>2633350</td>\n      <td>-0.189</td>\n      <td>17293400</td>\n      <td>-3.22</td>\n      <td>-0.04</td>\n      <td>0.0003</td>\n      <td>1.43</td>\n      <td>0.135387</td>\n    </tr>\n    <tr>\n      <th>2</th>\n      <td>20139.807467</td>\n      <td>19750</td>\n      <td>NIFTY2392119750CE</td>\n      <td>NIFTY2392119750PE</td>\n      <td>396.25</td>\n      <td>-0.03</td>\n      <td>1970-01-01T00:00:00Z</td>\n      <td>58600</td>\n      <td>-0.164</td>\n      <td>38400</td>\n      <td>...</td>\n      <td>-0.15</td>\n      <td>1970-01-01T00:00:00Z</td>\n      <td>1631200</td>\n      <td>0.452</td>\n      <td>13498050</td>\n      <td>-3.34</td>\n      <td>-0.04</td>\n      <td>0.0004</td>\n      <td>1.61</td>\n      <td>0.124438</td>\n    </tr>\n    <tr>\n      <th>3</th>\n      <td>20139.807467</td>\n      <td>19800</td>\n      <td>NIFTY2392119800CE</td>\n      <td>NIFTY2392119800PE</td>\n      <td>346.00</td>\n      <td>-0.02</td>\n      <td>1970-01-01T00:00:00Z</td>\n      <td>370750</td>\n      <td>0.015</td>\n      <td>607450</td>\n      <td>...</td>\n      <td>0.05</td>\n      <td>1970-01-01T00:00:00Z</td>\n      <td>5972450</td>\n      <td>0.387</td>\n      <td>29045500</td>\n      <td>-4.54</td>\n      <td>-0.06</td>\n      <td>0.0005</td>\n      <td>2.23</td>\n      <td>0.122334</td>\n    </tr>\n    <tr>\n      <th>4</th>\n      <td>20139.807467</td>\n      <td>19850</td>\n      <td>NIFTY2392119850CE</td>\n      <td>NIFTY2392119850PE</td>\n      <td>295.80</td>\n      <td>-0.03</td>\n      <td>1970-01-01T00:00:00Z</td>\n      <td>84800</td>\n      <td>-0.015</td>\n      <td>134950</td>\n      <td>...</td>\n      <td>0.06</td>\n      <td>1970-01-01T00:00:00Z</td>\n      <td>2216050</td>\n      <td>0.331</td>\n      <td>18014100</td>\n      <td>-5.10</td>\n      <td>-0.08</td>\n      <td>0.0007</td>\n      <td>2.69</td>\n      <td>0.113678</td>\n    </tr>\n  </tbody>\n</table>\n<p>5 rows × 26 columns</p>\n</div>"
     },
     "execution_count": 23,
     "metadata": {},
     "output_type": "execute_result"
    }
   ],
   "source": [
    "greeks_df.head()"
   ],
   "metadata": {
    "collapsed": false,
    "ExecuteTime": {
     "end_time": "2023-09-19T14:35:32.650675500Z",
     "start_time": "2023-09-19T14:35:32.605184400Z"
    }
   },
   "id": "a5d68acf8c245877"
  },
  {
   "cell_type": "markdown",
   "source": [
    "# Option Chain with Options Greeks.\n",
    "## Option Chain for Equities"
   ],
   "metadata": {
    "collapsed": false
   },
   "id": "ceab769435919a98"
  },
  {
   "cell_type": "code",
   "execution_count": 31,
   "outputs": [
    {
     "data": {
      "text/plain": "(779521,\n {'instrument_token': 779521,\n  'name': 'STATE BANK OF INDIA',\n  'tradingsymbol': 'SBIN',\n  'underlying_instrument': 'SBIN',\n  'expiry': '',\n  'strike': 0.0,\n  'tick_size': 0.05,\n  'lot_size': 1.0,\n  'multiplier': 1.0,\n  'is_underlying': True,\n  'is_non_fno': False,\n  'tradable': True,\n  'broker': '2',\n  'mode': 'full',\n  'exchange': 'NSE',\n  'segment': 'NSE',\n  'instrument_type': 'EQ',\n  'last_price': 603.0,\n  'last_quantity': 15,\n  'volume': 19300007,\n  'oi': 0,\n  'last_updated_at': '2023-09-18T15:29:59+05:30',\n  'last_traded_timestamp': 1695031199,\n  'sectors': ['Financial Services', 'NIFTY50']})"
     },
     "execution_count": 31,
     "metadata": {},
     "output_type": "execute_result"
    }
   ],
   "source": [
    "# An example for Equity\n",
    "sb_sbi = sb.search_token('SBIN')\n",
    "expiry = nse.get_options_expiry('SBIN', is_index=False)\n",
    "sb_sbi.get('instrument_token'), sb_sbi"
   ],
   "metadata": {
    "collapsed": false,
    "ExecuteTime": {
     "end_time": "2023-09-19T14:40:07.937986700Z",
     "start_time": "2023-09-19T14:40:07.693883400Z"
    }
   },
   "id": "306ffb38d911a887"
  },
  {
   "cell_type": "code",
   "execution_count": 27,
   "outputs": [
    {
     "data": {
      "text/plain": "[datetime.datetime(2023, 9, 28, 0, 0),\n datetime.datetime(2023, 10, 26, 0, 0),\n datetime.datetime(2023, 11, 30, 0, 0)]"
     },
     "execution_count": 27,
     "metadata": {},
     "output_type": "execute_result"
    }
   ],
   "source": [
    "expiry"
   ],
   "metadata": {
    "collapsed": false,
    "ExecuteTime": {
     "end_time": "2023-09-19T14:37:39.327119700Z",
     "start_time": "2023-09-19T14:37:39.295879Z"
    }
   },
   "id": "cdffd5720e537baa"
  },
  {
   "cell_type": "code",
   "execution_count": 28,
   "outputs": [],
   "source": [
    "greeks_df, atm_strike = sb.get_options_data_with_greeks(sb_sbi, num_look_ups_from_atm=5, expiry_date=expiry[0])"
   ],
   "metadata": {
    "collapsed": false,
    "ExecuteTime": {
     "end_time": "2023-09-19T14:37:53.229669700Z",
     "start_time": "2023-09-19T14:37:52.945309700Z"
    }
   },
   "id": "d879a85f18f743c7"
  },
  {
   "cell_type": "code",
   "execution_count": 29,
   "outputs": [
    {
     "data": {
      "text/plain": "605.0"
     },
     "execution_count": 29,
     "metadata": {},
     "output_type": "execute_result"
    }
   ],
   "source": [
    "atm_strike"
   ],
   "metadata": {
    "collapsed": false,
    "ExecuteTime": {
     "end_time": "2023-09-19T14:37:57.631459800Z",
     "start_time": "2023-09-19T14:37:57.606441300Z"
    }
   },
   "id": "bad10ddd4a192266"
  },
  {
   "cell_type": "code",
   "execution_count": 30,
   "outputs": [
    {
     "data": {
      "text/plain": "   future_price  strike CE.tradingsymbol PE.tradingsymbol  CE.last_price  \\\n0         603.5     580   SBIN23SEP580CE   SBIN23SEP580PE          24.80   \n1         603.5     585   SBIN23SEP585CE   SBIN23SEP585PE          20.20   \n2         603.5     590   SBIN23SEP590CE   SBIN23SEP590PE          16.00   \n3         603.5     595   SBIN23SEP595CE   SBIN23SEP595PE          12.55   \n4         603.5     600   SBIN23SEP600CE   SBIN23SEP600PE           9.40   \n\n   CE.ltp_change    CE.last_trade_time     CE.oi  CE.oi_change  CE.volume  \\\n0          -0.03  1970-01-01T00:00:00Z   3096000        -0.120    2086500   \n1          -0.02  1970-01-01T00:00:00Z   1434000        -0.043     738000   \n2          -0.05  1970-01-01T00:00:00Z   4113000        -0.149    6268500   \n3          -0.05  1970-01-01T00:00:00Z   1042500        -0.528    6334500   \n4          -0.07  1970-01-01T00:00:00Z  10377000        -0.403   42922500   \n\n   ...  PE.ltp_change    PE.last_trade_time    PE.oi  PE.oi_change  PE.volume  \\\n0  ...          -0.04  1970-01-01T00:00:00Z  3456000         0.018    7240500   \n1  ...           0.00  1970-01-01T00:00:00Z  1695000         0.085    3879000   \n2  ...          -0.02  1970-01-01T00:00:00Z  3496500         0.195   10117500   \n3  ...           0.04  1970-01-01T00:00:00Z  1342500         0.211    5961000   \n4  ...           0.03  1970-01-01T00:00:00Z  5596500         0.020   18556500   \n\n   PE.greeks_with_iv.theta  PE.greeks_with_iv.delta PE.greeks_with_iv.gamma  \\\n0                  -0.2140                  -0.1232                  0.0097   \n1                  -0.2537                  -0.1701                  0.0126   \n2                  -0.2969                  -0.2350                  0.0159   \n3                  -0.3473                  -0.3233                  0.0186   \n4                  -0.3799                  -0.4220                  0.0201   \n\n   PE.greeks_with_iv.vega  PE.greeks_with_iv.iv  \n0                  0.2036              0.210195  \n1                  0.2528              0.200675  \n2                  0.3070              0.193461  \n3                  0.3587              0.193630  \n4                  0.3909              0.194397  \n\n[5 rows x 26 columns]",
      "text/html": "<div>\n<style scoped>\n    .dataframe tbody tr th:only-of-type {\n        vertical-align: middle;\n    }\n\n    .dataframe tbody tr th {\n        vertical-align: top;\n    }\n\n    .dataframe thead th {\n        text-align: right;\n    }\n</style>\n<table border=\"1\" class=\"dataframe\">\n  <thead>\n    <tr style=\"text-align: right;\">\n      <th></th>\n      <th>future_price</th>\n      <th>strike</th>\n      <th>CE.tradingsymbol</th>\n      <th>PE.tradingsymbol</th>\n      <th>CE.last_price</th>\n      <th>CE.ltp_change</th>\n      <th>CE.last_trade_time</th>\n      <th>CE.oi</th>\n      <th>CE.oi_change</th>\n      <th>CE.volume</th>\n      <th>...</th>\n      <th>PE.ltp_change</th>\n      <th>PE.last_trade_time</th>\n      <th>PE.oi</th>\n      <th>PE.oi_change</th>\n      <th>PE.volume</th>\n      <th>PE.greeks_with_iv.theta</th>\n      <th>PE.greeks_with_iv.delta</th>\n      <th>PE.greeks_with_iv.gamma</th>\n      <th>PE.greeks_with_iv.vega</th>\n      <th>PE.greeks_with_iv.iv</th>\n    </tr>\n  </thead>\n  <tbody>\n    <tr>\n      <th>0</th>\n      <td>603.5</td>\n      <td>580</td>\n      <td>SBIN23SEP580CE</td>\n      <td>SBIN23SEP580PE</td>\n      <td>24.80</td>\n      <td>-0.03</td>\n      <td>1970-01-01T00:00:00Z</td>\n      <td>3096000</td>\n      <td>-0.120</td>\n      <td>2086500</td>\n      <td>...</td>\n      <td>-0.04</td>\n      <td>1970-01-01T00:00:00Z</td>\n      <td>3456000</td>\n      <td>0.018</td>\n      <td>7240500</td>\n      <td>-0.2140</td>\n      <td>-0.1232</td>\n      <td>0.0097</td>\n      <td>0.2036</td>\n      <td>0.210195</td>\n    </tr>\n    <tr>\n      <th>1</th>\n      <td>603.5</td>\n      <td>585</td>\n      <td>SBIN23SEP585CE</td>\n      <td>SBIN23SEP585PE</td>\n      <td>20.20</td>\n      <td>-0.02</td>\n      <td>1970-01-01T00:00:00Z</td>\n      <td>1434000</td>\n      <td>-0.043</td>\n      <td>738000</td>\n      <td>...</td>\n      <td>0.00</td>\n      <td>1970-01-01T00:00:00Z</td>\n      <td>1695000</td>\n      <td>0.085</td>\n      <td>3879000</td>\n      <td>-0.2537</td>\n      <td>-0.1701</td>\n      <td>0.0126</td>\n      <td>0.2528</td>\n      <td>0.200675</td>\n    </tr>\n    <tr>\n      <th>2</th>\n      <td>603.5</td>\n      <td>590</td>\n      <td>SBIN23SEP590CE</td>\n      <td>SBIN23SEP590PE</td>\n      <td>16.00</td>\n      <td>-0.05</td>\n      <td>1970-01-01T00:00:00Z</td>\n      <td>4113000</td>\n      <td>-0.149</td>\n      <td>6268500</td>\n      <td>...</td>\n      <td>-0.02</td>\n      <td>1970-01-01T00:00:00Z</td>\n      <td>3496500</td>\n      <td>0.195</td>\n      <td>10117500</td>\n      <td>-0.2969</td>\n      <td>-0.2350</td>\n      <td>0.0159</td>\n      <td>0.3070</td>\n      <td>0.193461</td>\n    </tr>\n    <tr>\n      <th>3</th>\n      <td>603.5</td>\n      <td>595</td>\n      <td>SBIN23SEP595CE</td>\n      <td>SBIN23SEP595PE</td>\n      <td>12.55</td>\n      <td>-0.05</td>\n      <td>1970-01-01T00:00:00Z</td>\n      <td>1042500</td>\n      <td>-0.528</td>\n      <td>6334500</td>\n      <td>...</td>\n      <td>0.04</td>\n      <td>1970-01-01T00:00:00Z</td>\n      <td>1342500</td>\n      <td>0.211</td>\n      <td>5961000</td>\n      <td>-0.3473</td>\n      <td>-0.3233</td>\n      <td>0.0186</td>\n      <td>0.3587</td>\n      <td>0.193630</td>\n    </tr>\n    <tr>\n      <th>4</th>\n      <td>603.5</td>\n      <td>600</td>\n      <td>SBIN23SEP600CE</td>\n      <td>SBIN23SEP600PE</td>\n      <td>9.40</td>\n      <td>-0.07</td>\n      <td>1970-01-01T00:00:00Z</td>\n      <td>10377000</td>\n      <td>-0.403</td>\n      <td>42922500</td>\n      <td>...</td>\n      <td>0.03</td>\n      <td>1970-01-01T00:00:00Z</td>\n      <td>5596500</td>\n      <td>0.020</td>\n      <td>18556500</td>\n      <td>-0.3799</td>\n      <td>-0.4220</td>\n      <td>0.0201</td>\n      <td>0.3909</td>\n      <td>0.194397</td>\n    </tr>\n  </tbody>\n</table>\n<p>5 rows × 26 columns</p>\n</div>"
     },
     "execution_count": 30,
     "metadata": {},
     "output_type": "execute_result"
    }
   ],
   "source": [
    "greeks_df.head()"
   ],
   "metadata": {
    "collapsed": false,
    "ExecuteTime": {
     "end_time": "2023-09-19T14:38:03.264769500Z",
     "start_time": "2023-09-19T14:38:03.214752300Z"
    }
   },
   "id": "f0cb65aa0ccb3102"
  },
  {
   "cell_type": "code",
   "execution_count": null,
   "outputs": [],
   "source": [],
   "metadata": {
    "collapsed": false
   },
   "id": "8753da6637425366"
  }
 ],
 "metadata": {
  "kernelspec": {
   "name": "python3",
   "language": "python",
   "display_name": "Python 3 (ipykernel)"
  }
 },
 "nbformat": 4,
 "nbformat_minor": 5
}
